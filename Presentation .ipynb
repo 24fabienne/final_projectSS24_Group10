{
 "cells": [
  {
   "cell_type": "code",
   "execution_count": 1,
   "id": "957fc717",
   "metadata": {},
   "outputs": [],
   "source": [
    "import pandas as pd\n",
    "import numpy as np\n",
    "import matplotlib.pyplot as plt \n",
    "from scipy import stats\n",
    "from scipy.stats import linregress\n",
    "import statsmodels.api as sm\n",
    "import statsmodels.formula.api as smf\n",
    "import seaborn as sns\n",
    "import warnings \n",
    "%matplotlib inline"
   ]
  },
  {
   "cell_type": "markdown",
   "id": "44ec4f9c",
   "metadata": {},
   "source": [
    "# Die Elektratuto AG"
   ]
  },
  {
   "cell_type": "markdown",
   "id": "93eb109a",
   "metadata": {},
   "source": [
    "Präsentation an der HWR Brlin, Sommersemester 2024\n",
    "\n",
    "Präsentiert von: Muhammed Yasin Kilic\n",
    "\n",
    "Präsentiert am: 28.06.24"
   ]
  }
 ],
 "metadata": {
  "kernelspec": {
   "display_name": "Python 3 (ipykernel)",
   "language": "python",
   "name": "python3"
  },
  "language_info": {
   "codemirror_mode": {
    "name": "ipython",
    "version": 3
   },
   "file_extension": ".py",
   "mimetype": "text/x-python",
   "name": "python",
   "nbconvert_exporter": "python",
   "pygments_lexer": "ipython3",
   "version": "3.11.5"
  }
 },
 "nbformat": 4,
 "nbformat_minor": 5
}
