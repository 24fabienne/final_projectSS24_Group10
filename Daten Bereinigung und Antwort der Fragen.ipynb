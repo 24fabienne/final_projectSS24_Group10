{
 "cells": [
  {
   "cell_type": "code",
   "execution_count": 1,
   "id": "53f7e76f",
   "metadata": {},
   "outputs": [],
   "source": [
    "import pandas as pd\n",
    "import numpy as np\n",
    "import matplotlib.pyplot as plt \n",
    "from scipy import stats\n",
    "from scipy.stats import linregress\n",
    "import statsmodels.api as sm\n",
    "import statsmodels.formula.api as smf\n",
    "import seaborn as sns\n",
    "import warnings \n",
    "%matplotlib inline"
   ]
  },
  {
   "cell_type": "markdown",
   "id": "3fa3ad54",
   "metadata": {},
   "source": [
    "# 1. Datenpfad zuweisen"
   ]
  },
  {
   "cell_type": "code",
   "execution_count": 2,
   "id": "d6d12a55",
   "metadata": {},
   "outputs": [],
   "source": [
    "csv_1 = \"data/kunden.csv\"\n",
    "csv_2 = \"data/besucher.csv\""
   ]
  },
  {
   "cell_type": "markdown",
   "id": "3b74851c",
   "metadata": {},
   "source": [
    "# 2. Laden der Dateien mit Pandas"
   ]
  },
  {
   "cell_type": "code",
   "execution_count": 3,
   "id": "2d0f80a7",
   "metadata": {},
   "outputs": [],
   "source": [
    "dp_1 = pd.read_csv(csv_1, sep = \";\")\n",
    "dp_2 = pd.read_csv(csv_2, sep = \";\")"
   ]
  },
  {
   "cell_type": "code",
   "execution_count": 4,
   "id": "8d4c878b",
   "metadata": {},
   "outputs": [
    {
     "data": {
      "text/html": [
       "<div>\n",
       "<style scoped>\n",
       "    .dataframe tbody tr th:only-of-type {\n",
       "        vertical-align: middle;\n",
       "    }\n",
       "\n",
       "    .dataframe tbody tr th {\n",
       "        vertical-align: top;\n",
       "    }\n",
       "\n",
       "    .dataframe thead th {\n",
       "        text-align: right;\n",
       "    }\n",
       "</style>\n",
       "<table border=\"1\" class=\"dataframe\">\n",
       "  <thead>\n",
       "    <tr style=\"text-align: right;\">\n",
       "      <th></th>\n",
       "      <th>Alter</th>\n",
       "      <th>Einkommen</th>\n",
       "      <th>Preis</th>\n",
       "      <th>Geschlecht</th>\n",
       "      <th>Zeit</th>\n",
       "      <th>KundeNr</th>\n",
       "    </tr>\n",
       "  </thead>\n",
       "  <tbody>\n",
       "    <tr>\n",
       "      <th>0</th>\n",
       "      <td>64</td>\n",
       "      <td>66894.0</td>\n",
       "      <td>88160.31</td>\n",
       "      <td>1.0</td>\n",
       "      <td>43.0</td>\n",
       "      <td>K0310</td>\n",
       "    </tr>\n",
       "    <tr>\n",
       "      <th>1</th>\n",
       "      <td>54</td>\n",
       "      <td>77644.0</td>\n",
       "      <td>103145.70</td>\n",
       "      <td>1.0</td>\n",
       "      <td>40.0</td>\n",
       "      <td>K1042</td>\n",
       "    </tr>\n",
       "    <tr>\n",
       "      <th>2</th>\n",
       "      <td>55</td>\n",
       "      <td>44341.0</td>\n",
       "      <td>80565.16</td>\n",
       "      <td>0.0</td>\n",
       "      <td>37.0</td>\n",
       "      <td>K0382</td>\n",
       "    </tr>\n",
       "    <tr>\n",
       "      <th>3</th>\n",
       "      <td>49</td>\n",
       "      <td>67271.0</td>\n",
       "      <td>83949.89</td>\n",
       "      <td>0.0</td>\n",
       "      <td>42.0</td>\n",
       "      <td>K0498</td>\n",
       "    </tr>\n",
       "    <tr>\n",
       "      <th>4</th>\n",
       "      <td>46</td>\n",
       "      <td>49832.0</td>\n",
       "      <td>93781.58</td>\n",
       "      <td>0.0</td>\n",
       "      <td>41.0</td>\n",
       "      <td>K0552</td>\n",
       "    </tr>\n",
       "    <tr>\n",
       "      <th>...</th>\n",
       "      <td>...</td>\n",
       "      <td>...</td>\n",
       "      <td>...</td>\n",
       "      <td>...</td>\n",
       "      <td>...</td>\n",
       "      <td>...</td>\n",
       "    </tr>\n",
       "    <tr>\n",
       "      <th>1099</th>\n",
       "      <td>70</td>\n",
       "      <td>69581.0</td>\n",
       "      <td>103751.58</td>\n",
       "      <td>1.0</td>\n",
       "      <td>51.0</td>\n",
       "      <td>K0467</td>\n",
       "    </tr>\n",
       "    <tr>\n",
       "      <th>1100</th>\n",
       "      <td>38</td>\n",
       "      <td>48301.0</td>\n",
       "      <td>64230.98</td>\n",
       "      <td>1.0</td>\n",
       "      <td>33.0</td>\n",
       "      <td>K0122</td>\n",
       "    </tr>\n",
       "    <tr>\n",
       "      <th>1101</th>\n",
       "      <td>67</td>\n",
       "      <td>63547.0</td>\n",
       "      <td>103123.57</td>\n",
       "      <td>1.0</td>\n",
       "      <td>41.0</td>\n",
       "      <td>K1045</td>\n",
       "    </tr>\n",
       "    <tr>\n",
       "      <th>1102</th>\n",
       "      <td>37</td>\n",
       "      <td>32686.0</td>\n",
       "      <td>49215.87</td>\n",
       "      <td>1.0</td>\n",
       "      <td>36.0</td>\n",
       "      <td>K1096</td>\n",
       "    </tr>\n",
       "    <tr>\n",
       "      <th>1103</th>\n",
       "      <td>55</td>\n",
       "      <td>71240.0</td>\n",
       "      <td>106132.59</td>\n",
       "      <td>1.0</td>\n",
       "      <td>49.0</td>\n",
       "      <td>K0861</td>\n",
       "    </tr>\n",
       "  </tbody>\n",
       "</table>\n",
       "<p>1104 rows × 6 columns</p>\n",
       "</div>"
      ],
      "text/plain": [
       "      Alter  Einkommen      Preis  Geschlecht  Zeit KundeNr\n",
       "0        64    66894.0   88160.31         1.0  43.0   K0310\n",
       "1        54    77644.0  103145.70         1.0  40.0   K1042\n",
       "2        55    44341.0   80565.16         0.0  37.0   K0382\n",
       "3        49    67271.0   83949.89         0.0  42.0   K0498\n",
       "4        46    49832.0   93781.58         0.0  41.0   K0552\n",
       "...     ...        ...        ...         ...   ...     ...\n",
       "1099     70    69581.0  103751.58         1.0  51.0   K0467\n",
       "1100     38    48301.0   64230.98         1.0  33.0   K0122\n",
       "1101     67    63547.0  103123.57         1.0  41.0   K1045\n",
       "1102     37    32686.0   49215.87         1.0  36.0   K1096\n",
       "1103     55    71240.0  106132.59         1.0  49.0   K0861\n",
       "\n",
       "[1104 rows x 6 columns]"
      ]
     },
     "execution_count": 4,
     "metadata": {},
     "output_type": "execute_result"
    }
   ],
   "source": [
    "dp_1"
   ]
  },
  {
   "cell_type": "code",
   "execution_count": 5,
   "id": "27d74d72",
   "metadata": {},
   "outputs": [
    {
     "data": {
      "text/html": [
       "<div>\n",
       "<style scoped>\n",
       "    .dataframe tbody tr th:only-of-type {\n",
       "        vertical-align: middle;\n",
       "    }\n",
       "\n",
       "    .dataframe tbody tr th {\n",
       "        vertical-align: top;\n",
       "    }\n",
       "\n",
       "    .dataframe thead th {\n",
       "        text-align: right;\n",
       "    }\n",
       "</style>\n",
       "<table border=\"1\" class=\"dataframe\">\n",
       "  <thead>\n",
       "    <tr style=\"text-align: right;\">\n",
       "      <th></th>\n",
       "      <th>Alter</th>\n",
       "      <th>Einkommen</th>\n",
       "      <th>Geschlecht</th>\n",
       "      <th>Zeit</th>\n",
       "      <th>KundeNr</th>\n",
       "    </tr>\n",
       "  </thead>\n",
       "  <tbody>\n",
       "    <tr>\n",
       "      <th>0</th>\n",
       "      <td>30</td>\n",
       "      <td>39919,0953348874</td>\n",
       "      <td>0</td>\n",
       "      <td>29,0</td>\n",
       "      <td>K1814</td>\n",
       "    </tr>\n",
       "    <tr>\n",
       "      <th>1</th>\n",
       "      <td>41</td>\n",
       "      <td>53430,67308587748</td>\n",
       "      <td>0</td>\n",
       "      <td>27,0</td>\n",
       "      <td>K1544</td>\n",
       "    </tr>\n",
       "    <tr>\n",
       "      <th>2</th>\n",
       "      <td>64</td>\n",
       "      <td>73163,2169267002</td>\n",
       "      <td>0</td>\n",
       "      <td>32,0</td>\n",
       "      <td>K1945</td>\n",
       "    </tr>\n",
       "    <tr>\n",
       "      <th>3</th>\n",
       "      <td>41</td>\n",
       "      <td>36761,482581315344</td>\n",
       "      <td>0</td>\n",
       "      <td>44,0</td>\n",
       "      <td>K1825</td>\n",
       "    </tr>\n",
       "    <tr>\n",
       "      <th>4</th>\n",
       "      <td>35</td>\n",
       "      <td>42684,33163178136</td>\n",
       "      <td>1</td>\n",
       "      <td>33,0</td>\n",
       "      <td>K1144</td>\n",
       "    </tr>\n",
       "    <tr>\n",
       "      <th>...</th>\n",
       "      <td>...</td>\n",
       "      <td>...</td>\n",
       "      <td>...</td>\n",
       "      <td>...</td>\n",
       "      <td>...</td>\n",
       "    </tr>\n",
       "    <tr>\n",
       "      <th>886</th>\n",
       "      <td>32</td>\n",
       "      <td>34391,82496545645</td>\n",
       "      <td>1</td>\n",
       "      <td>48,0</td>\n",
       "      <td>K1211</td>\n",
       "    </tr>\n",
       "    <tr>\n",
       "      <th>887</th>\n",
       "      <td>41</td>\n",
       "      <td>68516,49543941053</td>\n",
       "      <td>0</td>\n",
       "      <td>34,0</td>\n",
       "      <td>K1375</td>\n",
       "    </tr>\n",
       "    <tr>\n",
       "      <th>888</th>\n",
       "      <td>65</td>\n",
       "      <td>89685,33344089528</td>\n",
       "      <td>0</td>\n",
       "      <td>23,0</td>\n",
       "      <td>K1965</td>\n",
       "    </tr>\n",
       "    <tr>\n",
       "      <th>889</th>\n",
       "      <td>68</td>\n",
       "      <td>95714,30526812703</td>\n",
       "      <td>0</td>\n",
       "      <td>32,0</td>\n",
       "      <td>K1540</td>\n",
       "    </tr>\n",
       "    <tr>\n",
       "      <th>890</th>\n",
       "      <td>49</td>\n",
       "      <td>73319,1870845747</td>\n",
       "      <td>0</td>\n",
       "      <td>27,0</td>\n",
       "      <td>K1207</td>\n",
       "    </tr>\n",
       "  </tbody>\n",
       "</table>\n",
       "<p>891 rows × 5 columns</p>\n",
       "</div>"
      ],
      "text/plain": [
       "     Alter           Einkommen  Geschlecht  Zeit KundeNr\n",
       "0       30    39919,0953348874           0  29,0   K1814\n",
       "1       41   53430,67308587748           0  27,0   K1544\n",
       "2       64    73163,2169267002           0  32,0   K1945\n",
       "3       41  36761,482581315344           0  44,0   K1825\n",
       "4       35   42684,33163178136           1  33,0   K1144\n",
       "..     ...                 ...         ...   ...     ...\n",
       "886     32   34391,82496545645           1  48,0   K1211\n",
       "887     41   68516,49543941053           0  34,0   K1375\n",
       "888     65   89685,33344089528           0  23,0   K1965\n",
       "889     68   95714,30526812703           0  32,0   K1540\n",
       "890     49    73319,1870845747           0  27,0   K1207\n",
       "\n",
       "[891 rows x 5 columns]"
      ]
     },
     "execution_count": 5,
     "metadata": {},
     "output_type": "execute_result"
    }
   ],
   "source": [
    "dp_2"
   ]
  },
  {
   "cell_type": "markdown",
   "id": "ee6e8820",
   "metadata": {},
   "source": [
    "# 3. Überblick über Datentypen verschaffen"
   ]
  },
  {
   "cell_type": "code",
   "execution_count": 6,
   "id": "9e828858",
   "metadata": {},
   "outputs": [
    {
     "data": {
      "text/plain": [
       "Alter           int64\n",
       "Einkommen     float64\n",
       "Preis         float64\n",
       "Geschlecht    float64\n",
       "Zeit          float64\n",
       "KundeNr        object\n",
       "dtype: object"
      ]
     },
     "execution_count": 6,
     "metadata": {},
     "output_type": "execute_result"
    }
   ],
   "source": [
    "dp_1.dtypes"
   ]
  },
  {
   "cell_type": "code",
   "execution_count": 7,
   "id": "03767fa6",
   "metadata": {},
   "outputs": [
    {
     "data": {
      "text/plain": [
       "Alter          int64\n",
       "Einkommen     object\n",
       "Geschlecht     int64\n",
       "Zeit          object\n",
       "KundeNr       object\n",
       "dtype: object"
      ]
     },
     "execution_count": 7,
     "metadata": {},
     "output_type": "execute_result"
    }
   ],
   "source": [
    "dp_2.dtypes"
   ]
  },
  {
   "cell_type": "markdown",
   "id": "0b5e2431",
   "metadata": {},
   "source": [
    "# 4. Bestimmung fehlender Werte"
   ]
  },
  {
   "cell_type": "markdown",
   "id": "95a00434",
   "metadata": {},
   "source": [
    "Nur bei dp_1 Geschlecht, gibt es 5 fehlende Werte"
   ]
  },
  {
   "cell_type": "code",
   "execution_count": 8,
   "id": "9965fa91",
   "metadata": {},
   "outputs": [
    {
     "data": {
      "text/plain": [
       "Alter         0\n",
       "Einkommen     0\n",
       "Preis         0\n",
       "Geschlecht    5\n",
       "Zeit          0\n",
       "KundeNr       0\n",
       "dtype: int64"
      ]
     },
     "execution_count": 8,
     "metadata": {},
     "output_type": "execute_result"
    }
   ],
   "source": [
    "dp_1.isnull().sum()"
   ]
  },
  {
   "cell_type": "markdown",
   "id": "2bfb66e7",
   "metadata": {},
   "source": [
    "# 5. Nicht vorhandene Zaheln mit 1sen ersetzten"
   ]
  },
  {
   "cell_type": "code",
   "execution_count": 9,
   "id": "a9eef528",
   "metadata": {},
   "outputs": [
    {
     "data": {
      "text/plain": [
       "Alter         0\n",
       "Einkommen     0\n",
       "Preis         0\n",
       "Geschlecht    0\n",
       "Zeit          0\n",
       "KundeNr       0\n",
       "dtype: int64"
      ]
     },
     "execution_count": 9,
     "metadata": {},
     "output_type": "execute_result"
    }
   ],
   "source": [
    "dp_1[\"Geschlecht\"] = dp_1[\"Geschlecht\"].fillna(1)\n",
    "dp_1.isnull().sum()"
   ]
  },
  {
   "cell_type": "code",
   "execution_count": 10,
   "id": "33943d42",
   "metadata": {},
   "outputs": [
    {
     "data": {
      "text/plain": [
       "Alter         0\n",
       "Einkommen     0\n",
       "Geschlecht    0\n",
       "Zeit          0\n",
       "KundeNr       0\n",
       "dtype: int64"
      ]
     },
     "execution_count": 10,
     "metadata": {},
     "output_type": "execute_result"
    }
   ],
   "source": [
    "dp_2.isnull().sum()"
   ]
  },
  {
   "cell_type": "code",
   "execution_count": 11,
   "id": "8e6bd66a",
   "metadata": {},
   "outputs": [
    {
     "data": {
      "text/html": [
       "<div>\n",
       "<style scoped>\n",
       "    .dataframe tbody tr th:only-of-type {\n",
       "        vertical-align: middle;\n",
       "    }\n",
       "\n",
       "    .dataframe tbody tr th {\n",
       "        vertical-align: top;\n",
       "    }\n",
       "\n",
       "    .dataframe thead th {\n",
       "        text-align: right;\n",
       "    }\n",
       "</style>\n",
       "<table border=\"1\" class=\"dataframe\">\n",
       "  <thead>\n",
       "    <tr style=\"text-align: right;\">\n",
       "      <th></th>\n",
       "      <th>count</th>\n",
       "      <th>mean</th>\n",
       "      <th>std</th>\n",
       "      <th>min</th>\n",
       "      <th>25%</th>\n",
       "      <th>50%</th>\n",
       "      <th>75%</th>\n",
       "      <th>max</th>\n",
       "    </tr>\n",
       "  </thead>\n",
       "  <tbody>\n",
       "    <tr>\n",
       "      <th>Alter</th>\n",
       "      <td>1104.0</td>\n",
       "      <td>50.481884</td>\n",
       "      <td>1.222506e+01</td>\n",
       "      <td>30.000000</td>\n",
       "      <td>40.0000</td>\n",
       "      <td>51.000</td>\n",
       "      <td>61.000</td>\n",
       "      <td>1.200000e+02</td>\n",
       "    </tr>\n",
       "    <tr>\n",
       "      <th>Einkommen</th>\n",
       "      <td>1104.0</td>\n",
       "      <td>964474.817596</td>\n",
       "      <td>3.009470e+07</td>\n",
       "      <td>-62840.374523</td>\n",
       "      <td>46638.5000</td>\n",
       "      <td>59013.000</td>\n",
       "      <td>70298.000</td>\n",
       "      <td>1.000000e+09</td>\n",
       "    </tr>\n",
       "    <tr>\n",
       "      <th>Preis</th>\n",
       "      <td>1104.0</td>\n",
       "      <td>88975.198714</td>\n",
       "      <td>2.446407e+04</td>\n",
       "      <td>21471.650000</td>\n",
       "      <td>70609.4225</td>\n",
       "      <td>88931.455</td>\n",
       "      <td>107093.375</td>\n",
       "      <td>1.654823e+05</td>\n",
       "    </tr>\n",
       "    <tr>\n",
       "      <th>Geschlecht</th>\n",
       "      <td>1104.0</td>\n",
       "      <td>0.639493</td>\n",
       "      <td>4.803653e-01</td>\n",
       "      <td>0.000000</td>\n",
       "      <td>0.0000</td>\n",
       "      <td>1.000</td>\n",
       "      <td>1.000</td>\n",
       "      <td>1.000000e+00</td>\n",
       "    </tr>\n",
       "    <tr>\n",
       "      <th>Zeit</th>\n",
       "      <td>1104.0</td>\n",
       "      <td>44.375906</td>\n",
       "      <td>1.084804e+01</td>\n",
       "      <td>12.000000</td>\n",
       "      <td>37.0000</td>\n",
       "      <td>44.000</td>\n",
       "      <td>52.000</td>\n",
       "      <td>8.000000e+01</td>\n",
       "    </tr>\n",
       "  </tbody>\n",
       "</table>\n",
       "</div>"
      ],
      "text/plain": [
       "             count           mean           std           min         25%  \\\n",
       "Alter       1104.0      50.481884  1.222506e+01     30.000000     40.0000   \n",
       "Einkommen   1104.0  964474.817596  3.009470e+07 -62840.374523  46638.5000   \n",
       "Preis       1104.0   88975.198714  2.446407e+04  21471.650000  70609.4225   \n",
       "Geschlecht  1104.0       0.639493  4.803653e-01      0.000000      0.0000   \n",
       "Zeit        1104.0      44.375906  1.084804e+01     12.000000     37.0000   \n",
       "\n",
       "                  50%         75%           max  \n",
       "Alter          51.000      61.000  1.200000e+02  \n",
       "Einkommen   59013.000   70298.000  1.000000e+09  \n",
       "Preis       88931.455  107093.375  1.654823e+05  \n",
       "Geschlecht      1.000       1.000  1.000000e+00  \n",
       "Zeit           44.000      52.000  8.000000e+01  "
      ]
     },
     "execution_count": 11,
     "metadata": {},
     "output_type": "execute_result"
    }
   ],
   "source": [
    "dp_1.describe().T"
   ]
  },
  {
   "cell_type": "code",
   "execution_count": 12,
   "id": "8e3446b3",
   "metadata": {},
   "outputs": [
    {
     "data": {
      "text/html": [
       "<div>\n",
       "<style scoped>\n",
       "    .dataframe tbody tr th:only-of-type {\n",
       "        vertical-align: middle;\n",
       "    }\n",
       "\n",
       "    .dataframe tbody tr th {\n",
       "        vertical-align: top;\n",
       "    }\n",
       "\n",
       "    .dataframe thead th {\n",
       "        text-align: right;\n",
       "    }\n",
       "</style>\n",
       "<table border=\"1\" class=\"dataframe\">\n",
       "  <thead>\n",
       "    <tr style=\"text-align: right;\">\n",
       "      <th></th>\n",
       "      <th>count</th>\n",
       "      <th>mean</th>\n",
       "      <th>std</th>\n",
       "      <th>min</th>\n",
       "      <th>25%</th>\n",
       "      <th>50%</th>\n",
       "      <th>75%</th>\n",
       "      <th>max</th>\n",
       "    </tr>\n",
       "  </thead>\n",
       "  <tbody>\n",
       "    <tr>\n",
       "      <th>Alter</th>\n",
       "      <td>891.0</td>\n",
       "      <td>49.881033</td>\n",
       "      <td>11.865889</td>\n",
       "      <td>30.0</td>\n",
       "      <td>40.0</td>\n",
       "      <td>49.0</td>\n",
       "      <td>60.0</td>\n",
       "      <td>70.0</td>\n",
       "    </tr>\n",
       "    <tr>\n",
       "      <th>Geschlecht</th>\n",
       "      <td>891.0</td>\n",
       "      <td>0.578002</td>\n",
       "      <td>0.494156</td>\n",
       "      <td>0.0</td>\n",
       "      <td>0.0</td>\n",
       "      <td>1.0</td>\n",
       "      <td>1.0</td>\n",
       "      <td>1.0</td>\n",
       "    </tr>\n",
       "  </tbody>\n",
       "</table>\n",
       "</div>"
      ],
      "text/plain": [
       "            count       mean        std   min   25%   50%   75%   max\n",
       "Alter       891.0  49.881033  11.865889  30.0  40.0  49.0  60.0  70.0\n",
       "Geschlecht  891.0   0.578002   0.494156   0.0   0.0   1.0   1.0   1.0"
      ]
     },
     "execution_count": 12,
     "metadata": {},
     "output_type": "execute_result"
    }
   ],
   "source": [
    "dp_2.describe().T"
   ]
  },
  {
   "cell_type": "markdown",
   "id": "9596e244",
   "metadata": {},
   "source": [
    "# 6. Übersicht verschaffen"
   ]
  },
  {
   "cell_type": "markdown",
   "id": "a968551f",
   "metadata": {},
   "source": [
    "dp_1: Hohes alter (120 Jahre) und sehr hohes und niedriges Einkommen\n",
    "dp_2: Nichts außergewöhnliches"
   ]
  },
  {
   "cell_type": "code",
   "execution_count": 13,
   "id": "14a1551f",
   "metadata": {},
   "outputs": [
    {
     "data": {
      "text/html": [
       "<div>\n",
       "<style scoped>\n",
       "    .dataframe tbody tr th:only-of-type {\n",
       "        vertical-align: middle;\n",
       "    }\n",
       "\n",
       "    .dataframe tbody tr th {\n",
       "        vertical-align: top;\n",
       "    }\n",
       "\n",
       "    .dataframe thead th {\n",
       "        text-align: right;\n",
       "    }\n",
       "</style>\n",
       "<table border=\"1\" class=\"dataframe\">\n",
       "  <thead>\n",
       "    <tr style=\"text-align: right;\">\n",
       "      <th></th>\n",
       "      <th>Alter</th>\n",
       "      <th>Einkommen</th>\n",
       "      <th>Preis</th>\n",
       "      <th>Geschlecht</th>\n",
       "      <th>Zeit</th>\n",
       "    </tr>\n",
       "  </thead>\n",
       "  <tbody>\n",
       "    <tr>\n",
       "      <th>count</th>\n",
       "      <td>1104.000000</td>\n",
       "      <td>1.104000e+03</td>\n",
       "      <td>1104.000000</td>\n",
       "      <td>1104.000000</td>\n",
       "      <td>1104.000000</td>\n",
       "    </tr>\n",
       "    <tr>\n",
       "      <th>mean</th>\n",
       "      <td>50.481884</td>\n",
       "      <td>9.644748e+05</td>\n",
       "      <td>88975.198714</td>\n",
       "      <td>0.639493</td>\n",
       "      <td>44.375906</td>\n",
       "    </tr>\n",
       "    <tr>\n",
       "      <th>std</th>\n",
       "      <td>12.225059</td>\n",
       "      <td>3.009470e+07</td>\n",
       "      <td>24464.067781</td>\n",
       "      <td>0.480365</td>\n",
       "      <td>10.848040</td>\n",
       "    </tr>\n",
       "    <tr>\n",
       "      <th>min</th>\n",
       "      <td>30.000000</td>\n",
       "      <td>-6.284037e+04</td>\n",
       "      <td>21471.650000</td>\n",
       "      <td>0.000000</td>\n",
       "      <td>12.000000</td>\n",
       "    </tr>\n",
       "    <tr>\n",
       "      <th>25%</th>\n",
       "      <td>40.000000</td>\n",
       "      <td>4.663850e+04</td>\n",
       "      <td>70609.422500</td>\n",
       "      <td>0.000000</td>\n",
       "      <td>37.000000</td>\n",
       "    </tr>\n",
       "    <tr>\n",
       "      <th>50%</th>\n",
       "      <td>51.000000</td>\n",
       "      <td>5.901300e+04</td>\n",
       "      <td>88931.455000</td>\n",
       "      <td>1.000000</td>\n",
       "      <td>44.000000</td>\n",
       "    </tr>\n",
       "    <tr>\n",
       "      <th>75%</th>\n",
       "      <td>61.000000</td>\n",
       "      <td>7.029800e+04</td>\n",
       "      <td>107093.375000</td>\n",
       "      <td>1.000000</td>\n",
       "      <td>52.000000</td>\n",
       "    </tr>\n",
       "    <tr>\n",
       "      <th>max</th>\n",
       "      <td>120.000000</td>\n",
       "      <td>1.000000e+09</td>\n",
       "      <td>165482.310000</td>\n",
       "      <td>1.000000</td>\n",
       "      <td>80.000000</td>\n",
       "    </tr>\n",
       "  </tbody>\n",
       "</table>\n",
       "</div>"
      ],
      "text/plain": [
       "             Alter     Einkommen          Preis   Geschlecht         Zeit\n",
       "count  1104.000000  1.104000e+03    1104.000000  1104.000000  1104.000000\n",
       "mean     50.481884  9.644748e+05   88975.198714     0.639493    44.375906\n",
       "std      12.225059  3.009470e+07   24464.067781     0.480365    10.848040\n",
       "min      30.000000 -6.284037e+04   21471.650000     0.000000    12.000000\n",
       "25%      40.000000  4.663850e+04   70609.422500     0.000000    37.000000\n",
       "50%      51.000000  5.901300e+04   88931.455000     1.000000    44.000000\n",
       "75%      61.000000  7.029800e+04  107093.375000     1.000000    52.000000\n",
       "max     120.000000  1.000000e+09  165482.310000     1.000000    80.000000"
      ]
     },
     "execution_count": 13,
     "metadata": {},
     "output_type": "execute_result"
    }
   ],
   "source": [
    "dp_1.describe()"
   ]
  },
  {
   "cell_type": "markdown",
   "id": "2e2129f6",
   "metadata": {},
   "source": [
    "# 7. Alter überprüfen"
   ]
  },
  {
   "cell_type": "markdown",
   "id": "8e286aa8",
   "metadata": {},
   "source": [
    "Ausreißer sind 100 und 120 Jahre.\n",
    "Modalwert ist 55 Jahre.\n",
    "Ausreißer werden durch den Modalwert ersetzt."
   ]
  },
  {
   "cell_type": "code",
   "execution_count": 14,
   "id": "538cbdd8",
   "metadata": {},
   "outputs": [
    {
     "data": {
      "text/plain": [
       "Alter\n",
       "55     41\n",
       "62     39\n",
       "57     34\n",
       "66     33\n",
       "64     32\n",
       "30     32\n",
       "34     31\n",
       "69     30\n",
       "37     30\n",
       "31     30\n",
       "52     29\n",
       "54     29\n",
       "58     29\n",
       "65     29\n",
       "53     29\n",
       "61     29\n",
       "68     29\n",
       "59     28\n",
       "35     27\n",
       "51     27\n",
       "41     26\n",
       "40     26\n",
       "43     26\n",
       "32     26\n",
       "46     26\n",
       "39     24\n",
       "48     24\n",
       "38     24\n",
       "33     24\n",
       "44     23\n",
       "50     23\n",
       "67     23\n",
       "42     22\n",
       "70     22\n",
       "56     22\n",
       "45     22\n",
       "49     22\n",
       "63     21\n",
       "60     20\n",
       "47     20\n",
       "36     19\n",
       "100     1\n",
       "120     1\n",
       "Name: count, dtype: int64"
      ]
     },
     "execution_count": 14,
     "metadata": {},
     "output_type": "execute_result"
    }
   ],
   "source": [
    "dp_1[\"Alter\"]. value_counts()"
   ]
  },
  {
   "cell_type": "code",
   "execution_count": 15,
   "id": "417c8ba1",
   "metadata": {},
   "outputs": [
    {
     "data": {
      "text/html": [
       "<div>\n",
       "<style scoped>\n",
       "    .dataframe tbody tr th:only-of-type {\n",
       "        vertical-align: middle;\n",
       "    }\n",
       "\n",
       "    .dataframe tbody tr th {\n",
       "        vertical-align: top;\n",
       "    }\n",
       "\n",
       "    .dataframe thead th {\n",
       "        text-align: right;\n",
       "    }\n",
       "</style>\n",
       "<table border=\"1\" class=\"dataframe\">\n",
       "  <thead>\n",
       "    <tr style=\"text-align: right;\">\n",
       "      <th></th>\n",
       "      <th>Alter</th>\n",
       "      <th>Einkommen</th>\n",
       "      <th>Preis</th>\n",
       "      <th>Geschlecht</th>\n",
       "      <th>Zeit</th>\n",
       "    </tr>\n",
       "  </thead>\n",
       "  <tbody>\n",
       "    <tr>\n",
       "      <th>count</th>\n",
       "      <td>1104.000000</td>\n",
       "      <td>1.104000e+03</td>\n",
       "      <td>1104.000000</td>\n",
       "      <td>1104.000000</td>\n",
       "      <td>1104.000000</td>\n",
       "    </tr>\n",
       "    <tr>\n",
       "      <th>mean</th>\n",
       "      <td>50.382246</td>\n",
       "      <td>9.644748e+05</td>\n",
       "      <td>88975.198714</td>\n",
       "      <td>0.639493</td>\n",
       "      <td>44.375906</td>\n",
       "    </tr>\n",
       "    <tr>\n",
       "      <th>std</th>\n",
       "      <td>11.953017</td>\n",
       "      <td>3.009470e+07</td>\n",
       "      <td>24464.067781</td>\n",
       "      <td>0.480365</td>\n",
       "      <td>10.848040</td>\n",
       "    </tr>\n",
       "    <tr>\n",
       "      <th>min</th>\n",
       "      <td>30.000000</td>\n",
       "      <td>-6.284037e+04</td>\n",
       "      <td>21471.650000</td>\n",
       "      <td>0.000000</td>\n",
       "      <td>12.000000</td>\n",
       "    </tr>\n",
       "    <tr>\n",
       "      <th>25%</th>\n",
       "      <td>40.000000</td>\n",
       "      <td>4.663850e+04</td>\n",
       "      <td>70609.422500</td>\n",
       "      <td>0.000000</td>\n",
       "      <td>37.000000</td>\n",
       "    </tr>\n",
       "    <tr>\n",
       "      <th>50%</th>\n",
       "      <td>51.000000</td>\n",
       "      <td>5.901300e+04</td>\n",
       "      <td>88931.455000</td>\n",
       "      <td>1.000000</td>\n",
       "      <td>44.000000</td>\n",
       "    </tr>\n",
       "    <tr>\n",
       "      <th>75%</th>\n",
       "      <td>61.000000</td>\n",
       "      <td>7.029800e+04</td>\n",
       "      <td>107093.375000</td>\n",
       "      <td>1.000000</td>\n",
       "      <td>52.000000</td>\n",
       "    </tr>\n",
       "    <tr>\n",
       "      <th>max</th>\n",
       "      <td>70.000000</td>\n",
       "      <td>1.000000e+09</td>\n",
       "      <td>165482.310000</td>\n",
       "      <td>1.000000</td>\n",
       "      <td>80.000000</td>\n",
       "    </tr>\n",
       "  </tbody>\n",
       "</table>\n",
       "</div>"
      ],
      "text/plain": [
       "             Alter     Einkommen          Preis   Geschlecht         Zeit\n",
       "count  1104.000000  1.104000e+03    1104.000000  1104.000000  1104.000000\n",
       "mean     50.382246  9.644748e+05   88975.198714     0.639493    44.375906\n",
       "std      11.953017  3.009470e+07   24464.067781     0.480365    10.848040\n",
       "min      30.000000 -6.284037e+04   21471.650000     0.000000    12.000000\n",
       "25%      40.000000  4.663850e+04   70609.422500     0.000000    37.000000\n",
       "50%      51.000000  5.901300e+04   88931.455000     1.000000    44.000000\n",
       "75%      61.000000  7.029800e+04  107093.375000     1.000000    52.000000\n",
       "max      70.000000  1.000000e+09  165482.310000     1.000000    80.000000"
      ]
     },
     "execution_count": 15,
     "metadata": {},
     "output_type": "execute_result"
    }
   ],
   "source": [
    "dp_1[\"Alter\"] = dp_1[\"Alter\"]. apply(lambda x: 55 if x >= 100 else x)\n",
    "dp_1.describe()"
   ]
  },
  {
   "cell_type": "markdown",
   "id": "a2ece962",
   "metadata": {},
   "source": [
    "# 8. Ausreißer durch Median ersetzen"
   ]
  },
  {
   "cell_type": "markdown",
   "id": "da163211",
   "metadata": {},
   "source": [
    "Alle Einkommen über 1.000.000€ Einkommen und unter 0€ Einkommen, werden durch den Median ersetzt."
   ]
  },
  {
   "cell_type": "code",
   "execution_count": 16,
   "id": "8a77900e",
   "metadata": {},
   "outputs": [
    {
     "data": {
      "text/plain": [
       "59013.0"
      ]
     },
     "execution_count": 16,
     "metadata": {},
     "output_type": "execute_result"
    }
   ],
   "source": [
    "median_einkommen = dp_1[\"Einkommen\"].median()\n",
    "median_einkommen"
   ]
  },
  {
   "cell_type": "code",
   "execution_count": 17,
   "id": "8dbede68",
   "metadata": {
    "scrolled": true
   },
   "outputs": [
    {
     "data": {
      "text/html": [
       "<div>\n",
       "<style scoped>\n",
       "    .dataframe tbody tr th:only-of-type {\n",
       "        vertical-align: middle;\n",
       "    }\n",
       "\n",
       "    .dataframe tbody tr th {\n",
       "        vertical-align: top;\n",
       "    }\n",
       "\n",
       "    .dataframe thead th {\n",
       "        text-align: right;\n",
       "    }\n",
       "</style>\n",
       "<table border=\"1\" class=\"dataframe\">\n",
       "  <thead>\n",
       "    <tr style=\"text-align: right;\">\n",
       "      <th></th>\n",
       "      <th>Alter</th>\n",
       "      <th>Einkommen</th>\n",
       "      <th>Preis</th>\n",
       "      <th>Geschlecht</th>\n",
       "      <th>Zeit</th>\n",
       "    </tr>\n",
       "  </thead>\n",
       "  <tbody>\n",
       "    <tr>\n",
       "      <th>count</th>\n",
       "      <td>1104.000000</td>\n",
       "      <td>1104.000000</td>\n",
       "      <td>1104.000000</td>\n",
       "      <td>1104.000000</td>\n",
       "      <td>1104.000000</td>\n",
       "    </tr>\n",
       "    <tr>\n",
       "      <th>mean</th>\n",
       "      <td>50.382246</td>\n",
       "      <td>58894.998188</td>\n",
       "      <td>88975.198714</td>\n",
       "      <td>0.639493</td>\n",
       "      <td>44.375906</td>\n",
       "    </tr>\n",
       "    <tr>\n",
       "      <th>std</th>\n",
       "      <td>11.953017</td>\n",
       "      <td>16509.072600</td>\n",
       "      <td>24464.067781</td>\n",
       "      <td>0.480365</td>\n",
       "      <td>10.848040</td>\n",
       "    </tr>\n",
       "    <tr>\n",
       "      <th>min</th>\n",
       "      <td>30.000000</td>\n",
       "      <td>14547.000000</td>\n",
       "      <td>21471.650000</td>\n",
       "      <td>0.000000</td>\n",
       "      <td>12.000000</td>\n",
       "    </tr>\n",
       "    <tr>\n",
       "      <th>25%</th>\n",
       "      <td>40.000000</td>\n",
       "      <td>46697.000000</td>\n",
       "      <td>70609.422500</td>\n",
       "      <td>0.000000</td>\n",
       "      <td>37.000000</td>\n",
       "    </tr>\n",
       "    <tr>\n",
       "      <th>50%</th>\n",
       "      <td>51.000000</td>\n",
       "      <td>59013.000000</td>\n",
       "      <td>88931.455000</td>\n",
       "      <td>1.000000</td>\n",
       "      <td>44.000000</td>\n",
       "    </tr>\n",
       "    <tr>\n",
       "      <th>75%</th>\n",
       "      <td>61.000000</td>\n",
       "      <td>70281.750000</td>\n",
       "      <td>107093.375000</td>\n",
       "      <td>1.000000</td>\n",
       "      <td>52.000000</td>\n",
       "    </tr>\n",
       "    <tr>\n",
       "      <th>max</th>\n",
       "      <td>70.000000</td>\n",
       "      <td>107689.000000</td>\n",
       "      <td>165482.310000</td>\n",
       "      <td>1.000000</td>\n",
       "      <td>80.000000</td>\n",
       "    </tr>\n",
       "  </tbody>\n",
       "</table>\n",
       "</div>"
      ],
      "text/plain": [
       "             Alter      Einkommen          Preis   Geschlecht         Zeit\n",
       "count  1104.000000    1104.000000    1104.000000  1104.000000  1104.000000\n",
       "mean     50.382246   58894.998188   88975.198714     0.639493    44.375906\n",
       "std      11.953017   16509.072600   24464.067781     0.480365    10.848040\n",
       "min      30.000000   14547.000000   21471.650000     0.000000    12.000000\n",
       "25%      40.000000   46697.000000   70609.422500     0.000000    37.000000\n",
       "50%      51.000000   59013.000000   88931.455000     1.000000    44.000000\n",
       "75%      61.000000   70281.750000  107093.375000     1.000000    52.000000\n",
       "max      70.000000  107689.000000  165482.310000     1.000000    80.000000"
      ]
     },
     "execution_count": 17,
     "metadata": {},
     "output_type": "execute_result"
    }
   ],
   "source": [
    "dp_1[\"Einkommen\"] = dp_1[\"Einkommen\"].apply(lambda x: median_einkommen if x >=1000000 or x <= 0 else x)\n",
    "dp_1.describe()"
   ]
  },
  {
   "cell_type": "markdown",
   "id": "10ceb59a",
   "metadata": {},
   "source": [
    "# 9. Typen der dp_1 und dp_2 ändern"
   ]
  },
  {
   "cell_type": "markdown",
   "id": "7caf8d88",
   "metadata": {},
   "source": [
    "Einkommen muss zu \"Float\" geändert werden (numerischer Wert)\n",
    "Geschlecht muss zu \"Int\" geändert werden (Ganzzahlen 0 & 1)\n",
    "Zeit muss zu \"Float\" geändert werden (numerischer Wert)"
   ]
  },
  {
   "cell_type": "code",
   "execution_count": 18,
   "id": "ef6986c7",
   "metadata": {},
   "outputs": [
    {
     "data": {
      "text/plain": [
       "Alter           int64\n",
       "Einkommen     float64\n",
       "Preis         float64\n",
       "Geschlecht      int64\n",
       "Zeit          float64\n",
       "KundeNr        object\n",
       "dtype: object"
      ]
     },
     "execution_count": 18,
     "metadata": {},
     "output_type": "execute_result"
    }
   ],
   "source": [
    "dp_1[\"Geschlecht\"] = dp_1[\"Geschlecht\"].astype(\"int64\")\n",
    "dp_1.dtypes"
   ]
  },
  {
   "cell_type": "code",
   "execution_count": 19,
   "id": "b4982058",
   "metadata": {},
   "outputs": [
    {
     "data": {
      "text/plain": [
       "Alter           int64\n",
       "Einkommen     float64\n",
       "Geschlecht      int64\n",
       "Zeit          float64\n",
       "KundeNr        object\n",
       "dtype: object"
      ]
     },
     "execution_count": 19,
     "metadata": {},
     "output_type": "execute_result"
    }
   ],
   "source": [
    "dp_2[\"Einkommen\"] = pd.to_numeric(dp_2[\"Einkommen\"].str.replace(',','.'), errors = \"coerce\")\n",
    "dp_2[\"Zeit\"] = pd.to_numeric(dp_2[\"Zeit\"].str.replace(',','.'), errors = \"coerce\")\n",
    "dp_2.dtypes"
   ]
  },
  {
   "cell_type": "markdown",
   "id": "533da344",
   "metadata": {},
   "source": [
    "# 10. Zusammenfügen der Datensätze"
   ]
  },
  {
   "cell_type": "code",
   "execution_count": 20,
   "id": "7df5f9e9",
   "metadata": {},
   "outputs": [],
   "source": [
    "dp_3 = pd.concat([dp_1, dp_2],\n",
    "            axis = 0,\n",
    "            ignore_index = True)"
   ]
  },
  {
   "cell_type": "code",
   "execution_count": 21,
   "id": "1c6bb739",
   "metadata": {},
   "outputs": [
    {
     "data": {
      "text/html": [
       "<div>\n",
       "<style scoped>\n",
       "    .dataframe tbody tr th:only-of-type {\n",
       "        vertical-align: middle;\n",
       "    }\n",
       "\n",
       "    .dataframe tbody tr th {\n",
       "        vertical-align: top;\n",
       "    }\n",
       "\n",
       "    .dataframe thead th {\n",
       "        text-align: right;\n",
       "    }\n",
       "</style>\n",
       "<table border=\"1\" class=\"dataframe\">\n",
       "  <thead>\n",
       "    <tr style=\"text-align: right;\">\n",
       "      <th></th>\n",
       "      <th>Alter</th>\n",
       "      <th>Einkommen</th>\n",
       "      <th>Preis</th>\n",
       "      <th>Geschlecht</th>\n",
       "      <th>Zeit</th>\n",
       "      <th>KundeNr</th>\n",
       "    </tr>\n",
       "  </thead>\n",
       "  <tbody>\n",
       "    <tr>\n",
       "      <th>0</th>\n",
       "      <td>64</td>\n",
       "      <td>66894.000000</td>\n",
       "      <td>88160.31</td>\n",
       "      <td>1</td>\n",
       "      <td>43.0</td>\n",
       "      <td>K0310</td>\n",
       "    </tr>\n",
       "    <tr>\n",
       "      <th>1</th>\n",
       "      <td>54</td>\n",
       "      <td>77644.000000</td>\n",
       "      <td>103145.70</td>\n",
       "      <td>1</td>\n",
       "      <td>40.0</td>\n",
       "      <td>K1042</td>\n",
       "    </tr>\n",
       "    <tr>\n",
       "      <th>2</th>\n",
       "      <td>55</td>\n",
       "      <td>44341.000000</td>\n",
       "      <td>80565.16</td>\n",
       "      <td>0</td>\n",
       "      <td>37.0</td>\n",
       "      <td>K0382</td>\n",
       "    </tr>\n",
       "    <tr>\n",
       "      <th>3</th>\n",
       "      <td>49</td>\n",
       "      <td>67271.000000</td>\n",
       "      <td>83949.89</td>\n",
       "      <td>0</td>\n",
       "      <td>42.0</td>\n",
       "      <td>K0498</td>\n",
       "    </tr>\n",
       "    <tr>\n",
       "      <th>4</th>\n",
       "      <td>46</td>\n",
       "      <td>49832.000000</td>\n",
       "      <td>93781.58</td>\n",
       "      <td>0</td>\n",
       "      <td>41.0</td>\n",
       "      <td>K0552</td>\n",
       "    </tr>\n",
       "    <tr>\n",
       "      <th>...</th>\n",
       "      <td>...</td>\n",
       "      <td>...</td>\n",
       "      <td>...</td>\n",
       "      <td>...</td>\n",
       "      <td>...</td>\n",
       "      <td>...</td>\n",
       "    </tr>\n",
       "    <tr>\n",
       "      <th>1990</th>\n",
       "      <td>32</td>\n",
       "      <td>34391.824965</td>\n",
       "      <td>NaN</td>\n",
       "      <td>1</td>\n",
       "      <td>48.0</td>\n",
       "      <td>K1211</td>\n",
       "    </tr>\n",
       "    <tr>\n",
       "      <th>1991</th>\n",
       "      <td>41</td>\n",
       "      <td>68516.495439</td>\n",
       "      <td>NaN</td>\n",
       "      <td>0</td>\n",
       "      <td>34.0</td>\n",
       "      <td>K1375</td>\n",
       "    </tr>\n",
       "    <tr>\n",
       "      <th>1992</th>\n",
       "      <td>65</td>\n",
       "      <td>89685.333441</td>\n",
       "      <td>NaN</td>\n",
       "      <td>0</td>\n",
       "      <td>23.0</td>\n",
       "      <td>K1965</td>\n",
       "    </tr>\n",
       "    <tr>\n",
       "      <th>1993</th>\n",
       "      <td>68</td>\n",
       "      <td>95714.305268</td>\n",
       "      <td>NaN</td>\n",
       "      <td>0</td>\n",
       "      <td>32.0</td>\n",
       "      <td>K1540</td>\n",
       "    </tr>\n",
       "    <tr>\n",
       "      <th>1994</th>\n",
       "      <td>49</td>\n",
       "      <td>73319.187085</td>\n",
       "      <td>NaN</td>\n",
       "      <td>0</td>\n",
       "      <td>27.0</td>\n",
       "      <td>K1207</td>\n",
       "    </tr>\n",
       "  </tbody>\n",
       "</table>\n",
       "<p>1995 rows × 6 columns</p>\n",
       "</div>"
      ],
      "text/plain": [
       "      Alter     Einkommen      Preis  Geschlecht  Zeit KundeNr\n",
       "0        64  66894.000000   88160.31           1  43.0   K0310\n",
       "1        54  77644.000000  103145.70           1  40.0   K1042\n",
       "2        55  44341.000000   80565.16           0  37.0   K0382\n",
       "3        49  67271.000000   83949.89           0  42.0   K0498\n",
       "4        46  49832.000000   93781.58           0  41.0   K0552\n",
       "...     ...           ...        ...         ...   ...     ...\n",
       "1990     32  34391.824965        NaN           1  48.0   K1211\n",
       "1991     41  68516.495439        NaN           0  34.0   K1375\n",
       "1992     65  89685.333441        NaN           0  23.0   K1965\n",
       "1993     68  95714.305268        NaN           0  32.0   K1540\n",
       "1994     49  73319.187085        NaN           0  27.0   K1207\n",
       "\n",
       "[1995 rows x 6 columns]"
      ]
     },
     "execution_count": 21,
     "metadata": {},
     "output_type": "execute_result"
    }
   ],
   "source": [
    "dp_3"
   ]
  },
  {
   "cell_type": "markdown",
   "id": "0bf6963d",
   "metadata": {},
   "source": [
    "Einkommen sollte gerundet werden."
   ]
  },
  {
   "cell_type": "code",
   "execution_count": 22,
   "id": "42b1a6e6",
   "metadata": {},
   "outputs": [],
   "source": [
    "dp_3[\"Einkommen\"] = dp_3 [\"Einkommen\"]. round (3)"
   ]
  },
  {
   "cell_type": "code",
   "execution_count": 23,
   "id": "762b126e",
   "metadata": {},
   "outputs": [
    {
     "data": {
      "text/html": [
       "<div>\n",
       "<style scoped>\n",
       "    .dataframe tbody tr th:only-of-type {\n",
       "        vertical-align: middle;\n",
       "    }\n",
       "\n",
       "    .dataframe tbody tr th {\n",
       "        vertical-align: top;\n",
       "    }\n",
       "\n",
       "    .dataframe thead th {\n",
       "        text-align: right;\n",
       "    }\n",
       "</style>\n",
       "<table border=\"1\" class=\"dataframe\">\n",
       "  <thead>\n",
       "    <tr style=\"text-align: right;\">\n",
       "      <th></th>\n",
       "      <th>Alter</th>\n",
       "      <th>Einkommen</th>\n",
       "      <th>Preis</th>\n",
       "      <th>Geschlecht</th>\n",
       "      <th>Zeit</th>\n",
       "      <th>KundeNr</th>\n",
       "    </tr>\n",
       "  </thead>\n",
       "  <tbody>\n",
       "    <tr>\n",
       "      <th>0</th>\n",
       "      <td>64</td>\n",
       "      <td>66894.000</td>\n",
       "      <td>88160.31</td>\n",
       "      <td>1</td>\n",
       "      <td>43.0</td>\n",
       "      <td>K0310</td>\n",
       "    </tr>\n",
       "    <tr>\n",
       "      <th>1</th>\n",
       "      <td>54</td>\n",
       "      <td>77644.000</td>\n",
       "      <td>103145.70</td>\n",
       "      <td>1</td>\n",
       "      <td>40.0</td>\n",
       "      <td>K1042</td>\n",
       "    </tr>\n",
       "    <tr>\n",
       "      <th>2</th>\n",
       "      <td>55</td>\n",
       "      <td>44341.000</td>\n",
       "      <td>80565.16</td>\n",
       "      <td>0</td>\n",
       "      <td>37.0</td>\n",
       "      <td>K0382</td>\n",
       "    </tr>\n",
       "    <tr>\n",
       "      <th>3</th>\n",
       "      <td>49</td>\n",
       "      <td>67271.000</td>\n",
       "      <td>83949.89</td>\n",
       "      <td>0</td>\n",
       "      <td>42.0</td>\n",
       "      <td>K0498</td>\n",
       "    </tr>\n",
       "    <tr>\n",
       "      <th>4</th>\n",
       "      <td>46</td>\n",
       "      <td>49832.000</td>\n",
       "      <td>93781.58</td>\n",
       "      <td>0</td>\n",
       "      <td>41.0</td>\n",
       "      <td>K0552</td>\n",
       "    </tr>\n",
       "    <tr>\n",
       "      <th>...</th>\n",
       "      <td>...</td>\n",
       "      <td>...</td>\n",
       "      <td>...</td>\n",
       "      <td>...</td>\n",
       "      <td>...</td>\n",
       "      <td>...</td>\n",
       "    </tr>\n",
       "    <tr>\n",
       "      <th>1990</th>\n",
       "      <td>32</td>\n",
       "      <td>34391.825</td>\n",
       "      <td>NaN</td>\n",
       "      <td>1</td>\n",
       "      <td>48.0</td>\n",
       "      <td>K1211</td>\n",
       "    </tr>\n",
       "    <tr>\n",
       "      <th>1991</th>\n",
       "      <td>41</td>\n",
       "      <td>68516.495</td>\n",
       "      <td>NaN</td>\n",
       "      <td>0</td>\n",
       "      <td>34.0</td>\n",
       "      <td>K1375</td>\n",
       "    </tr>\n",
       "    <tr>\n",
       "      <th>1992</th>\n",
       "      <td>65</td>\n",
       "      <td>89685.333</td>\n",
       "      <td>NaN</td>\n",
       "      <td>0</td>\n",
       "      <td>23.0</td>\n",
       "      <td>K1965</td>\n",
       "    </tr>\n",
       "    <tr>\n",
       "      <th>1993</th>\n",
       "      <td>68</td>\n",
       "      <td>95714.305</td>\n",
       "      <td>NaN</td>\n",
       "      <td>0</td>\n",
       "      <td>32.0</td>\n",
       "      <td>K1540</td>\n",
       "    </tr>\n",
       "    <tr>\n",
       "      <th>1994</th>\n",
       "      <td>49</td>\n",
       "      <td>73319.187</td>\n",
       "      <td>NaN</td>\n",
       "      <td>0</td>\n",
       "      <td>27.0</td>\n",
       "      <td>K1207</td>\n",
       "    </tr>\n",
       "  </tbody>\n",
       "</table>\n",
       "<p>1995 rows × 6 columns</p>\n",
       "</div>"
      ],
      "text/plain": [
       "      Alter  Einkommen      Preis  Geschlecht  Zeit KundeNr\n",
       "0        64  66894.000   88160.31           1  43.0   K0310\n",
       "1        54  77644.000  103145.70           1  40.0   K1042\n",
       "2        55  44341.000   80565.16           0  37.0   K0382\n",
       "3        49  67271.000   83949.89           0  42.0   K0498\n",
       "4        46  49832.000   93781.58           0  41.0   K0552\n",
       "...     ...        ...        ...         ...   ...     ...\n",
       "1990     32  34391.825        NaN           1  48.0   K1211\n",
       "1991     41  68516.495        NaN           0  34.0   K1375\n",
       "1992     65  89685.333        NaN           0  23.0   K1965\n",
       "1993     68  95714.305        NaN           0  32.0   K1540\n",
       "1994     49  73319.187        NaN           0  27.0   K1207\n",
       "\n",
       "[1995 rows x 6 columns]"
      ]
     },
     "execution_count": 23,
     "metadata": {},
     "output_type": "execute_result"
    }
   ],
   "source": [
    "dp_3"
   ]
  },
  {
   "cell_type": "markdown",
   "id": "12f1753b",
   "metadata": {},
   "source": [
    "# 11. Einfügen der Textdatei"
   ]
  },
  {
   "cell_type": "code",
   "execution_count": 24,
   "id": "d9f1b72b",
   "metadata": {},
   "outputs": [],
   "source": [
    "text_datei = \"data/geo.txt\"\n",
    "dp_text = pd.read_csv (text_datei, names = [\"Platzhalter\"], header = None)"
   ]
  },
  {
   "cell_type": "code",
   "execution_count": 25,
   "id": "1bf7f79a",
   "metadata": {},
   "outputs": [
    {
     "data": {
      "text/html": [
       "<div>\n",
       "<style scoped>\n",
       "    .dataframe tbody tr th:only-of-type {\n",
       "        vertical-align: middle;\n",
       "    }\n",
       "\n",
       "    .dataframe tbody tr th {\n",
       "        vertical-align: top;\n",
       "    }\n",
       "\n",
       "    .dataframe thead th {\n",
       "        text-align: right;\n",
       "    }\n",
       "</style>\n",
       "<table border=\"1\" class=\"dataframe\">\n",
       "  <thead>\n",
       "    <tr style=\"text-align: right;\">\n",
       "      <th></th>\n",
       "      <th>Platzhalter</th>\n",
       "    </tr>\n",
       "  </thead>\n",
       "  <tbody>\n",
       "    <tr>\n",
       "      <th>0</th>\n",
       "      <td>KundeNr\\tNiederlassung</td>\n",
       "    </tr>\n",
       "    <tr>\n",
       "      <th>1</th>\n",
       "      <td>K0001\\tSachsen</td>\n",
       "    </tr>\n",
       "    <tr>\n",
       "      <th>2</th>\n",
       "      <td>K0002\\tNRW</td>\n",
       "    </tr>\n",
       "    <tr>\n",
       "      <th>3</th>\n",
       "      <td>K0003\\tHessen</td>\n",
       "    </tr>\n",
       "    <tr>\n",
       "      <th>4</th>\n",
       "      <td>K0004\\tBayern</td>\n",
       "    </tr>\n",
       "    <tr>\n",
       "      <th>...</th>\n",
       "      <td>...</td>\n",
       "    </tr>\n",
       "    <tr>\n",
       "      <th>1991</th>\n",
       "      <td>K1991\\tHessen</td>\n",
       "    </tr>\n",
       "    <tr>\n",
       "      <th>1992</th>\n",
       "      <td>K1992\\tBaden-Württemberg</td>\n",
       "    </tr>\n",
       "    <tr>\n",
       "      <th>1993</th>\n",
       "      <td>K1993\\tNordrhein-Westfalen</td>\n",
       "    </tr>\n",
       "    <tr>\n",
       "      <th>1994</th>\n",
       "      <td>K1994\\tBerlin</td>\n",
       "    </tr>\n",
       "    <tr>\n",
       "      <th>1995</th>\n",
       "      <td>K1995\\tBerlin-Charlottenburg</td>\n",
       "    </tr>\n",
       "  </tbody>\n",
       "</table>\n",
       "<p>1996 rows × 1 columns</p>\n",
       "</div>"
      ],
      "text/plain": [
       "                       Platzhalter\n",
       "0           KundeNr\\tNiederlassung\n",
       "1                   K0001\\tSachsen\n",
       "2                       K0002\\tNRW\n",
       "3                    K0003\\tHessen\n",
       "4                    K0004\\tBayern\n",
       "...                            ...\n",
       "1991                 K1991\\tHessen\n",
       "1992      K1992\\tBaden-Württemberg\n",
       "1993    K1993\\tNordrhein-Westfalen\n",
       "1994                 K1994\\tBerlin\n",
       "1995  K1995\\tBerlin-Charlottenburg\n",
       "\n",
       "[1996 rows x 1 columns]"
      ]
     },
     "execution_count": 25,
     "metadata": {},
     "output_type": "execute_result"
    }
   ],
   "source": [
    "dp_text"
   ]
  },
  {
   "cell_type": "markdown",
   "id": "e6dd307a",
   "metadata": {},
   "source": [
    "# 12. Überschriften ändern"
   ]
  },
  {
   "cell_type": "code",
   "execution_count": 26,
   "id": "20cedfe7",
   "metadata": {},
   "outputs": [],
   "source": [
    "dp_text [[\"KundeNR\", \"Niederlassung\"]] = dp_text [\"Platzhalter\"].str.split(expand=True)"
   ]
  },
  {
   "cell_type": "code",
   "execution_count": 27,
   "id": "c43f49ff",
   "metadata": {},
   "outputs": [
    {
     "data": {
      "text/html": [
       "<div>\n",
       "<style scoped>\n",
       "    .dataframe tbody tr th:only-of-type {\n",
       "        vertical-align: middle;\n",
       "    }\n",
       "\n",
       "    .dataframe tbody tr th {\n",
       "        vertical-align: top;\n",
       "    }\n",
       "\n",
       "    .dataframe thead th {\n",
       "        text-align: right;\n",
       "    }\n",
       "</style>\n",
       "<table border=\"1\" class=\"dataframe\">\n",
       "  <thead>\n",
       "    <tr style=\"text-align: right;\">\n",
       "      <th></th>\n",
       "      <th>Platzhalter</th>\n",
       "      <th>KundeNR</th>\n",
       "      <th>Niederlassung</th>\n",
       "    </tr>\n",
       "  </thead>\n",
       "  <tbody>\n",
       "    <tr>\n",
       "      <th>0</th>\n",
       "      <td>KundeNr\\tNiederlassung</td>\n",
       "      <td>KundeNr</td>\n",
       "      <td>Niederlassung</td>\n",
       "    </tr>\n",
       "    <tr>\n",
       "      <th>1</th>\n",
       "      <td>K0001\\tSachsen</td>\n",
       "      <td>K0001</td>\n",
       "      <td>Sachsen</td>\n",
       "    </tr>\n",
       "    <tr>\n",
       "      <th>2</th>\n",
       "      <td>K0002\\tNRW</td>\n",
       "      <td>K0002</td>\n",
       "      <td>NRW</td>\n",
       "    </tr>\n",
       "    <tr>\n",
       "      <th>3</th>\n",
       "      <td>K0003\\tHessen</td>\n",
       "      <td>K0003</td>\n",
       "      <td>Hessen</td>\n",
       "    </tr>\n",
       "    <tr>\n",
       "      <th>4</th>\n",
       "      <td>K0004\\tBayern</td>\n",
       "      <td>K0004</td>\n",
       "      <td>Bayern</td>\n",
       "    </tr>\n",
       "    <tr>\n",
       "      <th>...</th>\n",
       "      <td>...</td>\n",
       "      <td>...</td>\n",
       "      <td>...</td>\n",
       "    </tr>\n",
       "    <tr>\n",
       "      <th>1991</th>\n",
       "      <td>K1991\\tHessen</td>\n",
       "      <td>K1991</td>\n",
       "      <td>Hessen</td>\n",
       "    </tr>\n",
       "    <tr>\n",
       "      <th>1992</th>\n",
       "      <td>K1992\\tBaden-Württemberg</td>\n",
       "      <td>K1992</td>\n",
       "      <td>Baden-Württemberg</td>\n",
       "    </tr>\n",
       "    <tr>\n",
       "      <th>1993</th>\n",
       "      <td>K1993\\tNordrhein-Westfalen</td>\n",
       "      <td>K1993</td>\n",
       "      <td>Nordrhein-Westfalen</td>\n",
       "    </tr>\n",
       "    <tr>\n",
       "      <th>1994</th>\n",
       "      <td>K1994\\tBerlin</td>\n",
       "      <td>K1994</td>\n",
       "      <td>Berlin</td>\n",
       "    </tr>\n",
       "    <tr>\n",
       "      <th>1995</th>\n",
       "      <td>K1995\\tBerlin-Charlottenburg</td>\n",
       "      <td>K1995</td>\n",
       "      <td>Berlin-Charlottenburg</td>\n",
       "    </tr>\n",
       "  </tbody>\n",
       "</table>\n",
       "<p>1996 rows × 3 columns</p>\n",
       "</div>"
      ],
      "text/plain": [
       "                       Platzhalter  KundeNR          Niederlassung\n",
       "0           KundeNr\\tNiederlassung  KundeNr          Niederlassung\n",
       "1                   K0001\\tSachsen    K0001                Sachsen\n",
       "2                       K0002\\tNRW    K0002                    NRW\n",
       "3                    K0003\\tHessen    K0003                 Hessen\n",
       "4                    K0004\\tBayern    K0004                 Bayern\n",
       "...                            ...      ...                    ...\n",
       "1991                 K1991\\tHessen    K1991                 Hessen\n",
       "1992      K1992\\tBaden-Württemberg    K1992      Baden-Württemberg\n",
       "1993    K1993\\tNordrhein-Westfalen    K1993    Nordrhein-Westfalen\n",
       "1994                 K1994\\tBerlin    K1994                 Berlin\n",
       "1995  K1995\\tBerlin-Charlottenburg    K1995  Berlin-Charlottenburg\n",
       "\n",
       "[1996 rows x 3 columns]"
      ]
     },
     "execution_count": 27,
     "metadata": {},
     "output_type": "execute_result"
    }
   ],
   "source": [
    "dp_text"
   ]
  },
  {
   "cell_type": "code",
   "execution_count": 28,
   "id": "b10819cb",
   "metadata": {},
   "outputs": [
    {
     "data": {
      "text/plain": [
       "Index(['Platzhalter', 'KundeNR', 'Niederlassung'], dtype='object')"
      ]
     },
     "execution_count": 28,
     "metadata": {},
     "output_type": "execute_result"
    }
   ],
   "source": [
    "dp_text.columns"
   ]
  },
  {
   "cell_type": "code",
   "execution_count": 29,
   "id": "3bbebaf1",
   "metadata": {},
   "outputs": [],
   "source": [
    "dp_text = dp_text.drop (\"Platzhalter\", axis=1)"
   ]
  },
  {
   "cell_type": "code",
   "execution_count": 30,
   "id": "1db6e283",
   "metadata": {},
   "outputs": [
    {
     "data": {
      "text/plain": [
       "Index(['KundeNR', 'Niederlassung'], dtype='object')"
      ]
     },
     "execution_count": 30,
     "metadata": {},
     "output_type": "execute_result"
    }
   ],
   "source": [
    "dp_text.columns"
   ]
  },
  {
   "cell_type": "code",
   "execution_count": 31,
   "id": "626d796f",
   "metadata": {},
   "outputs": [],
   "source": [
    "dp_3 = dp_3.copy()\n",
    "dp_3 [\"Niederlassung\"] = None"
   ]
  },
  {
   "cell_type": "code",
   "execution_count": 32,
   "id": "74d64d5f",
   "metadata": {},
   "outputs": [
    {
     "data": {
      "text/html": [
       "<div>\n",
       "<style scoped>\n",
       "    .dataframe tbody tr th:only-of-type {\n",
       "        vertical-align: middle;\n",
       "    }\n",
       "\n",
       "    .dataframe tbody tr th {\n",
       "        vertical-align: top;\n",
       "    }\n",
       "\n",
       "    .dataframe thead th {\n",
       "        text-align: right;\n",
       "    }\n",
       "</style>\n",
       "<table border=\"1\" class=\"dataframe\">\n",
       "  <thead>\n",
       "    <tr style=\"text-align: right;\">\n",
       "      <th></th>\n",
       "      <th>Alter</th>\n",
       "      <th>Einkommen</th>\n",
       "      <th>Preis</th>\n",
       "      <th>Geschlecht</th>\n",
       "      <th>Zeit</th>\n",
       "      <th>KundeNr</th>\n",
       "      <th>Niederlassung</th>\n",
       "    </tr>\n",
       "  </thead>\n",
       "  <tbody>\n",
       "    <tr>\n",
       "      <th>0</th>\n",
       "      <td>64</td>\n",
       "      <td>66894.000</td>\n",
       "      <td>88160.31</td>\n",
       "      <td>1</td>\n",
       "      <td>43.0</td>\n",
       "      <td>K0310</td>\n",
       "      <td>None</td>\n",
       "    </tr>\n",
       "    <tr>\n",
       "      <th>1</th>\n",
       "      <td>54</td>\n",
       "      <td>77644.000</td>\n",
       "      <td>103145.70</td>\n",
       "      <td>1</td>\n",
       "      <td>40.0</td>\n",
       "      <td>K1042</td>\n",
       "      <td>None</td>\n",
       "    </tr>\n",
       "    <tr>\n",
       "      <th>2</th>\n",
       "      <td>55</td>\n",
       "      <td>44341.000</td>\n",
       "      <td>80565.16</td>\n",
       "      <td>0</td>\n",
       "      <td>37.0</td>\n",
       "      <td>K0382</td>\n",
       "      <td>None</td>\n",
       "    </tr>\n",
       "    <tr>\n",
       "      <th>3</th>\n",
       "      <td>49</td>\n",
       "      <td>67271.000</td>\n",
       "      <td>83949.89</td>\n",
       "      <td>0</td>\n",
       "      <td>42.0</td>\n",
       "      <td>K0498</td>\n",
       "      <td>None</td>\n",
       "    </tr>\n",
       "    <tr>\n",
       "      <th>4</th>\n",
       "      <td>46</td>\n",
       "      <td>49832.000</td>\n",
       "      <td>93781.58</td>\n",
       "      <td>0</td>\n",
       "      <td>41.0</td>\n",
       "      <td>K0552</td>\n",
       "      <td>None</td>\n",
       "    </tr>\n",
       "    <tr>\n",
       "      <th>...</th>\n",
       "      <td>...</td>\n",
       "      <td>...</td>\n",
       "      <td>...</td>\n",
       "      <td>...</td>\n",
       "      <td>...</td>\n",
       "      <td>...</td>\n",
       "      <td>...</td>\n",
       "    </tr>\n",
       "    <tr>\n",
       "      <th>1990</th>\n",
       "      <td>32</td>\n",
       "      <td>34391.825</td>\n",
       "      <td>NaN</td>\n",
       "      <td>1</td>\n",
       "      <td>48.0</td>\n",
       "      <td>K1211</td>\n",
       "      <td>None</td>\n",
       "    </tr>\n",
       "    <tr>\n",
       "      <th>1991</th>\n",
       "      <td>41</td>\n",
       "      <td>68516.495</td>\n",
       "      <td>NaN</td>\n",
       "      <td>0</td>\n",
       "      <td>34.0</td>\n",
       "      <td>K1375</td>\n",
       "      <td>None</td>\n",
       "    </tr>\n",
       "    <tr>\n",
       "      <th>1992</th>\n",
       "      <td>65</td>\n",
       "      <td>89685.333</td>\n",
       "      <td>NaN</td>\n",
       "      <td>0</td>\n",
       "      <td>23.0</td>\n",
       "      <td>K1965</td>\n",
       "      <td>None</td>\n",
       "    </tr>\n",
       "    <tr>\n",
       "      <th>1993</th>\n",
       "      <td>68</td>\n",
       "      <td>95714.305</td>\n",
       "      <td>NaN</td>\n",
       "      <td>0</td>\n",
       "      <td>32.0</td>\n",
       "      <td>K1540</td>\n",
       "      <td>None</td>\n",
       "    </tr>\n",
       "    <tr>\n",
       "      <th>1994</th>\n",
       "      <td>49</td>\n",
       "      <td>73319.187</td>\n",
       "      <td>NaN</td>\n",
       "      <td>0</td>\n",
       "      <td>27.0</td>\n",
       "      <td>K1207</td>\n",
       "      <td>None</td>\n",
       "    </tr>\n",
       "  </tbody>\n",
       "</table>\n",
       "<p>1995 rows × 7 columns</p>\n",
       "</div>"
      ],
      "text/plain": [
       "      Alter  Einkommen      Preis  Geschlecht  Zeit KundeNr Niederlassung\n",
       "0        64  66894.000   88160.31           1  43.0   K0310          None\n",
       "1        54  77644.000  103145.70           1  40.0   K1042          None\n",
       "2        55  44341.000   80565.16           0  37.0   K0382          None\n",
       "3        49  67271.000   83949.89           0  42.0   K0498          None\n",
       "4        46  49832.000   93781.58           0  41.0   K0552          None\n",
       "...     ...        ...        ...         ...   ...     ...           ...\n",
       "1990     32  34391.825        NaN           1  48.0   K1211          None\n",
       "1991     41  68516.495        NaN           0  34.0   K1375          None\n",
       "1992     65  89685.333        NaN           0  23.0   K1965          None\n",
       "1993     68  95714.305        NaN           0  32.0   K1540          None\n",
       "1994     49  73319.187        NaN           0  27.0   K1207          None\n",
       "\n",
       "[1995 rows x 7 columns]"
      ]
     },
     "execution_count": 32,
     "metadata": {},
     "output_type": "execute_result"
    }
   ],
   "source": [
    "dp_3"
   ]
  },
  {
   "cell_type": "markdown",
   "id": "a080db9c",
   "metadata": {},
   "source": [
    "# 13. Umbenennung der Spalte KundeNr"
   ]
  },
  {
   "cell_type": "markdown",
   "id": "bfc5d01f",
   "metadata": {},
   "source": [
    "Spalte wird umbenannt um Kompatibilitätsprobleme zu vermeiden"
   ]
  },
  {
   "cell_type": "code",
   "execution_count": 33,
   "id": "7bbed740",
   "metadata": {},
   "outputs": [
    {
     "data": {
      "text/plain": [
       "Alter              int64\n",
       "Einkommen        float64\n",
       "Preis            float64\n",
       "Geschlecht         int64\n",
       "Zeit             float64\n",
       "KundeNR           object\n",
       "Niederlassung     object\n",
       "dtype: object"
      ]
     },
     "execution_count": 33,
     "metadata": {},
     "output_type": "execute_result"
    }
   ],
   "source": [
    "dp_3 = dp_3.rename(columns = {\"KundeNr\": \"KundeNR\"})\n",
    "dp_3.dtypes"
   ]
  },
  {
   "cell_type": "markdown",
   "id": "6c0e7ee3",
   "metadata": {},
   "source": [
    "# 14. dp_3 CSV mit dp_Text-Datei mergen"
   ]
  },
  {
   "cell_type": "markdown",
   "id": "c96cef38",
   "metadata": {},
   "source": [
    "Dies wird zur letzten CSV Datei."
   ]
  },
  {
   "cell_type": "code",
   "execution_count": 34,
   "id": "e13b9ce4",
   "metadata": {},
   "outputs": [],
   "source": [
    "merged_dp = pd.merge (dp_3, dp_text[[\"KundeNR\", \"Niederlassung\"]], on = \"KundeNR\", how = \"left\")"
   ]
  },
  {
   "cell_type": "code",
   "execution_count": 35,
   "id": "e9baf37e",
   "metadata": {},
   "outputs": [
    {
     "data": {
      "text/html": [
       "<div>\n",
       "<style scoped>\n",
       "    .dataframe tbody tr th:only-of-type {\n",
       "        vertical-align: middle;\n",
       "    }\n",
       "\n",
       "    .dataframe tbody tr th {\n",
       "        vertical-align: top;\n",
       "    }\n",
       "\n",
       "    .dataframe thead th {\n",
       "        text-align: right;\n",
       "    }\n",
       "</style>\n",
       "<table border=\"1\" class=\"dataframe\">\n",
       "  <thead>\n",
       "    <tr style=\"text-align: right;\">\n",
       "      <th></th>\n",
       "      <th>Alter</th>\n",
       "      <th>Einkommen</th>\n",
       "      <th>Preis</th>\n",
       "      <th>Geschlecht</th>\n",
       "      <th>Zeit</th>\n",
       "      <th>KundeNR</th>\n",
       "      <th>Niederlassung_x</th>\n",
       "      <th>Niederlassung_y</th>\n",
       "    </tr>\n",
       "  </thead>\n",
       "  <tbody>\n",
       "    <tr>\n",
       "      <th>0</th>\n",
       "      <td>64</td>\n",
       "      <td>66894.000</td>\n",
       "      <td>88160.31</td>\n",
       "      <td>1</td>\n",
       "      <td>43.0</td>\n",
       "      <td>K0310</td>\n",
       "      <td>None</td>\n",
       "      <td>Bayern</td>\n",
       "    </tr>\n",
       "    <tr>\n",
       "      <th>1</th>\n",
       "      <td>54</td>\n",
       "      <td>77644.000</td>\n",
       "      <td>103145.70</td>\n",
       "      <td>1</td>\n",
       "      <td>40.0</td>\n",
       "      <td>K1042</td>\n",
       "      <td>None</td>\n",
       "      <td>Berlin</td>\n",
       "    </tr>\n",
       "    <tr>\n",
       "      <th>2</th>\n",
       "      <td>55</td>\n",
       "      <td>44341.000</td>\n",
       "      <td>80565.16</td>\n",
       "      <td>0</td>\n",
       "      <td>37.0</td>\n",
       "      <td>K0382</td>\n",
       "      <td>None</td>\n",
       "      <td>Baden-Württemberg</td>\n",
       "    </tr>\n",
       "    <tr>\n",
       "      <th>3</th>\n",
       "      <td>49</td>\n",
       "      <td>67271.000</td>\n",
       "      <td>83949.89</td>\n",
       "      <td>0</td>\n",
       "      <td>42.0</td>\n",
       "      <td>K0498</td>\n",
       "      <td>None</td>\n",
       "      <td>Bayern</td>\n",
       "    </tr>\n",
       "    <tr>\n",
       "      <th>4</th>\n",
       "      <td>46</td>\n",
       "      <td>49832.000</td>\n",
       "      <td>93781.58</td>\n",
       "      <td>0</td>\n",
       "      <td>41.0</td>\n",
       "      <td>K0552</td>\n",
       "      <td>None</td>\n",
       "      <td>Hessen</td>\n",
       "    </tr>\n",
       "    <tr>\n",
       "      <th>...</th>\n",
       "      <td>...</td>\n",
       "      <td>...</td>\n",
       "      <td>...</td>\n",
       "      <td>...</td>\n",
       "      <td>...</td>\n",
       "      <td>...</td>\n",
       "      <td>...</td>\n",
       "      <td>...</td>\n",
       "    </tr>\n",
       "    <tr>\n",
       "      <th>1990</th>\n",
       "      <td>32</td>\n",
       "      <td>34391.825</td>\n",
       "      <td>NaN</td>\n",
       "      <td>1</td>\n",
       "      <td>48.0</td>\n",
       "      <td>K1211</td>\n",
       "      <td>None</td>\n",
       "      <td>Hessen</td>\n",
       "    </tr>\n",
       "    <tr>\n",
       "      <th>1991</th>\n",
       "      <td>41</td>\n",
       "      <td>68516.495</td>\n",
       "      <td>NaN</td>\n",
       "      <td>0</td>\n",
       "      <td>34.0</td>\n",
       "      <td>K1375</td>\n",
       "      <td>None</td>\n",
       "      <td>Sachsen</td>\n",
       "    </tr>\n",
       "    <tr>\n",
       "      <th>1992</th>\n",
       "      <td>65</td>\n",
       "      <td>89685.333</td>\n",
       "      <td>NaN</td>\n",
       "      <td>0</td>\n",
       "      <td>23.0</td>\n",
       "      <td>K1965</td>\n",
       "      <td>None</td>\n",
       "      <td>Bayern</td>\n",
       "    </tr>\n",
       "    <tr>\n",
       "      <th>1993</th>\n",
       "      <td>68</td>\n",
       "      <td>95714.305</td>\n",
       "      <td>NaN</td>\n",
       "      <td>0</td>\n",
       "      <td>32.0</td>\n",
       "      <td>K1540</td>\n",
       "      <td>None</td>\n",
       "      <td>Bayern</td>\n",
       "    </tr>\n",
       "    <tr>\n",
       "      <th>1994</th>\n",
       "      <td>49</td>\n",
       "      <td>73319.187</td>\n",
       "      <td>NaN</td>\n",
       "      <td>0</td>\n",
       "      <td>27.0</td>\n",
       "      <td>K1207</td>\n",
       "      <td>None</td>\n",
       "      <td>Niedersachsen</td>\n",
       "    </tr>\n",
       "  </tbody>\n",
       "</table>\n",
       "<p>1995 rows × 8 columns</p>\n",
       "</div>"
      ],
      "text/plain": [
       "      Alter  Einkommen      Preis  Geschlecht  Zeit KundeNR Niederlassung_x  \\\n",
       "0        64  66894.000   88160.31           1  43.0   K0310            None   \n",
       "1        54  77644.000  103145.70           1  40.0   K1042            None   \n",
       "2        55  44341.000   80565.16           0  37.0   K0382            None   \n",
       "3        49  67271.000   83949.89           0  42.0   K0498            None   \n",
       "4        46  49832.000   93781.58           0  41.0   K0552            None   \n",
       "...     ...        ...        ...         ...   ...     ...             ...   \n",
       "1990     32  34391.825        NaN           1  48.0   K1211            None   \n",
       "1991     41  68516.495        NaN           0  34.0   K1375            None   \n",
       "1992     65  89685.333        NaN           0  23.0   K1965            None   \n",
       "1993     68  95714.305        NaN           0  32.0   K1540            None   \n",
       "1994     49  73319.187        NaN           0  27.0   K1207            None   \n",
       "\n",
       "        Niederlassung_y  \n",
       "0                Bayern  \n",
       "1                Berlin  \n",
       "2     Baden-Württemberg  \n",
       "3                Bayern  \n",
       "4                Hessen  \n",
       "...                 ...  \n",
       "1990             Hessen  \n",
       "1991            Sachsen  \n",
       "1992             Bayern  \n",
       "1993             Bayern  \n",
       "1994      Niedersachsen  \n",
       "\n",
       "[1995 rows x 8 columns]"
      ]
     },
     "execution_count": 35,
     "metadata": {},
     "output_type": "execute_result"
    }
   ],
   "source": [
    "merged_dp"
   ]
  },
  {
   "cell_type": "markdown",
   "id": "6ec7e418",
   "metadata": {},
   "source": [
    "# 15. Spalten ändern "
   ]
  },
  {
   "cell_type": "markdown",
   "id": "ee7b5ec2",
   "metadata": {},
   "source": [
    "Spalte Niederlassung_x muss gelöscht werden, da sie überflüssig ist und Niederlassung_y muss umbenannt werden"
   ]
  },
  {
   "cell_type": "code",
   "execution_count": 36,
   "id": "42e6008b",
   "metadata": {},
   "outputs": [],
   "source": [
    "merged_dp = merged_dp.rename(columns={\"Niederlassung_y\": \"Niederlassung\"})\n",
    "merged_dp = merged_dp.drop(\"Niederlassung_x\", axis = 1)"
   ]
  },
  {
   "cell_type": "code",
   "execution_count": 37,
   "id": "cc30f54b",
   "metadata": {},
   "outputs": [
    {
     "data": {
      "text/html": [
       "<div>\n",
       "<style scoped>\n",
       "    .dataframe tbody tr th:only-of-type {\n",
       "        vertical-align: middle;\n",
       "    }\n",
       "\n",
       "    .dataframe tbody tr th {\n",
       "        vertical-align: top;\n",
       "    }\n",
       "\n",
       "    .dataframe thead th {\n",
       "        text-align: right;\n",
       "    }\n",
       "</style>\n",
       "<table border=\"1\" class=\"dataframe\">\n",
       "  <thead>\n",
       "    <tr style=\"text-align: right;\">\n",
       "      <th></th>\n",
       "      <th>Alter</th>\n",
       "      <th>Einkommen</th>\n",
       "      <th>Preis</th>\n",
       "      <th>Geschlecht</th>\n",
       "      <th>Zeit</th>\n",
       "      <th>KundeNR</th>\n",
       "      <th>Niederlassung</th>\n",
       "    </tr>\n",
       "  </thead>\n",
       "  <tbody>\n",
       "    <tr>\n",
       "      <th>0</th>\n",
       "      <td>64</td>\n",
       "      <td>66894.000</td>\n",
       "      <td>88160.31</td>\n",
       "      <td>1</td>\n",
       "      <td>43.0</td>\n",
       "      <td>K0310</td>\n",
       "      <td>Bayern</td>\n",
       "    </tr>\n",
       "    <tr>\n",
       "      <th>1</th>\n",
       "      <td>54</td>\n",
       "      <td>77644.000</td>\n",
       "      <td>103145.70</td>\n",
       "      <td>1</td>\n",
       "      <td>40.0</td>\n",
       "      <td>K1042</td>\n",
       "      <td>Berlin</td>\n",
       "    </tr>\n",
       "    <tr>\n",
       "      <th>2</th>\n",
       "      <td>55</td>\n",
       "      <td>44341.000</td>\n",
       "      <td>80565.16</td>\n",
       "      <td>0</td>\n",
       "      <td>37.0</td>\n",
       "      <td>K0382</td>\n",
       "      <td>Baden-Württemberg</td>\n",
       "    </tr>\n",
       "    <tr>\n",
       "      <th>3</th>\n",
       "      <td>49</td>\n",
       "      <td>67271.000</td>\n",
       "      <td>83949.89</td>\n",
       "      <td>0</td>\n",
       "      <td>42.0</td>\n",
       "      <td>K0498</td>\n",
       "      <td>Bayern</td>\n",
       "    </tr>\n",
       "    <tr>\n",
       "      <th>4</th>\n",
       "      <td>46</td>\n",
       "      <td>49832.000</td>\n",
       "      <td>93781.58</td>\n",
       "      <td>0</td>\n",
       "      <td>41.0</td>\n",
       "      <td>K0552</td>\n",
       "      <td>Hessen</td>\n",
       "    </tr>\n",
       "    <tr>\n",
       "      <th>...</th>\n",
       "      <td>...</td>\n",
       "      <td>...</td>\n",
       "      <td>...</td>\n",
       "      <td>...</td>\n",
       "      <td>...</td>\n",
       "      <td>...</td>\n",
       "      <td>...</td>\n",
       "    </tr>\n",
       "    <tr>\n",
       "      <th>1990</th>\n",
       "      <td>32</td>\n",
       "      <td>34391.825</td>\n",
       "      <td>NaN</td>\n",
       "      <td>1</td>\n",
       "      <td>48.0</td>\n",
       "      <td>K1211</td>\n",
       "      <td>Hessen</td>\n",
       "    </tr>\n",
       "    <tr>\n",
       "      <th>1991</th>\n",
       "      <td>41</td>\n",
       "      <td>68516.495</td>\n",
       "      <td>NaN</td>\n",
       "      <td>0</td>\n",
       "      <td>34.0</td>\n",
       "      <td>K1375</td>\n",
       "      <td>Sachsen</td>\n",
       "    </tr>\n",
       "    <tr>\n",
       "      <th>1992</th>\n",
       "      <td>65</td>\n",
       "      <td>89685.333</td>\n",
       "      <td>NaN</td>\n",
       "      <td>0</td>\n",
       "      <td>23.0</td>\n",
       "      <td>K1965</td>\n",
       "      <td>Bayern</td>\n",
       "    </tr>\n",
       "    <tr>\n",
       "      <th>1993</th>\n",
       "      <td>68</td>\n",
       "      <td>95714.305</td>\n",
       "      <td>NaN</td>\n",
       "      <td>0</td>\n",
       "      <td>32.0</td>\n",
       "      <td>K1540</td>\n",
       "      <td>Bayern</td>\n",
       "    </tr>\n",
       "    <tr>\n",
       "      <th>1994</th>\n",
       "      <td>49</td>\n",
       "      <td>73319.187</td>\n",
       "      <td>NaN</td>\n",
       "      <td>0</td>\n",
       "      <td>27.0</td>\n",
       "      <td>K1207</td>\n",
       "      <td>Niedersachsen</td>\n",
       "    </tr>\n",
       "  </tbody>\n",
       "</table>\n",
       "<p>1995 rows × 7 columns</p>\n",
       "</div>"
      ],
      "text/plain": [
       "      Alter  Einkommen      Preis  Geschlecht  Zeit KundeNR      Niederlassung\n",
       "0        64  66894.000   88160.31           1  43.0   K0310             Bayern\n",
       "1        54  77644.000  103145.70           1  40.0   K1042             Berlin\n",
       "2        55  44341.000   80565.16           0  37.0   K0382  Baden-Württemberg\n",
       "3        49  67271.000   83949.89           0  42.0   K0498             Bayern\n",
       "4        46  49832.000   93781.58           0  41.0   K0552             Hessen\n",
       "...     ...        ...        ...         ...   ...     ...                ...\n",
       "1990     32  34391.825        NaN           1  48.0   K1211             Hessen\n",
       "1991     41  68516.495        NaN           0  34.0   K1375            Sachsen\n",
       "1992     65  89685.333        NaN           0  23.0   K1965             Bayern\n",
       "1993     68  95714.305        NaN           0  32.0   K1540             Bayern\n",
       "1994     49  73319.187        NaN           0  27.0   K1207      Niedersachsen\n",
       "\n",
       "[1995 rows x 7 columns]"
      ]
     },
     "execution_count": 37,
     "metadata": {},
     "output_type": "execute_result"
    }
   ],
   "source": [
    "merged_dp"
   ]
  },
  {
   "cell_type": "markdown",
   "id": "ced55c32",
   "metadata": {},
   "source": [
    "# 16. Niederlassungen anzeigen lassen"
   ]
  },
  {
   "cell_type": "markdown",
   "id": "7cd728a2",
   "metadata": {},
   "source": [
    "Mit dem Befehl .unique() werden alle einzigartigen Werte aus der Spalte."
   ]
  },
  {
   "cell_type": "code",
   "execution_count": 38,
   "id": "6ee834da",
   "metadata": {},
   "outputs": [
    {
     "data": {
      "text/plain": [
       "array(['Bayern', 'Berlin', 'Baden-Württemberg', 'Hessen', 'Thüringen',\n",
       "       'Sachsen', 'Nordrhein-Westfalen', 'BERLIN', 'Niedersachsen',\n",
       "       'Hamburg', 'Brandenburg', 'Berlin-Mitte', 'Düsseldorf', 'NRW',\n",
       "       'Berlin-Charlottenburg'], dtype=object)"
      ]
     },
     "execution_count": 38,
     "metadata": {},
     "output_type": "execute_result"
    }
   ],
   "source": [
    "merged_dp[\"Niederlassung\"].unique()"
   ]
  },
  {
   "cell_type": "markdown",
   "id": "03bf3d93",
   "metadata": {},
   "source": [
    "# 17. Niederlassungen den Bundesländern zuordnen "
   ]
  },
  {
   "cell_type": "markdown",
   "id": "9afb5baf",
   "metadata": {},
   "source": [
    "Abkürzungen und Doppelungen innerhalb eines Bundeslandes werden zusammengeführt."
   ]
  },
  {
   "cell_type": "code",
   "execution_count": 39,
   "id": "217b081b",
   "metadata": {},
   "outputs": [],
   "source": [
    "merged_dp[\"Niederlassung\"] = merged_dp [\"Niederlassung\"].replace(\"Düsseldorf\", \"Nordrhein-Westfalen\")\n",
    "merged_dp[\"Niederlassung\"] = merged_dp [\"Niederlassung\"].replace(\"BERLIN\", \"Berlin\")\n",
    "merged_dp[\"Niederlassung\"] = merged_dp [\"Niederlassung\"].replace(\"Berlin-Charlottenburg\", \"Berlin\")\n",
    "merged_dp[\"Niederlassung\"] = merged_dp [\"Niederlassung\"].replace(\"Berlin-Mitte\", \"Berlin\")\n",
    "merged_dp[\"Niederlassung\"] = merged_dp [\"Niederlassung\"].replace(\"NRW\", \"Nordrhein-Westfalen\")"
   ]
  },
  {
   "cell_type": "code",
   "execution_count": 40,
   "id": "65eafe2b",
   "metadata": {},
   "outputs": [
    {
     "data": {
      "text/plain": [
       "array(['Bayern', 'Berlin', 'Baden-Württemberg', 'Hessen', 'Thüringen',\n",
       "       'Sachsen', 'Nordrhein-Westfalen', 'Niedersachsen', 'Hamburg',\n",
       "       'Brandenburg'], dtype=object)"
      ]
     },
     "execution_count": 40,
     "metadata": {},
     "output_type": "execute_result"
    }
   ],
   "source": [
    "merged_dp[\"Niederlassung\"].unique()"
   ]
  },
  {
   "cell_type": "markdown",
   "id": "bbcf6c5d",
   "metadata": {},
   "source": [
    "# 18. Eine neue Spalte erstellen namens Kunde und diese umpositionieren"
   ]
  },
  {
   "cell_type": "code",
   "execution_count": 41,
   "id": "e7ddd6ba",
   "metadata": {},
   "outputs": [],
   "source": [
    "merged_dp[\"Kunde\"] = merged_dp [\"Preis\"]. apply(lambda x: 1 if pd.notna(x) else 0)"
   ]
  },
  {
   "cell_type": "code",
   "execution_count": 42,
   "id": "6df7c2cb",
   "metadata": {},
   "outputs": [],
   "source": [
    "merged_dp.insert(0, \"Kunde\", merged_dp.pop(\"Kunde\"))"
   ]
  },
  {
   "cell_type": "markdown",
   "id": "808b8201",
   "metadata": {},
   "source": [
    "# 19. CSV Speichern"
   ]
  },
  {
   "cell_type": "code",
   "execution_count": 43,
   "id": "2ff1aa3e",
   "metadata": {},
   "outputs": [],
   "source": [
    "merged_dp.to_csv(\"data/dp_final.csv\", index = False)"
   ]
  },
  {
   "cell_type": "code",
   "execution_count": 44,
   "id": "2f03773d",
   "metadata": {},
   "outputs": [],
   "source": [
    "dp_1.to_csv(\"data/dp_1.csv\", index = False)"
   ]
  },
  {
   "cell_type": "code",
   "execution_count": 45,
   "id": "3756dcc2",
   "metadata": {},
   "outputs": [],
   "source": [
    "dp_2.to_csv(\"data/dp_2.csv\", index = False)"
   ]
  },
  {
   "cell_type": "code",
   "execution_count": 46,
   "id": "0aa88c75",
   "metadata": {},
   "outputs": [],
   "source": [
    "dp_3.to_csv(\"data/dp_3.csv\", index = False)"
   ]
  },
  {
   "cell_type": "markdown",
   "id": "3bd1f5ae",
   "metadata": {},
   "source": [
    "# Antwort Frage 1: Wie viele Autos wurden verkauft?"
   ]
  },
  {
   "cell_type": "markdown",
   "id": "a3605619",
   "metadata": {},
   "source": [
    "Es werden die Einträge in der Spalte \"Preise\" gezählt und in der Varible \"Verkäufe\" wiedergegeben."
   ]
  },
  {
   "cell_type": "code",
   "execution_count": 47,
   "id": "e5553e80",
   "metadata": {},
   "outputs": [
    {
     "data": {
      "text/plain": [
       "1104"
      ]
     },
     "execution_count": 47,
     "metadata": {},
     "output_type": "execute_result"
    }
   ],
   "source": [
    "Verkäufe = dp_1[\"Preis\"]. count ()\n",
    "Verkäufe"
   ]
  },
  {
   "cell_type": "markdown",
   "id": "d39d7854",
   "metadata": {},
   "source": [
    "# Antwort Frage 2: Höchst-, Mindest- und Durchschnittspreis  (Tabelle)"
   ]
  },
  {
   "cell_type": "markdown",
   "id": "b6accc0e",
   "metadata": {},
   "source": [
    "Durchschnittswert für die Spalte \"Preis\", \"mean()\" für den Durchschnittswert, round (2) rundet auf zwei Dezimalstellen."
   ]
  },
  {
   "cell_type": "code",
   "execution_count": 48,
   "id": "1e677149",
   "metadata": {},
   "outputs": [
    {
     "data": {
      "text/plain": [
       "88975.2"
      ]
     },
     "execution_count": 48,
     "metadata": {},
     "output_type": "execute_result"
    }
   ],
   "source": [
    "Durchschnittspreis = dp_1 [\"Preis\"].mean(). round(2)\n",
    "Durchschnittspreis "
   ]
  },
  {
   "cell_type": "markdown",
   "id": "7142b1c6",
   "metadata": {},
   "source": [
    "Hoestpreis für die Spalte \"Preis\", \"max()\" für den hoesten Preis."
   ]
  },
  {
   "cell_type": "code",
   "execution_count": 49,
   "id": "8d684df8",
   "metadata": {},
   "outputs": [
    {
     "data": {
      "text/plain": [
       "165482.31"
      ]
     },
     "execution_count": 49,
     "metadata": {},
     "output_type": "execute_result"
    }
   ],
   "source": [
    "Hoechstpreis = dp_1[\"Preis\"]. max()\n",
    "Hoechstpreis"
   ]
  },
  {
   "cell_type": "markdown",
   "id": "96764e56",
   "metadata": {},
   "source": [
    "Mindestpreis für die Spalte \"Preis\", \"min()\" für den geringsten Preis."
   ]
  },
  {
   "cell_type": "code",
   "execution_count": 50,
   "id": "2562ce21",
   "metadata": {},
   "outputs": [
    {
     "data": {
      "text/plain": [
       "21471.65"
      ]
     },
     "execution_count": 50,
     "metadata": {},
     "output_type": "execute_result"
    }
   ],
   "source": [
    "Mindestpreis = dp_1[\"Preis\"]. min()\n",
    "Mindestpreis"
   ]
  },
  {
   "cell_type": "markdown",
   "id": "c6d71b2b",
   "metadata": {},
   "source": [
    "# Antwort Frage 3: Wie hoch war der Gesamtumsatz"
   ]
  },
  {
   "cell_type": "markdown",
   "id": "e358dd23",
   "metadata": {},
   "source": [
    "Mit \"sum()\" den Gesamtumsatz der Spalte \"Preise\"."
   ]
  },
  {
   "cell_type": "code",
   "execution_count": 51,
   "id": "b121c94d",
   "metadata": {},
   "outputs": [
    {
     "data": {
      "text/plain": [
       "98228619.38"
      ]
     },
     "execution_count": 51,
     "metadata": {},
     "output_type": "execute_result"
    }
   ],
   "source": [
    "Gesamtumsatz = dp_1[\"Preis\"].sum(). round (3)\n",
    "Gesamtumsatz"
   ]
  },
  {
   "cell_type": "markdown",
   "id": "8fb0c298",
   "metadata": {},
   "source": [
    "# Antwort Frage 4: Wie viele Autos wurden pro Bundesland verkauft?"
   ]
  },
  {
   "cell_type": "code",
   "execution_count": 62,
   "id": "df81afcf",
   "metadata": {},
   "outputs": [],
   "source": [
    "Verkäufe_pro_Bundesland = merged_dp.groupby (\"Niederlassung\") [\"Preis\"]. count ()"
   ]
  },
  {
   "cell_type": "markdown",
   "id": "b645f79c",
   "metadata": {},
   "source": [
    "DataFrame wird von \"groupby\" gruppiert, nach der Gruppierung wird die Spalte \"Preise\" ausgewählt."
   ]
  },
  {
   "cell_type": "code",
   "execution_count": 63,
   "id": "5f93bbfc",
   "metadata": {},
   "outputs": [
    {
     "data": {
      "text/plain": [
       "Niederlassung\n",
       "Baden-Württemberg      205\n",
       "Bayern                 188\n",
       "Berlin                 126\n",
       "Brandenburg             37\n",
       "Hamburg                 43\n",
       "Hessen                  96\n",
       "Niedersachsen           96\n",
       "Nordrhein-Westfalen    175\n",
       "Sachsen                 89\n",
       "Thüringen               49\n",
       "Name: Preis, dtype: int64"
      ]
     },
     "execution_count": 63,
     "metadata": {},
     "output_type": "execute_result"
    }
   ],
   "source": [
    "Verkäufe_pro_Bundesland"
   ]
  },
  {
   "cell_type": "markdown",
   "id": "e6d47e28",
   "metadata": {},
   "source": [
    "# Antwort Frage 5: Wie hoch war der durchschnittliche Umsatz pro Bundesland?"
   ]
  },
  {
   "cell_type": "markdown",
   "id": "5e96d781",
   "metadata": {},
   "source": [
    "DataFrame wird von \"groupby\" gruppiert, nach der Gruppierung wird die Spalte \"Preise\" ausgewählt."
   ]
  },
  {
   "cell_type": "code",
   "execution_count": 66,
   "id": "6d9f3937",
   "metadata": {},
   "outputs": [
    {
     "data": {
      "text/plain": [
       "Niederlassung\n",
       "Baden-Württemberg      90969.560000\n",
       "Bayern                 89344.313245\n",
       "Berlin                 89584.984048\n",
       "Brandenburg            86673.640811\n",
       "Hamburg                85549.499070\n",
       "Hessen                 85864.929479\n",
       "Niedersachsen          87963.312500\n",
       "Nordrhein-Westfalen    88633.265200\n",
       "Sachsen                89455.080674\n",
       "Thüringen              90816.994082\n",
       "Name: Preis, dtype: float64"
      ]
     },
     "execution_count": 66,
     "metadata": {},
     "output_type": "execute_result"
    }
   ],
   "source": [
    "Durchschnittsumsatz_pro_Bundesland = merged_dp.groupby(\"Niederlassung\") [\"Preis\"].mean()\n",
    "Durchschnittsumsatz_pro_Bundesland"
   ]
  },
  {
   "cell_type": "markdown",
   "id": "e134bbeb",
   "metadata": {},
   "source": [
    "# Antwort Frage 6: In welchem Bundesland wurde das teuerste Auto verkauft?"
   ]
  },
  {
   "cell_type": "markdown",
   "id": "a4f248f3",
   "metadata": {},
   "source": [
    "\"idxmax()\" gibt den teuersten Wert in der Spalte \"Preis\" an. loc wird verwendet um den Wert in der Spalte \"Niederlassung\" an dem gefundenen Index abzurufen."
   ]
  },
  {
   "cell_type": "code",
   "execution_count": 69,
   "id": "bbda682a",
   "metadata": {},
   "outputs": [
    {
     "data": {
      "text/plain": [
       "'Niedersachsen'"
      ]
     },
     "execution_count": 69,
     "metadata": {},
     "output_type": "execute_result"
    }
   ],
   "source": [
    "Teuerstes_auto_index = merged_dp[\"Preis\"].idxmax()\n",
    "Teuerstes_auto_bundesland = merged_dp.loc[Teuerstes_auto_index,\"Niederlassung\"]\n",
    "Teuerstes_auto_bundesland"
   ]
  },
  {
   "cell_type": "markdown",
   "id": "fee4c655",
   "metadata": {},
   "source": [
    "# Antwort Frage 7: Haben mehr Frauen oder Männer unsere Autos gekauft?"
   ]
  },
  {
   "cell_type": "markdown",
   "id": "103a206e",
   "metadata": {},
   "source": [
    "\"groupby()\" gruppiert den DataFrame nach der Spalte \"Geschlecht\".\n",
    "\"Verteilung_der_Kunden.get(1,0)\" Ruft Anzahl der männlichen Kunden ab (1).\n",
    "\"Verteilung_der_Kunden.get(0,0)\" Ruft Anzahl der weiblichen Kunden ab (0)."
   ]
  },
  {
   "cell_type": "code",
   "execution_count": 74,
   "id": "d363b26e",
   "metadata": {},
   "outputs": [
    {
     "name": "stdout",
     "output_type": "stream",
     "text": [
      "Die Mehrheit der Kunden sind Männer!\n"
     ]
    },
    {
     "data": {
      "text/plain": [
       "Geschlecht\n",
       "0    398\n",
       "1    706\n",
       "dtype: int64"
      ]
     },
     "execution_count": 74,
     "metadata": {},
     "output_type": "execute_result"
    }
   ],
   "source": [
    "Verteilung_der_Kunden = dp_1.groupby(\"Geschlecht\").size()\n",
    "if Verteilung_der_Kunden.get (1,0) > Verteilung_der_Kunden.get(0,0):\n",
    "    print (\"Die Mehrheit der Kunden sind Männer!\")\n",
    "elif Verteilung_der_Kunden.get (1,0) < Verteilung_der_Kunden.get (0,0):\n",
    "    print (\"Die Mehrheit der Kunden sind Frauen!\")\n",
    "else: print (\"Die Hälfte der Kunden sind Männer und die anderen Hälfte sind Frauen\")\n",
    "    \n",
    "Verteilung_der_Kunden"
   ]
  },
  {
   "cell_type": "markdown",
   "id": "8d7cb7a0",
   "metadata": {},
   "source": [
    "# Antwort Frage 8: Wie hoch ist das Durchschnittsalter unserer Kunden? Teil 1"
   ]
  },
  {
   "cell_type": "markdown",
   "id": "0bfeeace",
   "metadata": {},
   "source": [
    "Mit dem Befehl \"mean()\" bekommen wir den Durchschnitt.\n",
    "Mit dem Befehl \"round(2)\" wird die Zahl gerundet auf Zwei Stellen."
   ]
  },
  {
   "cell_type": "code",
   "execution_count": 79,
   "id": "cd9be3ae",
   "metadata": {},
   "outputs": [
    {
     "data": {
      "text/plain": [
       "50.38"
      ]
     },
     "execution_count": 79,
     "metadata": {},
     "output_type": "execute_result"
    }
   ],
   "source": [
    "Kunden_Durchschnittsalter_1 = dp_1[\"Alter\"].mean().round(2)\n",
    "Kunden_Durchschnittsalter_1"
   ]
  },
  {
   "cell_type": "markdown",
   "id": "f9afcd17",
   "metadata": {},
   "source": [
    "# Antwort Frage 8: Wie hoch ist das Durchschnittsalter unserer Besucher? Teil 2"
   ]
  },
  {
   "cell_type": "markdown",
   "id": "bdabfb94",
   "metadata": {},
   "source": [
    "Mit dem Befehl \"mean()\" bekommen wir den Durchschnitt.\n",
    "Mit dem Befehl \"round(2)\" wird die Zahl gerundet auf Zwei Stellen."
   ]
  },
  {
   "cell_type": "code",
   "execution_count": 80,
   "id": "a4fac759",
   "metadata": {},
   "outputs": [
    {
     "data": {
      "text/plain": [
       "49.88"
      ]
     },
     "execution_count": 80,
     "metadata": {},
     "output_type": "execute_result"
    }
   ],
   "source": [
    "Besucher_Durchschnittsalter_2 = dp_2[\"Alter\"].mean().round(2)\n",
    "Besucher_Durchschnittsalter_2"
   ]
  },
  {
   "cell_type": "markdown",
   "id": "44b60cdb",
   "metadata": {},
   "source": [
    "# Antwort Frage 9: Wie hoch ist das Durchschnittseinkommen unserer Kunden? Teil 1"
   ]
  },
  {
   "cell_type": "markdown",
   "id": "500befd7",
   "metadata": {},
   "source": [
    "Mit dem Befehl \"mean()\" bekommen wir den Durchschnitt.\n",
    "Mit dem Befehl \"round(2)\" wird die Zahl gerundet auf Zwei Stellen."
   ]
  },
  {
   "cell_type": "code",
   "execution_count": 82,
   "id": "751cc926",
   "metadata": {},
   "outputs": [
    {
     "data": {
      "text/plain": [
       "58895.0"
      ]
     },
     "execution_count": 82,
     "metadata": {},
     "output_type": "execute_result"
    }
   ],
   "source": [
    "Kunden_Durchschnittseinkommen = dp_1 [\"Einkommen\"].mean().round(2)\n",
    "Kunden_Durchschnittseinkommen"
   ]
  },
  {
   "cell_type": "markdown",
   "id": "9aade8da",
   "metadata": {},
   "source": [
    "# Antwort Frage 9: Wie hoch ist das Durchschnittseinkommen unserer Besucher? Teil 2"
   ]
  },
  {
   "cell_type": "markdown",
   "id": "b7c11a89",
   "metadata": {},
   "source": [
    "Mit dem Befehl \"mean()\" bekommen wir den Durchschnitt. Mit dem Befehl \"round(2)\" wird die Zahl gerundet auf Zwei Stellen."
   ]
  },
  {
   "cell_type": "code",
   "execution_count": 83,
   "id": "675b88d6",
   "metadata": {},
   "outputs": [
    {
     "data": {
      "text/plain": [
       "59367.94"
      ]
     },
     "execution_count": 83,
     "metadata": {},
     "output_type": "execute_result"
    }
   ],
   "source": [
    "Besucher_Durchschnittseinkommen = dp_2 [\"Einkommen\"].mean().round(2)\n",
    "Besucher_Durchschnittseinkommen"
   ]
  },
  {
   "cell_type": "markdown",
   "id": "82e207f9",
   "metadata": {},
   "source": [
    "# Antwort Frage 10: Bestimmen Sie, ob es einen statistisch signifikaten Unterschied zwischen dem Durchschnittseinkommen der Kunden und dem Durchschnittseinkommen der Besucher gibt."
   ]
  },
  {
   "cell_type": "code",
   "execution_count": 91,
   "id": "d04e0e1e",
   "metadata": {},
   "outputs": [
    {
     "name": "stdout",
     "output_type": "stream",
     "text": [
      "T-Statistik: -0.6420637509582324\n",
      "P-Wert: 0.5209056330349291\n",
      "Es ist kein statistisch signifikanter Unterschied vorhanden\n"
     ]
    }
   ],
   "source": [
    "#Einkommensdaten extrahieren\n",
    "Kunden_Einkommen = dp_1[\"Einkommen\"]\n",
    "Besucher_Einkommen = dp_2[\"Einkommen\"]\n",
    "\n",
    "#Zweistichproben-t-Test durchführen, stats.ttest_ind() wird mit dem Parameter \n",
    "#equal_var = True durchgeführt, da die Varianzen als gleich angenommen werden.\n",
    "t_stat, p_value = stats.ttest_ind(Kunden_Einkommen, Besucher_Einkommen, equal_var = True)\n",
    "\n",
    "print(f\"T-Statistik: {t_stat}\")\n",
    "print(f\"P-Wert: {p_value}\")\n",
    "\n",
    "#Entscheidung basierend auf dem Signifikanzniveau\n",
    "alpha = 0.05\n",
    "\n",
    "if p_value < alpha:\n",
    "    print (\"Es ist ein statistisch signifikanter Unterschied vorhanden\")\n",
    "else:\n",
    "    print(\"Es ist kein statistisch signifikanter Unterschied vorhanden\")"
   ]
  },
  {
   "cell_type": "markdown",
   "id": "509d6a23",
   "metadata": {},
   "source": [
    "# Beantwortung Frage 11: Wie hoch ist die Korrelation(Pearson-Korrelation) zwischen den Variablen Alter, Einkommen, Preis und Zeit?"
   ]
  },
  {
   "cell_type": "markdown",
   "id": "64d13e23",
   "metadata": {},
   "source": [
    "Erstellung eines neuen DataFrames \"dp_01 mit den Variablen Alter, Einkommen, Preis und Zeit.\n",
    "Der Befehl .corr() berechnet die Korrelation."
   ]
  },
  {
   "cell_type": "code",
   "execution_count": 93,
   "id": "126b24a8",
   "metadata": {},
   "outputs": [
    {
     "data": {
      "text/html": [
       "<div>\n",
       "<style scoped>\n",
       "    .dataframe tbody tr th:only-of-type {\n",
       "        vertical-align: middle;\n",
       "    }\n",
       "\n",
       "    .dataframe tbody tr th {\n",
       "        vertical-align: top;\n",
       "    }\n",
       "\n",
       "    .dataframe thead th {\n",
       "        text-align: right;\n",
       "    }\n",
       "</style>\n",
       "<table border=\"1\" class=\"dataframe\">\n",
       "  <thead>\n",
       "    <tr style=\"text-align: right;\">\n",
       "      <th></th>\n",
       "      <th>Alter</th>\n",
       "      <th>Einkommen</th>\n",
       "      <th>Zeit</th>\n",
       "      <th>Preis</th>\n",
       "    </tr>\n",
       "  </thead>\n",
       "  <tbody>\n",
       "    <tr>\n",
       "      <th>Alter</th>\n",
       "      <td>1.000000</td>\n",
       "      <td>0.762055</td>\n",
       "      <td>0.589595</td>\n",
       "      <td>0.780937</td>\n",
       "    </tr>\n",
       "    <tr>\n",
       "      <th>Einkommen</th>\n",
       "      <td>0.762055</td>\n",
       "      <td>1.000000</td>\n",
       "      <td>0.776198</td>\n",
       "      <td>0.896557</td>\n",
       "    </tr>\n",
       "    <tr>\n",
       "      <th>Zeit</th>\n",
       "      <td>0.589595</td>\n",
       "      <td>0.776198</td>\n",
       "      <td>1.000000</td>\n",
       "      <td>0.707778</td>\n",
       "    </tr>\n",
       "    <tr>\n",
       "      <th>Preis</th>\n",
       "      <td>0.780937</td>\n",
       "      <td>0.896557</td>\n",
       "      <td>0.707778</td>\n",
       "      <td>1.000000</td>\n",
       "    </tr>\n",
       "  </tbody>\n",
       "</table>\n",
       "</div>"
      ],
      "text/plain": [
       "              Alter  Einkommen      Zeit     Preis\n",
       "Alter      1.000000   0.762055  0.589595  0.780937\n",
       "Einkommen  0.762055   1.000000  0.776198  0.896557\n",
       "Zeit       0.589595   0.776198  1.000000  0.707778\n",
       "Preis      0.780937   0.896557  0.707778  1.000000"
      ]
     },
     "execution_count": 93,
     "metadata": {},
     "output_type": "execute_result"
    }
   ],
   "source": [
    "dp_01 = dp_1 [[\"Alter\",\"Einkommen\",\"Zeit\",\"Preis\"]]\n",
    "dp_01.corr()"
   ]
  },
  {
   "cell_type": "markdown",
   "id": "abe0b6cb",
   "metadata": {},
   "source": [
    "# Antwort Frage 12: Testen Sie grafisch mit Hilfe eines qq-Plots, ob die Variable Zeit approximativ normalverteil ist. (Kunden und Besucher zusammen)"
   ]
  },
  {
   "cell_type": "code",
   "execution_count": 94,
   "id": "03b9a025",
   "metadata": {},
   "outputs": [
    {
     "data": {
      "image/png": "[encoded data removed]",
      "text/plain": [
       "<Figure size 700x700 with 1 Axes>"
      ]
     },
     "metadata": {},
     "output_type": "display_data"
    }
   ],
   "source": [
    "Zeit = merged_dp [\"Zeit\"] #Variable Zeit extrahieren\n",
    "\n",
    "#Erstellung eines qq-Plots:\n",
    "plt.figure (figsize=(7,7)) #Bestimmt die Größe\n",
    "stats.probplot(Zeit, dist = \"norm\", plot=plt) #Erstellt qq-Plot\n",
    "plt.title (\"Variable Zeit\") # Titelbeschriftung\n",
    "plt.ylabel(\"Beobachteter Wert\") #Y-Achse Beschriftung\n",
    "plt.xlabel(\"Erwarteter Wert\") #X-Achse Beschriftung\n",
    "plt.grid (True) # Fügt ein Gitter hinzu\n",
    "plt.show()"
   ]
  },
  {
   "cell_type": "markdown",
   "id": "3a922b49",
   "metadata": {},
   "source": [
    "# Antwort Frage 13: Wie viele Kunden haben keinen Bankkredit aufgenommen, um das Auto zu kaufen? "
   ]
  },
  {
   "cell_type": "markdown",
   "id": "128de9b5",
   "metadata": {},
   "source": [
    "dp_1: Nur die Zeilen werden behalten bei denen der Wert in der Spalte \"Einkommen\" größer ist als der Wert in der Spalte \"Preis\". "
   ]
  },
  {
   "cell_type": "code",
   "execution_count": 96,
   "id": "eee0a94e",
   "metadata": {},
   "outputs": [
    {
     "data": {
      "text/html": [
       "<div>\n",
       "<style scoped>\n",
       "    .dataframe tbody tr th:only-of-type {\n",
       "        vertical-align: middle;\n",
       "    }\n",
       "\n",
       "    .dataframe tbody tr th {\n",
       "        vertical-align: top;\n",
       "    }\n",
       "\n",
       "    .dataframe thead th {\n",
       "        text-align: right;\n",
       "    }\n",
       "</style>\n",
       "<table border=\"1\" class=\"dataframe\">\n",
       "  <thead>\n",
       "    <tr style=\"text-align: right;\">\n",
       "      <th></th>\n",
       "      <th>Alter</th>\n",
       "      <th>Einkommen</th>\n",
       "      <th>Preis</th>\n",
       "      <th>Geschlecht</th>\n",
       "      <th>Zeit</th>\n",
       "      <th>KundeNr</th>\n",
       "    </tr>\n",
       "  </thead>\n",
       "  <tbody>\n",
       "    <tr>\n",
       "      <th>157</th>\n",
       "      <td>32</td>\n",
       "      <td>50330.0</td>\n",
       "      <td>49540.28</td>\n",
       "      <td>1</td>\n",
       "      <td>27.0</td>\n",
       "      <td>K0175</td>\n",
       "    </tr>\n",
       "    <tr>\n",
       "      <th>407</th>\n",
       "      <td>34</td>\n",
       "      <td>24264.0</td>\n",
       "      <td>22580.44</td>\n",
       "      <td>1</td>\n",
       "      <td>19.0</td>\n",
       "      <td>K0859</td>\n",
       "    </tr>\n",
       "    <tr>\n",
       "      <th>499</th>\n",
       "      <td>37</td>\n",
       "      <td>54403.0</td>\n",
       "      <td>53690.36</td>\n",
       "      <td>0</td>\n",
       "      <td>47.0</td>\n",
       "      <td>K0364</td>\n",
       "    </tr>\n",
       "    <tr>\n",
       "      <th>642</th>\n",
       "      <td>32</td>\n",
       "      <td>30856.0</td>\n",
       "      <td>27934.83</td>\n",
       "      <td>1</td>\n",
       "      <td>18.0</td>\n",
       "      <td>K0447</td>\n",
       "    </tr>\n",
       "    <tr>\n",
       "      <th>696</th>\n",
       "      <td>31</td>\n",
       "      <td>36296.0</td>\n",
       "      <td>35482.61</td>\n",
       "      <td>0</td>\n",
       "      <td>31.0</td>\n",
       "      <td>K0143</td>\n",
       "    </tr>\n",
       "  </tbody>\n",
       "</table>\n",
       "</div>"
      ],
      "text/plain": [
       "     Alter  Einkommen     Preis  Geschlecht  Zeit KundeNr\n",
       "157     32    50330.0  49540.28           1  27.0   K0175\n",
       "407     34    24264.0  22580.44           1  19.0   K0859\n",
       "499     37    54403.0  53690.36           0  47.0   K0364\n",
       "642     32    30856.0  27934.83           1  18.0   K0447\n",
       "696     31    36296.0  35482.61           0  31.0   K0143"
      ]
     },
     "execution_count": 96,
     "metadata": {},
     "output_type": "execute_result"
    }
   ],
   "source": [
    "Kunde_ohne_Kredit = dp_1 [dp_1[\"Einkommen\"]> dp_1[\"Preis\"]]\n",
    "Kunde_ohne_Kredit"
   ]
  },
  {
   "cell_type": "markdown",
   "id": "abf94733",
   "metadata": {},
   "source": [
    "Wie man in der Tabelle erkennt, sind es 5 Personen die keinen Kredit bei der Bank genommen haben."
   ]
  },
  {
   "cell_type": "markdown",
   "id": "3b34cceb",
   "metadata": {},
   "source": [
    "# Antwort Frage 14: Welche sind die sozioökonomischen Merkmale, die den Kaufpreis der Kunden beeinflussen? "
   ]
  },
  {
   "cell_type": "markdown",
   "id": "7536020e",
   "metadata": {},
   "source": [
    "\"smf.ols(\"Preis\" ~ \"Alter\" + \"Geschlecht\" + \"Einkommen\" + \"Zeit\", data = merged_dp)\" definiert das lineare Regressionsmodell mit Preis als abhängiger Variable und den Rest als unabhängige Variable."
   ]
  },
  {
   "cell_type": "code",
   "execution_count": 100,
   "id": "d5010312",
   "metadata": {},
   "outputs": [
    {
     "name": "stdout",
     "output_type": "stream",
     "text": [
      "                            OLS Regression Results                            \n",
      "==============================================================================\n",
      "Dep. Variable:                  Preis   R-squared:                       0.829\n",
      "Model:                            OLS   Adj. R-squared:                  0.828\n",
      "Method:                 Least Squares   F-statistic:                     1329.\n",
      "Date:                Tue, 18 Jun 2024   Prob (F-statistic):               0.00\n",
      "Time:                        12:37:23   Log-Likelihood:                -11748.\n",
      "No. Observations:                1104   AIC:                         2.351e+04\n",
      "Df Residuals:                    1099   BIC:                         2.353e+04\n",
      "Df Model:                           4                                         \n",
      "Covariance Type:            nonrobust                                         \n",
      "==============================================================================\n",
      "                 coef    std err          t      P>|t|      [0.025      0.975]\n",
      "------------------------------------------------------------------------------\n",
      "Intercept   -132.5320   1531.939     -0.087      0.931   -3138.388    2873.324\n",
      "Alter        480.6684     39.472     12.178      0.000     403.220     558.117\n",
      "Geschlecht  2142.1115    636.356      3.366      0.001     893.502    3390.721\n",
      "Einkommen      1.0250      0.037     27.987      0.000       0.953       1.097\n",
      "Zeit          71.0572     44.653      1.591      0.112     -16.558     158.673\n",
      "==============================================================================\n",
      "Omnibus:                        1.229   Durbin-Watson:                   2.103\n",
      "Prob(Omnibus):                  0.541   Jarque-Bera (JB):                1.234\n",
      "Skew:                           0.015   Prob(JB):                        0.539\n",
      "Kurtosis:                       2.839   Cond. No.                     3.09e+05\n",
      "==============================================================================\n",
      "\n",
      "Notes:\n",
      "[1] Standard Errors assume that the covariance matrix of the errors is correctly specified.\n",
      "[2] The condition number is large, 3.09e+05. This might indicate that there are\n",
      "strong multicollinearity or other numerical problems.\n"
     ]
    }
   ],
   "source": [
    "model_1 = smf.ols(\"Preis ~ Alter + Geschlecht + Einkommen + Zeit\", data = merged_dp)\n",
    "result = model_1.fit()\n",
    "print(result.summary())"
   ]
  },
  {
   "cell_type": "code",
   "execution_count": null,
   "id": "234d904d",
   "metadata": {},
   "outputs": [],
   "source": []
  }
 ],
 "metadata": {
  "kernelspec": {
   "display_name": "Python 3 (ipykernel)",
   "language": "python",
   "name": "python3"
  },
  "language_info": {
   "codemirror_mode": {
    "name": "ipython",
    "version": 3
   },
   "file_extension": ".py",
   "mimetype": "text/x-python",
   "name": "python",
   "nbconvert_exporter": "python",
   "pygments_lexer": "ipython3",
   "version": "3.11.5"
  }
 },
 "nbformat": 4,
 "nbformat_minor": 5
}
