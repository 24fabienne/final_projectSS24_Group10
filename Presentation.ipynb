{
 "cells": [
  {
   "cell_type": "code",
   "execution_count": 2,
   "id": "957fc717",
   "metadata": {
    "slideshow": {
     "slide_type": "slide"
    }
   },
   "outputs": [],
   "source": [
    "import pandas as pd\n",
    "import numpy as np\n",
    "import matplotlib.pyplot as plt \n",
    "from scipy import stats\n",
    "from scipy.stats import linregress\n",
    "import statsmodels.api as sm\n",
    "import statsmodels.formula.api as smf\n",
    "import seaborn as sns\n",
    "import warnings \n",
    "%matplotlib inline"
   ]
  },
  {
   "cell_type": "markdown",
   "id": "93eb109a",
   "metadata": {
    "slideshow": {
     "slide_type": "slide"
    }
   },
   "source": [
    "# Die Elektratuto AG\n",
    "\n",
    "\n",
    "Präsentation an der HWR Berlin, Sommersemester 2024\n",
    "\n",
    "Präsentiert von: Muhammed Yasin Kilic, Fabienne Bahr, \n",
    "\n",
    "Präsentiert am: 28.06.24"
   ]
  },
  {
   "cell_type": "markdown",
   "id": "19892210",
   "metadata": {
    "slideshow": {
     "slide_type": "slide"
    }
   },
   "source": [
    "## F1: Wie viele Autos wurden verkauft?"
   ]
  },
  {
   "cell_type": "code",
   "execution_count": 3,
   "id": "f13cb49f",
   "metadata": {
    "slideshow": {
     "slide_type": "subslide"
    }
   },
   "outputs": [
    {
     "ename": "NameError",
     "evalue": "name 'dp_1' is not defined",
     "output_type": "error",
     "traceback": [
      "\u001b[1;31m---------------------------------------------------------------------------\u001b[0m",
      "\u001b[1;31mNameError\u001b[0m                                 Traceback (most recent call last)",
      "Cell \u001b[1;32mIn[3], line 3\u001b[0m\n\u001b[0;32m      1\u001b[0m \u001b[38;5;66;03m# Es werden die Einträge in der Spalte \"Preise\" gezählt und in der Varible \"Verkäufe\" wiedergegeben\u001b[39;00m\n\u001b[1;32m----> 3\u001b[0m Verkäufe \u001b[38;5;241m=\u001b[39m dp_1[\u001b[38;5;124m\"\u001b[39m\u001b[38;5;124mPreis\u001b[39m\u001b[38;5;124m\"\u001b[39m]\u001b[38;5;241m.\u001b[39m count()\n\u001b[0;32m      4\u001b[0m Verkäufe\n",
      "\u001b[1;31mNameError\u001b[0m: name 'dp_1' is not defined"
     ]
    }
   ],
   "source": [
    "# Es werden die Einträge in der Spalte \"Preise\" gezählt und in der Varible \"Verkäufe\" wiedergegeben\n",
    "\n",
    "Verkäufe = dp_1[\"Preis\"]. count()\n",
    "Verkäufe"
   ]
  },
  {
   "cell_type": "markdown",
   "id": "038d6bab",
   "metadata": {
    "slideshow": {
     "slide_type": "slide"
    }
   },
   "source": [
    "## F2: Höchst-, Mindest- und Durchschnittspreis  (Tabelle)"
   ]
  },
  {
   "cell_type": "code",
   "execution_count": 4,
   "id": "d5337a32",
   "metadata": {
    "slideshow": {
     "slide_type": "subslide"
    }
   },
   "outputs": [
    {
     "ename": "NameError",
     "evalue": "name 'dp_1' is not defined",
     "output_type": "error",
     "traceback": [
      "\u001b[1;31m---------------------------------------------------------------------------\u001b[0m",
      "\u001b[1;31mNameError\u001b[0m                                 Traceback (most recent call last)",
      "Cell \u001b[1;32mIn[4], line 3\u001b[0m\n\u001b[0;32m      1\u001b[0m \u001b[38;5;66;03m# Durchschnittswert für die Spalte \"Preis\", \"mean()\" für den Durchschnittswert, round (2) rundet auf zwei Dezimalstellen\u001b[39;00m\n\u001b[1;32m----> 3\u001b[0m Durchschnittspreis \u001b[38;5;241m=\u001b[39m dp_1 [\u001b[38;5;124m\"\u001b[39m\u001b[38;5;124mPreis\u001b[39m\u001b[38;5;124m\"\u001b[39m]\u001b[38;5;241m.\u001b[39mmean()\u001b[38;5;241m.\u001b[39m \u001b[38;5;28mround\u001b[39m(\u001b[38;5;241m2\u001b[39m)\n\u001b[0;32m      4\u001b[0m Durchschnittspreis\n",
      "\u001b[1;31mNameError\u001b[0m: name 'dp_1' is not defined"
     ]
    }
   ],
   "source": [
    "# Durchschnittswert für die Spalte \"Preis\", \"mean()\" für den Durchschnittswert, round (2) rundet auf zwei Dezimalstellen\n",
    "\n",
    "Durchschnittspreis = dp_1[\"Preis\"].mean(). round(2)\n",
    "Durchschnittspreis"
   ]
  },
  {
   "cell_type": "code",
   "execution_count": null,
   "id": "187bed2e",
   "metadata": {
    "slideshow": {
     "slide_type": "subslide"
    }
   },
   "outputs": [],
   "source": [
    "# Höchstpreis für die Spalte \"Preis\", \"max()\" für den höchsten Preis\n",
    "\n",
    "Höchstpreis = dp_1[\"Preis\"]. max()\n",
    "Höchstpreis"
   ]
  },
  {
   "cell_type": "code",
   "execution_count": null,
   "id": "c07496f1",
   "metadata": {
    "slideshow": {
     "slide_type": "subslide"
    }
   },
   "outputs": [],
   "source": [
    "# Mindestpreis für die Spalte \"Preis\", \"min()\" für den geringsten Preis\n",
    "\n",
    "Mindestpreis = dp_1[\"Preis\"].sum(). round(3)\n",
    "Mindestpreis"
   ]
  },
  {
   "cell_type": "markdown",
   "id": "7b0116a8",
   "metadata": {
    "slideshow": {
     "slide_type": "slide"
    }
   },
   "source": [
    "## F3: Wie hoch war der Gesamtumsatz?"
   ]
  },
  {
   "cell_type": "code",
   "execution_count": null,
   "id": "5c5a4ca5",
   "metadata": {
    "slideshow": {
     "slide_type": "subslide"
    }
   },
   "outputs": [],
   "source": [
    "# Mit \"sum()\" den Gesamtumsatz der Spalte \"Preise\"\n",
    "\n",
    "Gesamtumsatz = dp_1[\"Preis\"]. sum(). round(3)\n",
    "Gesamtumsatz"
   ]
  },
  {
   "cell_type": "markdown",
   "id": "38a0c935",
   "metadata": {
    "slideshow": {
     "slide_type": "slide"
    }
   },
   "source": [
    "## F4: Wie viele Autos wurden pro Bundesland verkauft?"
   ]
  },
  {
   "cell_type": "code",
   "execution_count": null,
   "id": "62f267ea",
   "metadata": {
    "slideshow": {
     "slide_type": "subslide"
    }
   },
   "outputs": [],
   "source": [
    "# DataFrame wird von \"groupby\" gruppiert, nach der Gruppierung wird die Spalte \"Preise\" ausgewählt\n",
    "\n",
    "Verkäufe_pro_Bundesland = merged_dp.groupby (\"Niederlassung\") [\"Preis\"]. count()\n",
    "Verkäufe_pro_Bundesland"
   ]
  },
  {
   "cell_type": "markdown",
   "id": "d481ff9e",
   "metadata": {
    "slideshow": {
     "slide_type": "slide"
    }
   },
   "source": [
    "## F5: Wie hoch war der durchschnittliche Umsatz pro Bundesland?"
   ]
  },
  {
   "cell_type": "code",
   "execution_count": null,
   "id": "1cc8f7eb",
   "metadata": {
    "slideshow": {
     "slide_type": "subslide"
    }
   },
   "outputs": [],
   "source": [
    "#DataFrame wird von \"groupby\" gruppiert, nach der Gruppierung wird die Spalte \"Preise\" ausgewählt\n",
    "\n",
    "Durchschnittsumsatz_pro_Bundesland = merged_dp.groupby(\"Niederlassung\") [\"Preis\"].mean()\n",
    "Durchschnittsumsatz_pro_Bundesland"
   ]
  },
  {
   "cell_type": "markdown",
   "id": "c0627f40",
   "metadata": {
    "slideshow": {
     "slide_type": "slide"
    }
   },
   "source": [
    "## F6: In welchem Bundesland wurde das teuerste Auto verkauft?"
   ]
  },
  {
   "cell_type": "code",
   "execution_count": null,
   "id": "becb5c5f",
   "metadata": {
    "slideshow": {
     "slide_type": "subslide"
    }
   },
   "outputs": [],
   "source": [
    "# \"idxmax()\" gibt den teuersten Wert in der Spalte \"Preis\" an. loc wird verwendet um den Wert in der Spalte \"Niederlassung\" an dem gefundenen Index abzurufen\n",
    "\n",
    "Teuerstes_auto_index = merged_dp[\"Preis\"].idxmax()\n",
    "Teuerstes_auto_bundesland = merged_dp.loc[Teuerstes_auto_index,\"Niederlassung\"]\n",
    "Teuerstes_auto_bundesland"
   ]
  },
  {
   "cell_type": "markdown",
   "id": "31d28007",
   "metadata": {
    "slideshow": {
     "slide_type": "slide"
    }
   },
   "source": [
    "## F7: Haben mehr Frauen oder Männer unsere Autos gekauft?"
   ]
  },
  {
   "cell_type": "code",
   "execution_count": null,
   "id": "0395dca6",
   "metadata": {
    "slideshow": {
     "slide_type": "subslide"
    }
   },
   "outputs": [],
   "source": [
    "#\"groupby()\" gruppiert den DataFrame nach der Spalte \"Geschlecht\". \"Verteilung_der_Kunden.get(1,0)\" Ruft Anzahl der männlichen Kunden ab (1). \"Verteilung_der_Kunden.get(0,0)\" Ruft Anzahl der weiblichen Kunden ab (0)\n",
    "\n",
    "Verteilung_der_Kunden = dp_1.groupby(\"Geschlecht\").size()\n",
    "if Verteilung_der_Kunden.get (1,0) > Verteilung_der_Kunden.get(0,0):\n",
    "    print (\"Die Mehrheit der Kunden sind Männer!\")\n",
    "elif Verteilung_der_Kunden.get (1,0) < Verteilung_der_Kunden.get (0,0):\n",
    "    print (\"Die Mehrheit der Kunden sind Frauen!\")\n",
    "else: print (\"Die Hälfte der Kunden sind Männer und die anderen Hälfte sind Frauen\")\n",
    "    \n",
    "Verteilung_der_Kunden"
   ]
  },
  {
   "cell_type": "markdown",
   "id": "851f433b",
   "metadata": {
    "slideshow": {
     "slide_type": "slide"
    }
   },
   "source": [
    "## F8 Teil 1: Wie hoch ist das Durchschnittsalter unserer Kunden?"
   ]
  },
  {
   "cell_type": "code",
   "execution_count": null,
   "id": "532fbe19",
   "metadata": {
    "slideshow": {
     "slide_type": "subslide"
    }
   },
   "outputs": [],
   "source": [
    "# Mit dem Befehl \"mean()\" bekommen wir den Durchschnitt\n",
    "# Mit dem Befehl \"round(2)\" wird die Zahl gerundet auf zwei Stellen\n",
    "\n",
    "Kunden_Durchschnittsalter_1 = dp_1[\"Alter\"].mean().round(2)\n",
    "Kunden_Durchschnittsalter_1"
   ]
  },
  {
   "cell_type": "markdown",
   "id": "a9c9a899",
   "metadata": {
    "slideshow": {
     "slide_type": "slide"
    }
   },
   "source": [
    "## F8 Teil 2: Wie hoch ist das Durchschnittsalter unserer Besucher?"
   ]
  },
  {
   "cell_type": "code",
   "execution_count": null,
   "id": "1cb7d898",
   "metadata": {
    "slideshow": {
     "slide_type": "subslide"
    }
   },
   "outputs": [],
   "source": [
    "# Mit dem Befehl \"mean()\" bekommen wir den Durchschnitt\n",
    "# Mit dem Befehl \"round(2)\" wird die Zahl gerundet auf Zwei Stellen\n",
    "\n",
    "Besucher_Durchschnittsalter_2 = dp_2[\"Alter\"].mean().round(2)\n",
    "Besucher_Durchschnittsalter_2"
   ]
  },
  {
   "cell_type": "markdown",
   "id": "080cbd75",
   "metadata": {
    "slideshow": {
     "slide_type": "slide"
    }
   },
   "source": [
    "## F9 Teil 1: Wie hoch ist das Durchschnittseinkommen unserer Kunden?"
   ]
  },
  {
   "cell_type": "code",
   "execution_count": null,
   "id": "3040bbfd",
   "metadata": {
    "slideshow": {
     "slide_type": "subslide"
    }
   },
   "outputs": [],
   "source": [
    "# Mit dem Befehl \"mean()\" bekommen wir den Durchschnitt\n",
    "# Mit dem Befehl \"round(2)\" wird die Zahl gerundet auf Zwei Stellen\n",
    "\n",
    "Kunden_Durchschnittseinkommen = dp_1 [\"Einkommen\"].mean().round(2)\n",
    "Kunden_Durchschnittseinkommen"
   ]
  },
  {
   "cell_type": "markdown",
   "id": "72f955ae",
   "metadata": {
    "slideshow": {
     "slide_type": "slide"
    }
   },
   "source": [
    "## F9 Teil 2: Wie hoch ist das Durchschnittseinkommen unserer Besucher?"
   ]
  },
  {
   "cell_type": "code",
   "execution_count": null,
   "id": "f790cf3f",
   "metadata": {
    "slideshow": {
     "slide_type": "subslide"
    }
   },
   "outputs": [],
   "source": [
    "# Mit dem Befehl \"mean()\" bekommen wir den Durchschnitt \n",
    "# Mit dem Befehl \"round(2)\" wird die Zahl gerundet auf Zwei Stellen\n",
    "\n",
    "Besucher_Durchschnittseinkommen = dp_2 [\"Einkommen\"].mean().round(2)\n",
    "Besucher_Durchschnittseinkommen"
   ]
  },
  {
   "cell_type": "markdown",
   "id": "e232e4a4",
   "metadata": {
    "slideshow": {
     "slide_type": "slide"
    }
   },
   "source": [
    "## F10: Gibt es einen statistisch signifikanten Unterschied zwischen dem Durchschnittseinkommen der Kunden und dem Durchschnittseinkommen der Besucher?"
   ]
  },
  {
   "cell_type": "code",
   "execution_count": null,
   "id": "82d6320c",
   "metadata": {
    "slideshow": {
     "slide_type": "subslide"
    }
   },
   "outputs": [],
   "source": [
    "#Einkommensdaten extrahieren\n",
    "Kunden_Einkommen = dp_1[\"Einkommen\"]\n",
    "Besucher_Einkommen = dp_2[\"Einkommen\"]\n",
    "\n",
    "#Zweistichproben-t-Test durchführen, stats.ttest_ind() wird mit dem Parameter \n",
    "#equal_var = True durchgeführt, da die Varianzen als gleich angenommen werden.\n",
    "t_stat, p_value = stats.ttest_ind(Kunden_Einkommen, Besucher_Einkommen, equal_var = True)\n",
    "\n",
    "print(f\"T-Statistik: {t_stat}\")\n",
    "print(f\"P-Wert: {p_value}\")\n",
    "\n",
    "#Entscheidung basierend auf dem Signifikanzniveau\n",
    "alpha = 0.05\n",
    "\n",
    "if p_value < alpha:\n",
    "    print (\"Es ist ein statistisch signifikanter Unterschied vorhanden\")\n",
    "else:\n",
    "    print(\"Es ist kein statistisch signifikanter Unterschied vorhanden\")"
   ]
  },
  {
   "cell_type": "markdown",
   "id": "ce21ea56",
   "metadata": {
    "slideshow": {
     "slide_type": "slide"
    }
   },
   "source": [
    "## F11: Wie hoch ist die Korrelation (Pearson-Korrelation) zwischen den Variablen Alter, Einkommen, Preis und Zeit?"
   ]
  },
  {
   "cell_type": "code",
   "execution_count": null,
   "id": "09cd8697",
   "metadata": {
    "slideshow": {
     "slide_type": "subslide"
    }
   },
   "outputs": [],
   "source": [
    "# Erstellung eines neuen DataFrames \"dp_01 mit den Variablen Alter, Einkommen, Preis und Zeit. Der Befehl .corr() berechnet die Korrelation.\n",
    "\n",
    "dp_01 = dp_1 [[\"Alter\",\"Einkommen\",\"Zeit\",\"Preis\"]]\n",
    "dp_01.corr()"
   ]
  },
  {
   "cell_type": "markdown",
   "id": "6522072c",
   "metadata": {
    "slideshow": {
     "slide_type": "slide"
    }
   },
   "source": [
    "## F12: Ist die Variable Zeit approximativ normalverteilt? (Kunden und Besucher zusammen, qq-Plot)"
   ]
  },
  {
   "cell_type": "code",
   "execution_count": null,
   "id": "27ecf14a",
   "metadata": {
    "slideshow": {
     "slide_type": "subslide"
    }
   },
   "outputs": [],
   "source": [
    "Zeit = merged_dp [\"Zeit\"] #Variable Zeit extrahieren\n",
    "\n",
    "#Erstellung eines qq-Plots:\n",
    "plt.figure (figsize=(7,7)) #Bestimmt die Größe\n",
    "stats.probplot(Zeit, dist = \"norm\", plot=plt) #Erstellt qq-Plot\n",
    "plt.title (\"Variable Zeit\") # Titelbeschriftung\n",
    "plt.ylabel(\"Beobachteter Wert\") #Y-Achse Beschriftung\n",
    "plt.xlabel(\"Erwarteter Wert\") #X-Achse Beschriftung\n",
    "plt.grid (True) # Fügt ein Gitter hinzu\n",
    "plt.show()"
   ]
  },
  {
   "cell_type": "markdown",
   "id": "cb95e9d7",
   "metadata": {
    "slideshow": {
     "slide_type": "slide"
    }
   },
   "source": [
    "## F13: Wie viele Kunden haben keinen Bankkredit aufgenommen, um das Auto zu kaufen?"
   ]
  },
  {
   "cell_type": "code",
   "execution_count": null,
   "id": "63ffb869",
   "metadata": {
    "slideshow": {
     "slide_type": "subslide"
    }
   },
   "outputs": [],
   "source": [
    "# dp_1: Nur die Zeilen werden behalten bei denen der Wert in der Spalte \"Einkommen\" größer ist als der Wert in der Spalte \"Preis\"\n",
    "\n",
    "Kunde_ohne_Kredit = dp_1 [dp_1[\"Einkommen\"]> dp_1[\"Preis\"]]\n",
    "Kunde_ohne_Kredit\n",
    "\n",
    "# Wie man in der Tabelle erkennt, sind es 5 Personen die keinen Kredit bei der Bank genommen haben."
   ]
  },
  {
   "cell_type": "markdown",
   "id": "a9c7a25b",
   "metadata": {
    "slideshow": {
     "slide_type": "slide"
    }
   },
   "source": [
    "## F14: Welche sind die sozioökonomischen Merkmale, die den Kaufpreis der Kunden beeinflussen?"
   ]
  },
  {
   "cell_type": "code",
   "execution_count": null,
   "id": "20aa0958",
   "metadata": {
    "slideshow": {
     "slide_type": "subslide"
    }
   },
   "outputs": [],
   "source": [
    "# \"smf.ols(\"Preis\" ~ \"Alter\" + \"Geschlecht\" + \"Einkommen\" + \"Zeit\", data = merged_dp)\" definiert das lineare Regressionsmodell mit Preis als abhängiger Variable und den Rest als unabhängige Variable.\n",
    "\n",
    "model_1 = smf.ols(\"Preis ~ Alter + Geschlecht + Einkommen + Zeit\", data = merged_dp)\n",
    "result = model_1.fit()\n",
    "print(result.summary())"
   ]
  },
  {
   "cell_type": "markdown",
   "id": "d927bf67",
   "metadata": {
    "slideshow": {
     "slide_type": "slide"
    }
   },
   "source": [
    "## F15: Prognostizieren des Kaufpreises für (m,32,30.000€) & (m,51,54.000€)"
   ]
  },
  {
   "cell_type": "code",
   "execution_count": null,
   "id": "89d0c1f3",
   "metadata": {
    "slideshow": {
     "slide_type": "subslide"
    }
   },
   "outputs": [],
   "source": [
    "#Daten vorbereiten = Entfernen von Zeilen, wo der Preis fehlt\n",
    "model_data = merged_dp.dropna(subset=[\"Preis\"]) \n",
    "\n",
    "#Features auswählen, in dem Fall Alter, Einkommen, Geschlecht\n",
    "features = [\"Alter\", \"Einkommen\", \"Geschlecht\"]\n",
    "X = model_data [features] # X erhält ausgewählte Features\n",
    "y = model_data [\"Preis\"] #Y ist die abhängige Variable Preis\n",
    "\n",
    "\n",
    "#Konstante hinzufügen\n",
    "X = sm.add_constant(X)\n",
    "\n",
    "#Erstellung einer Linearen Regression\n",
    "model = sm.OLS(y,X)\n",
    "result = model.fit() #Passt das Modell an die Daten an\n",
    "\n",
    "#Szenarien vorbereiten , die selbe Reihenfolge bei den Zahlen wie bei den columns benutzen\n",
    "szenario_1 = pd.DataFrame ([[1,32,30000,1]], columns = [\"const\", \"Alter\", \"Einkommen\", \"Geschlecht\"])\n",
    "szenario_2 = pd.DataFrame ([[1,51,54000,1]], columns = [\"const\", \"Alter\", \"Einkommen\", \"Geschlecht\"])\n",
    "\n",
    "# Für die Szenarien Vorhersagen treffen\n",
    "Vorhersage_1 = result.predict(szenario_1)\n",
    "Vorhersage_2 = result.predict(szenario_2)"
   ]
  },
  {
   "cell_type": "code",
   "execution_count": null,
   "id": "e6be8dbf",
   "metadata": {
    "slideshow": {
     "slide_type": "subslide"
    }
   },
   "outputs": [],
   "source": [
    "#Ergebniss Vorhersage 1\n",
    "\"Ergebnis für m,32,30000\", Vorhersage_1\n",
    "\n",
    "#Ergebniss Vorhersage 2\n",
    "\"Ergebnis für m,51,54000\", Vorhersage_2"
   ]
  },
  {
   "cell_type": "markdown",
   "id": "f9f677e3",
   "metadata": {
    "slideshow": {
     "slide_type": "slide"
    }
   },
   "source": [
    "## F16: Welche Variable beeinflusst den Preis des Autos am meisten?"
   ]
  },
  {
   "cell_type": "code",
   "execution_count": null,
   "id": "ef94741f",
   "metadata": {
    "slideshow": {
     "slide_type": "subslide"
    }
   },
   "outputs": [],
   "source": [
    "dp_16 = dp_1 [[\"Alter\", \"Einkommen\", \"Geschlecht\", \"Preis\"]]\n",
    "\n",
    "#Standatisierung einfügen, Auswahl der Spalten mit numerischen Datentyp, Entfernen aller Zeilen\n",
    "#die mind. einen fehlenden Wert enthalten\n",
    "dp_standart = dp_16.select_dtypes(include = [np.number]).dropna().apply(stats.zscore)\n",
    "\n",
    "#Regression einfügen\n",
    "formel = \"Preis ~ Alter + Einkommen + Geschlecht\"\n",
    "result = smf.ols(formel, data=dp_standart).fit()\n",
    "\n",
    "result.summary()"
   ]
  },
  {
   "cell_type": "markdown",
   "id": "60860e17",
   "metadata": {
    "slideshow": {
     "slide_type": "slide"
    }
   },
   "source": [
    "## F17: Schätzung der Regression, die die Wahrscheinlichkeit des Kaufes eines Autos ermittelt"
   ]
  },
  {
   "cell_type": "code",
   "execution_count": null,
   "id": "d22f398d",
   "metadata": {
    "slideshow": {
     "slide_type": "subslide"
    }
   },
   "outputs": [],
   "source": [
    "#Erste Zeile Anzeigen lassen für die Reihenfolge\n",
    "merged_dp.head(1)\n",
    "\n",
    "# Logisches Regressionsmodell \"smf.logit()\", Kunde ist die Abhängige Variable, \"fit()\" passt Modell an Daten an\n",
    "Regression = smf.logit(\"Kunde ~ Alter + Einkommen + Geschlecht + Zeit\", data =merged_dp).fit()\n",
    "Regression\n",
    "\n",
    "Regression.summary()"
   ]
  },
  {
   "cell_type": "markdown",
   "id": "e6949744",
   "metadata": {
    "slideshow": {
     "slide_type": "slide"
    }
   },
   "source": [
    "## F18: Wie hoch ist die Wahrscheinlichkeit, dass ein Autokauf mit m1 und m2 zu stande kommt? (m,32,30.000€,30min) & (m,51,54.000€,45min)"
   ]
  },
  {
   "cell_type": "code",
   "execution_count": null,
   "id": "8e60e3c6",
   "metadata": {
    "slideshow": {
     "slide_type": "subslide"
    }
   },
   "outputs": [],
   "source": [
    "#Für die Person 1 muss zunächst ein DataFrame erstellt werden.\n",
    "Person_1 = pd.DataFrame({\"Alter\":[32], \"Einkommen\": [30000], \"Geschlecht\": [1], \"Zeit\": [30]})\n",
    "\n",
    "#Wahrscheinlichkeit vorhersagen\n",
    "Kaufwahrscheinlichkeit = Regression.predict(Person_1)\n",
    "\n",
    "(\"Wahrscheinlichkeit das Auto gekauft wird:\", Kaufwahrscheinlichkeit.values[0])"
   ]
  },
  {
   "cell_type": "code",
   "execution_count": null,
   "id": "c3caf034",
   "metadata": {
    "slideshow": {
     "slide_type": "subslide"
    }
   },
   "outputs": [],
   "source": [
    "#Für die Person 2 muss auch ein DataFrame erstellt werden.\n",
    "Person_2 = pd.DataFrame({\"Alter\":[51], \"Einkommen\": [54000], \"Geschlecht\": [1], \"Zeit\": [45]})\n",
    "\n",
    "#Wahrscheinlichkeit vorhersagen\n",
    "Kaufwahrscheinlichkeit = Regression.predict(Person_2)\n",
    "\n",
    "(\"Wahrscheinlichkeit das Auto gekauft wird:\", Kaufwahrscheinlichkeit.values[0])"
   ]
  },
  {
   "cell_type": "markdown",
   "id": "14680b5d",
   "metadata": {
    "slideshow": {
     "slide_type": "slide"
    }
   },
   "source": [
    "## F19: Probleme "
   ]
  },
  {
   "cell_type": "markdown",
   "id": "61594e54",
   "metadata": {
    "slideshow": {
     "slide_type": "subslide"
    }
   },
   "source": [
    "### 1. Es haben Daten gefehlt.\n",
    "\n",
    "Alter         0\n",
    "Einkommen     0\n",
    "Preis         0\n",
    "Geschlecht    5\n",
    "Zeit          0\n",
    "KundeNr       0\n",
    "\n",
    "Es fehlten 5 Daten in der Spalte \"Geschlecht\". Die fehlenden Werte werden mit 1 aufgefüllt:\n",
    "\n",
    "dp_1[\"Geschlecht\"] = dp_1[\"Geschlecht\"].fillna(1)"
   ]
  },
  {
   "cell_type": "markdown",
   "id": "f2139a88",
   "metadata": {
    "slideshow": {
     "slide_type": "subslide"
    }
   },
   "source": [
    "### 2. Spalte \"Alter\" hat 2 sehr hohe Werte 100 und 120, welche beide 1x vorkamen Altergruppe 55 traten sehr häufig in Erscheinung, deshalb haben wir jede Zahl über 100 druch die 55 ersetzt.\n",
    "\n",
    "Alter 55 41 62 39 57 34 66 33 64 32 30 32 34 31 69 30 37 30 31 30 52 29 54 29 58 29 65 29 53 29 61 29 68 29 59 28 35 27 51 27 41 26 40 26 43 26 32 26 46 26 39 24 48 24 38 24 33 24 44 23 50 23 67 23 42 22 70 22 56 22 45 22 49 22 63 21 60 20 47 20 36 19\n",
    "\n",
    "#### 100 1\n",
    "#### 120 1\n",
    "\n",
    "dp_1[\"Alter\"] = dp_1[\"Alter\"]. apply(lambda x: 55 if x >= 100 else x)"
   ]
  },
  {
   "cell_type": "markdown",
   "id": "6d25f576",
   "metadata": {
    "slideshow": {
     "slide_type": "subslide"
    }
   },
   "source": [
    "### 3. Spalte \"Einkommen\" hatte sehr hohe positive und negative Zahlen und auch Werte von 0. Wir haben uns für den Wert Median entschieden und alle zu hohen oder niedrigen werde gegen den Median ausgetauscht.\n",
    "\n",
    "median_einkommen = dp_1[\"Einkommen\"].median()\n",
    "\n",
    "dp_1[\"Einkommen\"] = dp_1[\"Einkommen\"].apply(lamda x: median_einkommen if x <= 0 or x >= 1000000 else x)"
   ]
  },
  {
   "cell_type": "markdown",
   "id": "406dddbb",
   "metadata": {
    "slideshow": {
     "slide_type": "subslide"
    }
   },
   "source": [
    "### 4. Die Datentypen der Datensätze haben nicht übereingestimmt\n",
    "\n",
    "dp_1.dtypes\n",
    "Alter           int64\n",
    "Einkommen     float64\n",
    "Preis         float64\n",
    "Geschlecht    float64\n",
    "Zeit          float64\n",
    "KundeNr        object\n",
    "dtype: object\n",
    "\n",
    "dp_2-dtypes\n",
    "Alter          int64\n",
    "Einkommen     object\n",
    "Geschlecht     int64\n",
    "Zeit          object\n",
    "KundeNr       object\n",
    "dtype: object"
   ]
  },
  {
   "cell_type": "markdown",
   "id": "a24cd0a5",
   "metadata": {
    "slideshow": {
     "slide_type": "subslide"
    }
   },
   "source": [
    "Die Datentypen müssen übereinstimmen, damit keine Fehler auftreten. Diese wurden entsprechend geändert:\n",
    "\n",
    "dp_1[\"Geschlecht\"] = dp_1[\"Geschlecht\"].astype(\"int64\")\n",
    "\n",
    "#dp_2[\"Einkommen\"] = pd.to_numeric(dp_2[\"Einkommen\"].str.replace(',','.'), errors = \"coerce\")\n",
    "#dp_2[\"Zeit\"] = pd.to_numeric(dp_2[\"Zeit\"].str.replace(',','.'), errors = \"coerce\")\n",
    "\n",
    "Der Befehl \"coerce\" setzt für Elemente, die nicht verändert werden können, ein \"NaN\" ein. Dadurch kommen keine Fehlermeldungen."
   ]
  },
  {
   "cell_type": "markdown",
   "id": "355f2858",
   "metadata": {
    "slideshow": {
     "slide_type": "subslide"
    }
   },
   "source": [
    "### 5. Die Bundesländer haben verschiedene Schreibweisen. Es werden verschiedene Bezirke benutzt und Abkürzungen.\n",
    "\n",
    "merged_dp[\"Niederlassung\"].unique()\n",
    "#array(['Bayern', 'Berlin', 'Baden-Württemberg', 'Hessen', 'Thüringen',\n",
    "      'Sachsen', 'Nordrhein-Westfalen', 'BERLIN', 'Niedersachsen',\n",
    "      'Hamburg', 'Brandenburg', 'Berlin-Mitte', 'Düsseldorf', 'NRW',\n",
    "       'Berlin-Charlottenburg'], dtype=object)"
   ]
  },
  {
   "cell_type": "markdown",
   "id": "934d29fd",
   "metadata": {
    "slideshow": {
     "slide_type": "subslide"
    }
   },
   "source": [
    "Die Bundesländer wurden einheitlich gemacht und zusammengeführt:\n",
    "\n",
    "merged_dp[\"Niederlassung\"] = merged_dp [\"Niederlassung\"].replace(\"Düsseldorf\", \"Nordrhein-Westfalen\")\n",
    "merged_dp[\"Niederlassung\"] = merged_dp [\"Niederlassung\"].replace(\"BERLIN\", \"Berlin\")\n",
    "merged_dp[\"Niederlassung\"] = merged_dp [\"Niederlassung\"].replace(\"Berlin-Charlottenburg\", \"Berlin\")\n",
    "merged_dp[\"Niederlassung\"] = merged_dp [\"Niederlassung\"].replace(\"Berlin-Mitte\", \"Berlin\")\n",
    "merged_dp[\"Niederlassung\"] = merged_dp [\"Niederlassung\"].replace(\"NRW\", \"Nordrhein-Westfalen\")\n",
    "\n",
    "Das Ergebniss sah wie folgt aus:\n",
    "\n",
    "#array(['Bayern', 'Berlin', 'Baden-Württemberg', 'Hessen', 'Thüringen',\n",
    "       'Sachsen', 'Nordrhein-Westfalen', 'Niedersachsen', 'Hamburg',\n",
    "       'Brandenburg'], dtype=object)"
   ]
  },
  {
   "cell_type": "markdown",
   "id": "83cb7154",
   "metadata": {
    "slideshow": {
     "slide_type": "slide"
    }
   },
   "source": [
    "## F20: Vorschläge für die Kundenabteilung"
   ]
  },
  {
   "cell_type": "markdown",
   "id": "ca305217",
   "metadata": {
    "slideshow": {
     "slide_type": "subslide"
    }
   },
   "source": [
    "Ein Unternehmen möchte immer online gut vertreten sein.\n",
    "\n",
    "Vorschlag 1: Umfrage an die Kunden, über welche Medien sie auf das Auto oder unser Unternehmen aufmerksam geworden sind und ob dies ihre Kaufentscheidung beeinflusst hat.\n",
    "\n",
    "Ein Unternehmen möchte auch immer, dass die Kunden zufrieden sind, damit sie Kunden bleiben und erneut bei ihnen einkaufen.\n",
    "\n",
    "Vorschlag 2: Umfrage an die Kunden, wie ihnen die Servicequalität gefallen hat und wie zufrieden sie mit der Beratung sind, z.B. in einer Skala von 1-10."
   ]
  }
 ],
 "metadata": {
  "celltoolbar": "Slideshow",
  "kernelspec": {
   "display_name": "Python 3 (ipykernel)",
   "language": "python",
   "name": "python3"
  },
  "language_info": {
   "codemirror_mode": {
    "name": "ipython",
    "version": 3
   },
   "file_extension": ".py",
   "mimetype": "text/x-python",
   "name": "python",
   "nbconvert_exporter": "python",
   "pygments_lexer": "ipython3",
   "version": "3.11.5"
  }
 },
 "nbformat": 4,
 "nbformat_minor": 5
}
