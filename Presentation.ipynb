{
 "cells": [
  {
   "cell_type": "code",
   "execution_count": 4,
   "id": "957fc717",
   "metadata": {
    "slideshow": {
     "slide_type": "slide"
    }
   },
   "outputs": [],
   "source": [
    "import pandas as pd\n",
    "import numpy as np\n",
    "import matplotlib.pyplot as plt \n",
    "from scipy import stats\n",
    "from scipy.stats import linregress\n",
    "import statsmodels.api as sm\n",
    "import statsmodels.formula.api as smf\n",
    "import seaborn as sns\n",
    "import warnings \n",
    "%matplotlib inline"
   ]
  },
  {
   "cell_type": "code",
   "execution_count": 30,
   "id": "d441c39b",
   "metadata": {
    "slideshow": {
     "slide_type": "slide"
    }
   },
   "outputs": [],
   "source": [
    "dp_1 = pd.read_csv(\"data\\dp_1.csv\")\n",
    "dp_2 = pd.read_csv(\"data\\dp_2.csv\")\n",
    "dp_3 = pd.read_csv(\"data\\dp_3.csv\")\n",
    "final_dp = pd.read_csv(\"data\\dp_final.csv\")"
   ]
  },
  {
   "cell_type": "markdown",
   "id": "93eb109a",
   "metadata": {
    "slideshow": {
     "slide_type": "slide"
    }
   },
   "source": [
    "# Die Elektratuto AG\n",
    "\n",
    "\n",
    "Präsentation an der HWR Berlin, Sommersemester 2024\n",
    "\n",
    "Präsentiert von: Muhammed Yasin Kilic, Fabienne Bahr, \n",
    "\n",
    "Präsentiert am: 28.06.24"
   ]
  },
  {
   "cell_type": "markdown",
   "id": "19892210",
   "metadata": {
    "slideshow": {
     "slide_type": "slide"
    }
   },
   "source": [
    "## F1: Wie viele Autos wurden verkauft?"
   ]
  },
  {
   "cell_type": "code",
   "execution_count": 6,
   "id": "f13cb49f",
   "metadata": {
    "slideshow": {
     "slide_type": "subslide"
    }
   },
   "outputs": [
    {
     "data": {
      "text/plain": [
       "1104"
      ]
     },
     "execution_count": 6,
     "metadata": {},
     "output_type": "execute_result"
    }
   ],
   "source": [
    "# Es werden die Einträge in der Spalte \"Preise\" gezählt und in der Varible \"Verkäufe\" wiedergegeben\n",
    "\n",
    "Verkäufe = dp_1[\"Preis\"]. count()\n",
    "Verkäufe"
   ]
  },
  {
   "cell_type": "markdown",
   "id": "d62a76b3",
   "metadata": {
    "slideshow": {
     "slide_type": "subslide"
    }
   },
   "source": [
    "Es wurden 1.104 Autos verkauft. "
   ]
  },
  {
   "cell_type": "markdown",
   "id": "038d6bab",
   "metadata": {
    "slideshow": {
     "slide_type": "slide"
    }
   },
   "source": [
    "## F2: Höchst-, Mindest- und Durchschnittspreis"
   ]
  },
  {
   "cell_type": "code",
   "execution_count": 7,
   "id": "d5337a32",
   "metadata": {
    "slideshow": {
     "slide_type": "subslide"
    }
   },
   "outputs": [
    {
     "data": {
      "text/plain": [
       "88975.2"
      ]
     },
     "execution_count": 7,
     "metadata": {},
     "output_type": "execute_result"
    }
   ],
   "source": [
    "# Durchschnittswert für die Spalte \"Preis\", \"mean()\" für den Durchschnittswert, round (2) rundet auf zwei Dezimalstellen\n",
    "\n",
    "Durchschnittspreis = dp_1[\"Preis\"].mean(). round(2)\n",
    "Durchschnittspreis"
   ]
  },
  {
   "cell_type": "markdown",
   "id": "0a5008e5",
   "metadata": {
    "slideshow": {
     "slide_type": "subslide"
    }
   },
   "source": [
    "Der Durchschnittspreis unserer Autos beträgt 88.975,2."
   ]
  },
  {
   "cell_type": "code",
   "execution_count": 8,
   "id": "187bed2e",
   "metadata": {
    "slideshow": {
     "slide_type": "subslide"
    }
   },
   "outputs": [
    {
     "data": {
      "text/plain": [
       "165482.31"
      ]
     },
     "execution_count": 8,
     "metadata": {},
     "output_type": "execute_result"
    }
   ],
   "source": [
    "# Höchstpreis für die Spalte \"Preis\", \"max()\" für den höchsten Preis\n",
    "\n",
    "Höchstpreis = dp_1[\"Preis\"]. max()\n",
    "Höchstpreis"
   ]
  },
  {
   "cell_type": "markdown",
   "id": "7ca9933a",
   "metadata": {
    "slideshow": {
     "slide_type": "subslide"
    }
   },
   "source": [
    "Der Höchstpreis unter unseren Autos beträgt 165.482,31."
   ]
  },
  {
   "cell_type": "code",
   "execution_count": 40,
   "id": "c07496f1",
   "metadata": {
    "slideshow": {
     "slide_type": "subslide"
    }
   },
   "outputs": [
    {
     "data": {
      "text/plain": [
       "21471.65"
      ]
     },
     "execution_count": 40,
     "metadata": {},
     "output_type": "execute_result"
    }
   ],
   "source": [
    "# Mindestpreis für die Spalte \"Preis\", \"min()\" für den geringsten Preis\n",
    "\n",
    "Mindestpreis = dp_1[\"Preis\"]. min()\n",
    "Mindestpreis"
   ]
  },
  {
   "cell_type": "markdown",
   "id": "c6526183",
   "metadata": {
    "slideshow": {
     "slide_type": "subslide"
    }
   },
   "source": [
    "Der Mindestpreis unter unseren Autos beträgt 21.471,65."
   ]
  },
  {
   "cell_type": "markdown",
   "id": "7b0116a8",
   "metadata": {
    "slideshow": {
     "slide_type": "slide"
    }
   },
   "source": [
    "## F3: Wie hoch war der Gesamtumsatz?"
   ]
  },
  {
   "cell_type": "code",
   "execution_count": 10,
   "id": "5c5a4ca5",
   "metadata": {
    "slideshow": {
     "slide_type": "subslide"
    }
   },
   "outputs": [
    {
     "data": {
      "text/plain": [
       "98228619.38"
      ]
     },
     "execution_count": 10,
     "metadata": {},
     "output_type": "execute_result"
    }
   ],
   "source": [
    "# Mit \"sum()\" den Gesamtumsatz der Spalte \"Preise\"\n",
    "\n",
    "Gesamtumsatz = dp_1[\"Preis\"]. sum(). round(3)\n",
    "Gesamtumsatz"
   ]
  },
  {
   "cell_type": "markdown",
   "id": "488d6cfe",
   "metadata": {
    "slideshow": {
     "slide_type": "subslide"
    }
   },
   "source": [
    "Unser Gesamtumsatz beträgt 98.228.619,38."
   ]
  },
  {
   "cell_type": "markdown",
   "id": "38a0c935",
   "metadata": {
    "slideshow": {
     "slide_type": "slide"
    }
   },
   "source": [
    "## F4: Wie viele Autos wurden pro Bundesland verkauft?"
   ]
  },
  {
   "cell_type": "code",
   "execution_count": 31,
   "id": "62f267ea",
   "metadata": {
    "slideshow": {
     "slide_type": "subslide"
    }
   },
   "outputs": [
    {
     "data": {
      "text/plain": [
       "Niederlassung\n",
       "Baden-Württemberg      205\n",
       "Bayern                 188\n",
       "Berlin                 126\n",
       "Brandenburg             37\n",
       "Hamburg                 43\n",
       "Hessen                  96\n",
       "Niedersachsen           96\n",
       "Nordrhein-Westfalen    175\n",
       "Sachsen                 89\n",
       "Thüringen               49\n",
       "Name: Preis, dtype: int64"
      ]
     },
     "execution_count": 31,
     "metadata": {},
     "output_type": "execute_result"
    }
   ],
   "source": [
    "# DataFrame wird von \"groupby\" gruppiert, nach der Gruppierung wird die Spalte \"Preise\" ausgewählt\n",
    "\n",
    "Verkäufe_pro_Bundesland = final_dp.groupby (\"Niederlassung\") [\"Preis\"]. count()\n",
    "Verkäufe_pro_Bundesland"
   ]
  },
  {
   "cell_type": "markdown",
   "id": "cee8fbb8",
   "metadata": {
    "slideshow": {
     "slide_type": "subslide"
    }
   },
   "source": [
    "Die meisten Autos haben wir in Baden-Württemberg verkauft (205). Die wenigsten Autos hingegen haben wir in Brandenburg verkauft (37). "
   ]
  },
  {
   "cell_type": "markdown",
   "id": "d481ff9e",
   "metadata": {
    "slideshow": {
     "slide_type": "slide"
    }
   },
   "source": [
    "## F5: Wie hoch war der durchschnittliche Umsatz pro Bundesland?"
   ]
  },
  {
   "cell_type": "code",
   "execution_count": 32,
   "id": "1cc8f7eb",
   "metadata": {
    "slideshow": {
     "slide_type": "subslide"
    }
   },
   "outputs": [
    {
     "data": {
      "text/plain": [
       "Niederlassung\n",
       "Baden-Württemberg      90969.560000\n",
       "Bayern                 89344.313245\n",
       "Berlin                 89584.984048\n",
       "Brandenburg            86673.640811\n",
       "Hamburg                85549.499070\n",
       "Hessen                 85864.929479\n",
       "Niedersachsen          87963.312500\n",
       "Nordrhein-Westfalen    88633.265200\n",
       "Sachsen                89455.080674\n",
       "Thüringen              90816.994082\n",
       "Name: Preis, dtype: float64"
      ]
     },
     "execution_count": 32,
     "metadata": {},
     "output_type": "execute_result"
    }
   ],
   "source": [
    "#DataFrame wird von \"groupby\" gruppiert, nach der Gruppierung wird die Spalte \"Preise\" ausgewählt\n",
    "\n",
    "Durchschnittsumsatz_pro_Bundesland = final_dp.groupby(\"Niederlassung\") [\"Preis\"].mean()\n",
    "Durchschnittsumsatz_pro_Bundesland"
   ]
  },
  {
   "cell_type": "markdown",
   "id": "05a6990d",
   "metadata": {
    "slideshow": {
     "slide_type": "subslide"
    }
   },
   "source": [
    "Der Durchschnittsumsatz ist in Baden-Württemberg und Thürigen am höchsten.  "
   ]
  },
  {
   "cell_type": "markdown",
   "id": "c0627f40",
   "metadata": {
    "slideshow": {
     "slide_type": "slide"
    }
   },
   "source": [
    "## F6: In welchem Bundesland wurde das teuerste Auto verkauft?"
   ]
  },
  {
   "cell_type": "code",
   "execution_count": 33,
   "id": "becb5c5f",
   "metadata": {
    "slideshow": {
     "slide_type": "subslide"
    }
   },
   "outputs": [
    {
     "data": {
      "text/plain": [
       "'Niedersachsen'"
      ]
     },
     "execution_count": 33,
     "metadata": {},
     "output_type": "execute_result"
    }
   ],
   "source": [
    "# \"idxmax()\" gibt den teuersten Wert in der Spalte \"Preis\" an. loc wird verwendet um den Wert in der Spalte \"Niederlassung\" an dem gefundenen Index abzurufen\n",
    "\n",
    "Teuerstes_auto_index = final_dp[\"Preis\"].idxmax()\n",
    "Teuerstes_auto_bundesland = final_dp.loc[Teuerstes_auto_index,\"Niederlassung\"]\n",
    "Teuerstes_auto_bundesland"
   ]
  },
  {
   "cell_type": "markdown",
   "id": "e58bf1ad",
   "metadata": {
    "slideshow": {
     "slide_type": "subslide"
    }
   },
   "source": [
    "Das teuerste Auto haben wir Niedersachsen verkauft. "
   ]
  },
  {
   "cell_type": "markdown",
   "id": "31d28007",
   "metadata": {
    "slideshow": {
     "slide_type": "slide"
    }
   },
   "source": [
    "## F7: Haben mehr Frauen oder Männer unsere Autos gekauft?"
   ]
  },
  {
   "cell_type": "code",
   "execution_count": 14,
   "id": "0395dca6",
   "metadata": {
    "slideshow": {
     "slide_type": "subslide"
    }
   },
   "outputs": [
    {
     "name": "stdout",
     "output_type": "stream",
     "text": [
      "Die Mehrheit der Kunden sind Männer!\n"
     ]
    },
    {
     "data": {
      "text/plain": [
       "Geschlecht\n",
       "0    398\n",
       "1    706\n",
       "dtype: int64"
      ]
     },
     "execution_count": 14,
     "metadata": {},
     "output_type": "execute_result"
    }
   ],
   "source": [
    "#\"groupby()\" gruppiert den DataFrame nach der Spalte \"Geschlecht\". \"Verteilung_der_Kunden.get(1,0)\" Ruft Anzahl der männlichen Kunden ab (1). \"Verteilung_der_Kunden.get(0,0)\" Ruft Anzahl der weiblichen Kunden ab (0)\n",
    "\n",
    "Verteilung_der_Kunden = dp_1.groupby(\"Geschlecht\").size()\n",
    "if Verteilung_der_Kunden.get (1,0) > Verteilung_der_Kunden.get(0,0):\n",
    "    print (\"Die Mehrheit der Kunden sind Männer!\")\n",
    "elif Verteilung_der_Kunden.get (1,0) < Verteilung_der_Kunden.get (0,0):\n",
    "    print (\"Die Mehrheit der Kunden sind Frauen!\")\n",
    "else: print (\"Die Hälfte der Kunden sind Männer und die anderen Hälfte sind Frauen\")\n",
    "    \n",
    "Verteilung_der_Kunden"
   ]
  },
  {
   "cell_type": "markdown",
   "id": "cd28627d",
   "metadata": {
    "slideshow": {
     "slide_type": "subslide"
    }
   },
   "source": [
    "Die Mehrheit unserer Kunden sind Männer. "
   ]
  },
  {
   "cell_type": "code",
   "execution_count": 67,
   "id": "34cef6e0",
   "metadata": {
    "slideshow": {
     "slide_type": "subslide"
    }
   },
   "outputs": [
    {
     "data": {
      "image/png": "[encoded data removed]",
      "text/plain": [
       "<Figure size 640x480 with 1 Axes>"
      ]
     },
     "metadata": {},
     "output_type": "display_data"
    }
   ],
   "source": [
    "inhalt = [\"Männer\", \"Frauen\"]\n",
    "werte = [706, 398]\n",
    "plt.title(\"Geschlechterverteilung der Kunden\")\n",
    "farben_diagramm = [\"skyblue\", \"pink\"]\n",
    "\n",
    "plt.pie(werte, labels = inhalt, colors = farben_diagramm)\n",
    "plt.show()"
   ]
  },
  {
   "cell_type": "markdown",
   "id": "851f433b",
   "metadata": {
    "slideshow": {
     "slide_type": "slide"
    }
   },
   "source": [
    "## F8 Teil 1: Wie hoch ist das Durchschnittsalter unserer Kunden?"
   ]
  },
  {
   "cell_type": "code",
   "execution_count": 15,
   "id": "532fbe19",
   "metadata": {
    "slideshow": {
     "slide_type": "subslide"
    }
   },
   "outputs": [
    {
     "data": {
      "text/plain": [
       "50.38"
      ]
     },
     "execution_count": 15,
     "metadata": {},
     "output_type": "execute_result"
    }
   ],
   "source": [
    "# Mit dem Befehl \"mean()\" bekommen wir den Durchschnitt\n",
    "# Mit dem Befehl \"round(2)\" wird die Zahl gerundet auf zwei Stellen\n",
    "\n",
    "Kunden_Durchschnittsalter_1 = dp_1[\"Alter\"].mean().round(2)\n",
    "Kunden_Durchschnittsalter_1"
   ]
  },
  {
   "cell_type": "markdown",
   "id": "441c0429",
   "metadata": {
    "slideshow": {
     "slide_type": "subslide"
    }
   },
   "source": [
    "Das Durchschnittsalter unserer Kunden beträgt 50,38 Jahre. "
   ]
  },
  {
   "cell_type": "code",
   "execution_count": 70,
   "id": "9a24e502",
   "metadata": {
    "slideshow": {
     "slide_type": "subslide"
    }
   },
   "outputs": [
    {
     "data": {
      "image/png": "[encoded data removed]",
      "text/plain": [
       "<Figure size 1200x600 with 1 Axes>"
      ]
     },
     "metadata": {},
     "output_type": "display_data"
    }
   ],
   "source": [
    "Häufigkeiten1_sortiert = dp_1[\"Alter\"].value_counts().sort_index()\n",
    "\n",
    "plt.figure(figsize=(12, 6))\n",
    "plt.bar(Häufigkeiten1_sortiert.index, Häufigkeiten1_sortiert, color = \"green\")\n",
    "\n",
    "plt.title(\"Verteilung Kundenalter\")\n",
    "plt.xlabel(\"Kundenalter\")\n",
    "plt.ylabel(\"Anzahl\")\n",
    "\n",
    "plt.show()"
   ]
  },
  {
   "cell_type": "markdown",
   "id": "a9c9a899",
   "metadata": {
    "slideshow": {
     "slide_type": "slide"
    }
   },
   "source": [
    "## F8 Teil 2: Wie hoch ist das Durchschnittsalter unserer Besucher?"
   ]
  },
  {
   "cell_type": "code",
   "execution_count": 16,
   "id": "1cb7d898",
   "metadata": {
    "slideshow": {
     "slide_type": "subslide"
    }
   },
   "outputs": [
    {
     "data": {
      "text/plain": [
       "49.88"
      ]
     },
     "execution_count": 16,
     "metadata": {},
     "output_type": "execute_result"
    }
   ],
   "source": [
    "# Mit dem Befehl \"mean()\" bekommen wir den Durchschnitt\n",
    "# Mit dem Befehl \"round(2)\" wird die Zahl gerundet auf Zwei Stellen\n",
    "\n",
    "Besucher_Durchschnittsalter_2 = dp_2[\"Alter\"].mean().round(2)\n",
    "Besucher_Durchschnittsalter_2"
   ]
  },
  {
   "cell_type": "markdown",
   "id": "c4dc1b3c",
   "metadata": {
    "slideshow": {
     "slide_type": "subslide"
    }
   },
   "source": [
    "Das Durchschnittsalter unserer Besucher liegt bei 49,88 Jahren. Es liegt somit kaum unter dem der Kunden."
   ]
  },
  {
   "cell_type": "code",
   "execution_count": 68,
   "id": "93bb8298",
   "metadata": {
    "slideshow": {
     "slide_type": "subslide"
    }
   },
   "outputs": [
    {
     "data": {
      "image/png": "[encoded data removed]",
      "text/plain": [
       "<Figure size 1200x600 with 1 Axes>"
      ]
     },
     "metadata": {},
     "output_type": "display_data"
    }
   ],
   "source": [
    "Häufigkeiten2_sortiert = dp_2[\"Alter\"].value_counts().sort_index()\n",
    "\n",
    "plt.figure(figsize=(12,6))\n",
    "plt.bar(Häufigkeiten2_sortiert.index, Häufigkeiten2_sortiert, color = \"yellow\")\n",
    "\n",
    "plt.title(\"Verteilung Besucheralter\")\n",
    "plt.xlabel(\"Besucheralter\")\n",
    "plt.ylabel(\"Anzahl\")\n",
    "\n",
    "plt.show()"
   ]
  },
  {
   "cell_type": "markdown",
   "id": "080cbd75",
   "metadata": {
    "slideshow": {
     "slide_type": "slide"
    }
   },
   "source": [
    "## F9 Teil 1: Wie hoch ist das Durchschnittseinkommen unserer Kunden?"
   ]
  },
  {
   "cell_type": "code",
   "execution_count": 17,
   "id": "3040bbfd",
   "metadata": {
    "slideshow": {
     "slide_type": "subslide"
    }
   },
   "outputs": [
    {
     "data": {
      "text/plain": [
       "58895.0"
      ]
     },
     "execution_count": 17,
     "metadata": {},
     "output_type": "execute_result"
    }
   ],
   "source": [
    "# Mit dem Befehl \"mean()\" bekommen wir den Durchschnitt\n",
    "# Mit dem Befehl \"round(2)\" wird die Zahl gerundet auf Zwei Stellen\n",
    "\n",
    "Kunden_Durchschnittseinkommen = dp_1 [\"Einkommen\"].mean().round(2)\n",
    "Kunden_Durchschnittseinkommen"
   ]
  },
  {
   "cell_type": "markdown",
   "id": "899cf333",
   "metadata": {
    "slideshow": {
     "slide_type": "subslide"
    }
   },
   "source": [
    "Das Durchschnittseinkommen unserer Kunden liegt bei 58.895."
   ]
  },
  {
   "cell_type": "code",
   "execution_count": 71,
   "id": "bcb6ae53",
   "metadata": {
    "slideshow": {
     "slide_type": "subslide"
    }
   },
   "outputs": [
    {
     "data": {
      "image/png": "[encoded data removed]",
      "text/plain": [
       "<Figure size 640x480 with 1 Axes>"
      ]
     },
     "metadata": {},
     "output_type": "display_data"
    }
   ],
   "source": [
    "plt.hist(dp_1[\"Einkommen\"], bins=50, color = \"green\", edgecolor = \"black\")\n",
    "plt.axvline(x=Kunden_Durchschnittseinkommen, color = \"red\", linestyle = \"--\", label = \"Kunden-Durchschnittseinkommen\")\n",
    "plt.xlabel(\"Kundeneinkommen\")\n",
    "plt.ylabel(\"Anzahl\")\n",
    "plt.title(\"Einkommensverteilung der Kunden\")\n",
    "plt.legend()\n",
    "plt.show()"
   ]
  },
  {
   "cell_type": "markdown",
   "id": "72f955ae",
   "metadata": {
    "slideshow": {
     "slide_type": "slide"
    }
   },
   "source": [
    "## F9 Teil 2: Wie hoch ist das Durchschnittseinkommen unserer Besucher?"
   ]
  },
  {
   "cell_type": "code",
   "execution_count": 18,
   "id": "f790cf3f",
   "metadata": {
    "slideshow": {
     "slide_type": "subslide"
    }
   },
   "outputs": [
    {
     "data": {
      "text/plain": [
       "59367.94"
      ]
     },
     "execution_count": 18,
     "metadata": {},
     "output_type": "execute_result"
    }
   ],
   "source": [
    "# Mit dem Befehl \"mean()\" bekommen wir den Durchschnitt \n",
    "# Mit dem Befehl \"round(2)\" wird die Zahl gerundet auf Zwei Stellen\n",
    "\n",
    "Besucher_Durchschnittseinkommen = dp_2 [\"Einkommen\"].mean().round(2)\n",
    "Besucher_Durchschnittseinkommen"
   ]
  },
  {
   "cell_type": "markdown",
   "id": "552b5076",
   "metadata": {
    "slideshow": {
     "slide_type": "subslide"
    }
   },
   "source": [
    "Das Durchschnittseinkommen unserer Besucher liegt bei 59.367,94."
   ]
  },
  {
   "cell_type": "code",
   "execution_count": 72,
   "id": "5e265b99",
   "metadata": {
    "slideshow": {
     "slide_type": "subslide"
    }
   },
   "outputs": [
    {
     "data": {
      "image/png": "[encoded data removed]",
      "text/plain": [
       "<Figure size 640x480 with 1 Axes>"
      ]
     },
     "metadata": {},
     "output_type": "display_data"
    }
   ],
   "source": [
    "plt.hist(dp_2[\"Einkommen\"], bins=50, color = \"yellow\", edgecolor = \"black\")\n",
    "plt.axvline(x=Besucher_Durchschnittseinkommen, color = \"blue\", linestyle = \"--\", label = \"Besucher-Durchschnittseinkommen\")\n",
    "plt.xlabel(\"Besuchereinkommen\")\n",
    "plt.ylabel(\"Anzahl\")\n",
    "plt.title(\"Einkommensverteilung der Besucher\")\n",
    "plt.legend()\n",
    "plt.show()"
   ]
  },
  {
   "cell_type": "markdown",
   "id": "e232e4a4",
   "metadata": {
    "slideshow": {
     "slide_type": "slide"
    }
   },
   "source": [
    "## F10: Gibt es einen statistisch signifikanten Unterschied zwischen dem Durchschnittseinkommen der Kunden und dem Durchschnittseinkommen der Besucher?"
   ]
  },
  {
   "cell_type": "code",
   "execution_count": 19,
   "id": "82d6320c",
   "metadata": {
    "slideshow": {
     "slide_type": "subslide"
    }
   },
   "outputs": [
    {
     "name": "stdout",
     "output_type": "stream",
     "text": [
      "T-Statistik: -0.6420637509582324\n",
      "P-Wert: 0.5209056330349291\n",
      "Es ist kein statistisch signifikanter Unterschied vorhanden\n"
     ]
    }
   ],
   "source": [
    "#Einkommensdaten extrahieren\n",
    "Kunden_Einkommen = dp_1[\"Einkommen\"]\n",
    "Besucher_Einkommen = dp_2[\"Einkommen\"]\n",
    "\n",
    "#Zweistichproben-t-Test durchführen, stats.ttest_ind() wird mit dem Parameter \n",
    "#equal_var = True durchgeführt, da die Varianzen als gleich angenommen werden.\n",
    "t_stat, p_value = stats.ttest_ind(Kunden_Einkommen, Besucher_Einkommen, equal_var = True)\n",
    "\n",
    "print(f\"T-Statistik: {t_stat}\")\n",
    "print(f\"P-Wert: {p_value}\")\n",
    "\n",
    "#Entscheidung basierend auf dem Signifikanzniveau\n",
    "alpha = 0.05\n",
    "\n",
    "if p_value < alpha:\n",
    "    print (\"Es ist ein statistisch signifikanter Unterschied vorhanden\")\n",
    "else:\n",
    "    print(\"Es ist kein statistisch signifikanter Unterschied vorhanden\")"
   ]
  },
  {
   "cell_type": "markdown",
   "id": "ebc0688b",
   "metadata": {
    "slideshow": {
     "slide_type": "subslide"
    }
   },
   "source": [
    "Wir konnten keinen statistisch signifikanten Unterschied zwischen dem Durchschnittseinkommen unserer Kunden und dem unserer Besucher feststellen. "
   ]
  },
  {
   "cell_type": "markdown",
   "id": "ce21ea56",
   "metadata": {
    "slideshow": {
     "slide_type": "slide"
    }
   },
   "source": [
    "## F11: Wie hoch ist die Korrelation (Pearson-Korrelation) zwischen den Variablen Alter, Einkommen, Preis und Zeit?"
   ]
  },
  {
   "cell_type": "code",
   "execution_count": 20,
   "id": "09cd8697",
   "metadata": {
    "slideshow": {
     "slide_type": "subslide"
    }
   },
   "outputs": [
    {
     "data": {
      "text/html": [
       "<div>\n",
       "<style scoped>\n",
       "    .dataframe tbody tr th:only-of-type {\n",
       "        vertical-align: middle;\n",
       "    }\n",
       "\n",
       "    .dataframe tbody tr th {\n",
       "        vertical-align: top;\n",
       "    }\n",
       "\n",
       "    .dataframe thead th {\n",
       "        text-align: right;\n",
       "    }\n",
       "</style>\n",
       "<table border=\"1\" class=\"dataframe\">\n",
       "  <thead>\n",
       "    <tr style=\"text-align: right;\">\n",
       "      <th></th>\n",
       "      <th>Alter</th>\n",
       "      <th>Einkommen</th>\n",
       "      <th>Zeit</th>\n",
       "      <th>Preis</th>\n",
       "    </tr>\n",
       "  </thead>\n",
       "  <tbody>\n",
       "    <tr>\n",
       "      <th>Alter</th>\n",
       "      <td>1.000000</td>\n",
       "      <td>0.762055</td>\n",
       "      <td>0.589595</td>\n",
       "      <td>0.780937</td>\n",
       "    </tr>\n",
       "    <tr>\n",
       "      <th>Einkommen</th>\n",
       "      <td>0.762055</td>\n",
       "      <td>1.000000</td>\n",
       "      <td>0.776198</td>\n",
       "      <td>0.896557</td>\n",
       "    </tr>\n",
       "    <tr>\n",
       "      <th>Zeit</th>\n",
       "      <td>0.589595</td>\n",
       "      <td>0.776198</td>\n",
       "      <td>1.000000</td>\n",
       "      <td>0.707778</td>\n",
       "    </tr>\n",
       "    <tr>\n",
       "      <th>Preis</th>\n",
       "      <td>0.780937</td>\n",
       "      <td>0.896557</td>\n",
       "      <td>0.707778</td>\n",
       "      <td>1.000000</td>\n",
       "    </tr>\n",
       "  </tbody>\n",
       "</table>\n",
       "</div>"
      ],
      "text/plain": [
       "              Alter  Einkommen      Zeit     Preis\n",
       "Alter      1.000000   0.762055  0.589595  0.780937\n",
       "Einkommen  0.762055   1.000000  0.776198  0.896557\n",
       "Zeit       0.589595   0.776198  1.000000  0.707778\n",
       "Preis      0.780937   0.896557  0.707778  1.000000"
      ]
     },
     "execution_count": 20,
     "metadata": {},
     "output_type": "execute_result"
    }
   ],
   "source": [
    "# Erstellung eines neuen DataFrames \"dp_01 mit den Variablen Alter, Einkommen, Preis und Zeit. Der Befehl .corr() berechnet die Korrelation.\n",
    "\n",
    "dp_01 = dp_1 [[\"Alter\",\"Einkommen\",\"Zeit\",\"Preis\"]]\n",
    "dp_01.corr()"
   ]
  },
  {
   "cell_type": "markdown",
   "id": "227d2f2e",
   "metadata": {
    "slideshow": {
     "slide_type": "subslide"
    }
   },
   "source": []
  },
  {
   "cell_type": "markdown",
   "id": "6522072c",
   "metadata": {
    "slideshow": {
     "slide_type": "slide"
    }
   },
   "source": [
    "## F12: Ist die Variable Zeit approximativ normalverteilt? (Kunden und Besucher zusammen, qq-Plot)"
   ]
  },
  {
   "cell_type": "code",
   "execution_count": 34,
   "id": "27ecf14a",
   "metadata": {
    "slideshow": {
     "slide_type": "subslide"
    }
   },
   "outputs": [
    {
     "data": {
      "image/png": "[encoded data removed]",
      "text/plain": [
       "<Figure size 700x700 with 1 Axes>"
      ]
     },
     "metadata": {},
     "output_type": "display_data"
    }
   ],
   "source": [
    "Zeit = final_dp [\"Zeit\"] #Variable Zeit extrahieren\n",
    "\n",
    "#Erstellung eines qq-Plots:\n",
    "plt.figure (figsize=(7,7)) #Bestimmt die Größe\n",
    "stats.probplot(Zeit, dist = \"norm\", plot=plt) #Erstellt qq-Plot\n",
    "plt.title (\"Variable Zeit\") # Titelbeschriftung\n",
    "plt.ylabel(\"Beobachteter Wert\") #Y-Achse Beschriftung\n",
    "plt.xlabel(\"Erwarteter Wert\") #X-Achse Beschriftung\n",
    "plt.grid (True) # Fügt ein Gitter hinzu\n",
    "plt.show()"
   ]
  },
  {
   "cell_type": "markdown",
   "id": "23cfbaf8",
   "metadata": {
    "slideshow": {
     "slide_type": "subslide"
    }
   },
   "source": []
  },
  {
   "cell_type": "markdown",
   "id": "cb95e9d7",
   "metadata": {
    "slideshow": {
     "slide_type": "slide"
    }
   },
   "source": [
    "## F13: Wie viele Kunden haben keinen Bankkredit aufgenommen, um das Auto zu kaufen?"
   ]
  },
  {
   "cell_type": "code",
   "execution_count": 22,
   "id": "63ffb869",
   "metadata": {
    "slideshow": {
     "slide_type": "subslide"
    }
   },
   "outputs": [
    {
     "data": {
      "text/html": [
       "<div>\n",
       "<style scoped>\n",
       "    .dataframe tbody tr th:only-of-type {\n",
       "        vertical-align: middle;\n",
       "    }\n",
       "\n",
       "    .dataframe tbody tr th {\n",
       "        vertical-align: top;\n",
       "    }\n",
       "\n",
       "    .dataframe thead th {\n",
       "        text-align: right;\n",
       "    }\n",
       "</style>\n",
       "<table border=\"1\" class=\"dataframe\">\n",
       "  <thead>\n",
       "    <tr style=\"text-align: right;\">\n",
       "      <th></th>\n",
       "      <th>Alter</th>\n",
       "      <th>Einkommen</th>\n",
       "      <th>Preis</th>\n",
       "      <th>Geschlecht</th>\n",
       "      <th>Zeit</th>\n",
       "      <th>KundeNr</th>\n",
       "    </tr>\n",
       "  </thead>\n",
       "  <tbody>\n",
       "    <tr>\n",
       "      <th>157</th>\n",
       "      <td>32</td>\n",
       "      <td>50330.0</td>\n",
       "      <td>49540.28</td>\n",
       "      <td>1</td>\n",
       "      <td>27.0</td>\n",
       "      <td>K0175</td>\n",
       "    </tr>\n",
       "    <tr>\n",
       "      <th>407</th>\n",
       "      <td>34</td>\n",
       "      <td>24264.0</td>\n",
       "      <td>22580.44</td>\n",
       "      <td>1</td>\n",
       "      <td>19.0</td>\n",
       "      <td>K0859</td>\n",
       "    </tr>\n",
       "    <tr>\n",
       "      <th>499</th>\n",
       "      <td>37</td>\n",
       "      <td>54403.0</td>\n",
       "      <td>53690.36</td>\n",
       "      <td>0</td>\n",
       "      <td>47.0</td>\n",
       "      <td>K0364</td>\n",
       "    </tr>\n",
       "    <tr>\n",
       "      <th>642</th>\n",
       "      <td>32</td>\n",
       "      <td>30856.0</td>\n",
       "      <td>27934.83</td>\n",
       "      <td>1</td>\n",
       "      <td>18.0</td>\n",
       "      <td>K0447</td>\n",
       "    </tr>\n",
       "    <tr>\n",
       "      <th>696</th>\n",
       "      <td>31</td>\n",
       "      <td>36296.0</td>\n",
       "      <td>35482.61</td>\n",
       "      <td>0</td>\n",
       "      <td>31.0</td>\n",
       "      <td>K0143</td>\n",
       "    </tr>\n",
       "  </tbody>\n",
       "</table>\n",
       "</div>"
      ],
      "text/plain": [
       "     Alter  Einkommen     Preis  Geschlecht  Zeit KundeNr\n",
       "157     32    50330.0  49540.28           1  27.0   K0175\n",
       "407     34    24264.0  22580.44           1  19.0   K0859\n",
       "499     37    54403.0  53690.36           0  47.0   K0364\n",
       "642     32    30856.0  27934.83           1  18.0   K0447\n",
       "696     31    36296.0  35482.61           0  31.0   K0143"
      ]
     },
     "execution_count": 22,
     "metadata": {},
     "output_type": "execute_result"
    }
   ],
   "source": [
    "# dp_1: Nur die Zeilen werden behalten bei denen der Wert in der Spalte \"Einkommen\" größer ist als der Wert in der Spalte \"Preis\"\n",
    "\n",
    "Kunde_ohne_Kredit = dp_1 [dp_1[\"Einkommen\"]> dp_1[\"Preis\"]]\n",
    "Kunde_ohne_Kredit"
   ]
  },
  {
   "cell_type": "markdown",
   "id": "cf3a85df",
   "metadata": {
    "slideshow": {
     "slide_type": "subslide"
    }
   },
   "source": [
    "Nur 5 unserer Kunden haben für den Autokauf keinen Bankkredit aufgenommen."
   ]
  },
  {
   "cell_type": "markdown",
   "id": "a9c7a25b",
   "metadata": {
    "slideshow": {
     "slide_type": "slide"
    }
   },
   "source": [
    "## F14: Welche sind die sozioökonomischen Merkmale, die den Kaufpreis der Kunden beeinflussen?"
   ]
  },
  {
   "cell_type": "code",
   "execution_count": 35,
   "id": "20aa0958",
   "metadata": {
    "slideshow": {
     "slide_type": "subslide"
    }
   },
   "outputs": [
    {
     "name": "stdout",
     "output_type": "stream",
     "text": [
      "                            OLS Regression Results                            \n",
      "==============================================================================\n",
      "Dep. Variable:                  Preis   R-squared:                       0.829\n",
      "Model:                            OLS   Adj. R-squared:                  0.828\n",
      "Method:                 Least Squares   F-statistic:                     1329.\n",
      "Date:                Fri, 21 Jun 2024   Prob (F-statistic):               0.00\n",
      "Time:                        13:57:40   Log-Likelihood:                -11748.\n",
      "No. Observations:                1104   AIC:                         2.351e+04\n",
      "Df Residuals:                    1099   BIC:                         2.353e+04\n",
      "Df Model:                           4                                         \n",
      "Covariance Type:            nonrobust                                         \n",
      "==============================================================================\n",
      "                 coef    std err          t      P>|t|      [0.025      0.975]\n",
      "------------------------------------------------------------------------------\n",
      "Intercept   -132.5320   1531.939     -0.087      0.931   -3138.388    2873.324\n",
      "Alter        480.6684     39.472     12.178      0.000     403.220     558.117\n",
      "Geschlecht  2142.1115    636.356      3.366      0.001     893.502    3390.721\n",
      "Einkommen      1.0250      0.037     27.987      0.000       0.953       1.097\n",
      "Zeit          71.0572     44.653      1.591      0.112     -16.558     158.673\n",
      "==============================================================================\n",
      "Omnibus:                        1.229   Durbin-Watson:                   2.103\n",
      "Prob(Omnibus):                  0.541   Jarque-Bera (JB):                1.234\n",
      "Skew:                           0.015   Prob(JB):                        0.539\n",
      "Kurtosis:                       2.839   Cond. No.                     3.09e+05\n",
      "==============================================================================\n",
      "\n",
      "Notes:\n",
      "[1] Standard Errors assume that the covariance matrix of the errors is correctly specified.\n",
      "[2] The condition number is large, 3.09e+05. This might indicate that there are\n",
      "strong multicollinearity or other numerical problems.\n"
     ]
    }
   ],
   "source": [
    "# \"smf.ols(\"Preis\" ~ \"Alter\" + \"Geschlecht\" + \"Einkommen\" + \"Zeit\", data = merged_dp)\" definiert das lineare Regressionsmodell mit Preis als abhängiger Variable und den Rest als unabhängige Variable.\n",
    "\n",
    "model_1 = smf.ols(\"Preis ~ Alter + Geschlecht + Einkommen + Zeit\", data = final_dp)\n",
    "result = model_1.fit()\n",
    "print(result.summary())"
   ]
  },
  {
   "cell_type": "markdown",
   "id": "fc070bdf",
   "metadata": {
    "slideshow": {
     "slide_type": "subslide"
    }
   },
   "source": [
    "Die sozioökonomischen Merkmale Einkommen, Alter und Geschlecht scheinen den Kaufpreis der Kunden zu beeinflussen."
   ]
  },
  {
   "cell_type": "markdown",
   "id": "d927bf67",
   "metadata": {
    "slideshow": {
     "slide_type": "slide"
    }
   },
   "source": [
    "## F15: Prognostizieren des Kaufpreises für (m,32,30.000€) & (m,51,54.000€)"
   ]
  },
  {
   "cell_type": "code",
   "execution_count": 50,
   "id": "89d0c1f3",
   "metadata": {
    "slideshow": {
     "slide_type": "subslide"
    }
   },
   "outputs": [],
   "source": [
    "#Daten vorbereiten = Entfernen von Zeilen, wo der Preis fehlt\n",
    "model_data = final_dp.dropna(subset=[\"Preis\"]) \n",
    "\n",
    "#Features auswählen, in dem Fall Alter, Einkommen, Geschlecht\n",
    "features = [\"Alter\", \"Einkommen\", \"Geschlecht\"]\n",
    "X = model_data [features] # X erhält ausgewählte Features\n",
    "y = model_data [\"Preis\"] #Y ist die abhängige Variable Preis\n",
    "\n",
    "\n",
    "#Konstante hinzufügen\n",
    "X = sm.add_constant(X)\n",
    "\n",
    "#Erstellung einer Linearen Regression\n",
    "model = sm.OLS(y,X)\n",
    "result = model.fit() #Passt das Modell an die Daten an\n",
    "\n",
    "#Szenarien vorbereiten , die selbe Reihenfolge bei den Zahlen wie bei den columns benutzen\n",
    "szenario_1 = pd.DataFrame ([[1,32,30000,1]], columns = [\"const\", \"Alter\", \"Einkommen\", \"Geschlecht\"])\n",
    "szenario_2 = pd.DataFrame ([[1,51,54000,1]], columns = [\"const\", \"Alter\", \"Einkommen\", \"Geschlecht\"])\n",
    "\n",
    "# Für die Szenarien Vorhersagen treffen\n",
    "Vorhersage_1 = result.predict(szenario_1)\n",
    "Vorhersage_2 = result.predict(szenario_2)"
   ]
  },
  {
   "cell_type": "code",
   "execution_count": 53,
   "id": "e6be8dbf",
   "metadata": {
    "slideshow": {
     "slide_type": "subslide"
    }
   },
   "outputs": [
    {
     "data": {
      "text/plain": [
       "('Ergebnis für m,32,30000',\n",
       " 0    50244.710947\n",
       " dtype: float64)"
      ]
     },
     "execution_count": 53,
     "metadata": {},
     "output_type": "execute_result"
    }
   ],
   "source": [
    "#Ergebniss Vorhersage 1\n",
    "\"Ergebnis für m,32,30000\", Vorhersage_1"
   ]
  },
  {
   "cell_type": "markdown",
   "id": "32a87eb2",
   "metadata": {
    "slideshow": {
     "slide_type": "subslide"
    }
   },
   "source": [
    "Der prognostizierte Kaufpreis für Person 1 beträgt 50.244,710947."
   ]
  },
  {
   "cell_type": "code",
   "execution_count": 52,
   "id": "00f241ad",
   "metadata": {
    "slideshow": {
     "slide_type": "subslide"
    }
   },
   "outputs": [
    {
     "data": {
      "text/plain": [
       "('Ergebnis für m,51,54000',\n",
       " 0    84845.681408\n",
       " dtype: float64)"
      ]
     },
     "execution_count": 52,
     "metadata": {},
     "output_type": "execute_result"
    }
   ],
   "source": [
    "#Ergebniss Vorhersage 2\n",
    "\"Ergebnis für m,51,54000\", Vorhersage_2"
   ]
  },
  {
   "cell_type": "markdown",
   "id": "d7e8a29a",
   "metadata": {
    "slideshow": {
     "slide_type": "subslide"
    }
   },
   "source": [
    "Der prognostizierte Kaufpreis für Person 2 beträgt 84.845,681408."
   ]
  },
  {
   "cell_type": "markdown",
   "id": "f9f677e3",
   "metadata": {
    "slideshow": {
     "slide_type": "slide"
    }
   },
   "source": [
    "## F16: Welche Variable beeinflusst den Preis des Autos am meisten?"
   ]
  },
  {
   "cell_type": "code",
   "execution_count": 26,
   "id": "ef94741f",
   "metadata": {
    "slideshow": {
     "slide_type": "subslide"
    }
   },
   "outputs": [
    {
     "data": {
      "text/html": [
       "<table class=\"simpletable\">\n",
       "<caption>OLS Regression Results</caption>\n",
       "<tr>\n",
       "  <th>Dep. Variable:</th>          <td>Preis</td>      <th>  R-squared:         </th> <td>   0.828</td>\n",
       "</tr>\n",
       "<tr>\n",
       "  <th>Model:</th>                   <td>OLS</td>       <th>  Adj. R-squared:    </th> <td>   0.828</td>\n",
       "</tr>\n",
       "<tr>\n",
       "  <th>Method:</th>             <td>Least Squares</td>  <th>  F-statistic:       </th> <td>   1769.</td>\n",
       "</tr>\n",
       "<tr>\n",
       "  <th>Date:</th>             <td>Fri, 21 Jun 2024</td> <th>  Prob (F-statistic):</th>  <td>  0.00</td> \n",
       "</tr>\n",
       "<tr>\n",
       "  <th>Time:</th>                 <td>13:51:29</td>     <th>  Log-Likelihood:    </th> <td> -593.75</td>\n",
       "</tr>\n",
       "<tr>\n",
       "  <th>No. Observations:</th>      <td>  1104</td>      <th>  AIC:               </th> <td>   1196.</td>\n",
       "</tr>\n",
       "<tr>\n",
       "  <th>Df Residuals:</th>          <td>  1100</td>      <th>  BIC:               </th> <td>   1216.</td>\n",
       "</tr>\n",
       "<tr>\n",
       "  <th>Df Model:</th>              <td>     3</td>      <th>                     </th>     <td> </td>   \n",
       "</tr>\n",
       "<tr>\n",
       "  <th>Covariance Type:</th>      <td>nonrobust</td>    <th>                     </th>     <td> </td>   \n",
       "</tr>\n",
       "</table>\n",
       "<table class=\"simpletable\">\n",
       "<tr>\n",
       "       <td></td>         <th>coef</th>     <th>std err</th>      <th>t</th>      <th>P>|t|</th>  <th>[0.025</th>    <th>0.975]</th>  \n",
       "</tr>\n",
       "<tr>\n",
       "  <th>Intercept</th>  <td>-4.857e-16</td> <td>    0.012</td> <td>-3.89e-14</td> <td> 1.000</td> <td>   -0.025</td> <td>    0.025</td>\n",
       "</tr>\n",
       "<tr>\n",
       "  <th>Alter</th>      <td>    0.2347</td> <td>    0.019</td> <td>   12.161</td> <td> 0.000</td> <td>    0.197</td> <td>    0.273</td>\n",
       "</tr>\n",
       "<tr>\n",
       "  <th>Einkommen</th>  <td>    0.7163</td> <td>    0.019</td> <td>   37.095</td> <td> 0.000</td> <td>    0.678</td> <td>    0.754</td>\n",
       "</tr>\n",
       "<tr>\n",
       "  <th>Geschlecht</th> <td>    0.0419</td> <td>    0.013</td> <td>    3.352</td> <td> 0.001</td> <td>    0.017</td> <td>    0.066</td>\n",
       "</tr>\n",
       "</table>\n",
       "<table class=\"simpletable\">\n",
       "<tr>\n",
       "  <th>Omnibus:</th>       <td> 1.239</td> <th>  Durbin-Watson:     </th> <td>   2.111</td>\n",
       "</tr>\n",
       "<tr>\n",
       "  <th>Prob(Omnibus):</th> <td> 0.538</td> <th>  Jarque-Bera (JB):  </th> <td>   1.244</td>\n",
       "</tr>\n",
       "<tr>\n",
       "  <th>Skew:</th>          <td> 0.016</td> <th>  Prob(JB):          </th> <td>   0.537</td>\n",
       "</tr>\n",
       "<tr>\n",
       "  <th>Kurtosis:</th>      <td> 2.839</td> <th>  Cond. No.          </th> <td>    2.72</td>\n",
       "</tr>\n",
       "</table><br/><br/>Notes:<br/>[1] Standard Errors assume that the covariance matrix of the errors is correctly specified."
      ],
      "text/latex": [
       "\\begin{center}\n",
       "\\begin{tabular}{lclc}\n",
       "\\toprule\n",
       "\\textbf{Dep. Variable:}    &      Preis       & \\textbf{  R-squared:         } &     0.828   \\\\\n",
       "\\textbf{Model:}            &       OLS        & \\textbf{  Adj. R-squared:    } &     0.828   \\\\\n",
       "\\textbf{Method:}           &  Least Squares   & \\textbf{  F-statistic:       } &     1769.   \\\\\n",
       "\\textbf{Date:}             & Fri, 21 Jun 2024 & \\textbf{  Prob (F-statistic):} &     0.00    \\\\\n",
       "\\textbf{Time:}             &     13:51:29     & \\textbf{  Log-Likelihood:    } &   -593.75   \\\\\n",
       "\\textbf{No. Observations:} &        1104      & \\textbf{  AIC:               } &     1196.   \\\\\n",
       "\\textbf{Df Residuals:}     &        1100      & \\textbf{  BIC:               } &     1216.   \\\\\n",
       "\\textbf{Df Model:}         &           3      & \\textbf{                     } &             \\\\\n",
       "\\textbf{Covariance Type:}  &    nonrobust     & \\textbf{                     } &             \\\\\n",
       "\\bottomrule\n",
       "\\end{tabular}\n",
       "\\begin{tabular}{lcccccc}\n",
       "                    & \\textbf{coef} & \\textbf{std err} & \\textbf{t} & \\textbf{P$> |$t$|$} & \\textbf{[0.025} & \\textbf{0.975]}  \\\\\n",
       "\\midrule\n",
       "\\textbf{Intercept}  &   -4.857e-16  &        0.012     & -3.89e-14  &         1.000        &       -0.025    &        0.025     \\\\\n",
       "\\textbf{Alter}      &       0.2347  &        0.019     &    12.161  &         0.000        &        0.197    &        0.273     \\\\\n",
       "\\textbf{Einkommen}  &       0.7163  &        0.019     &    37.095  &         0.000        &        0.678    &        0.754     \\\\\n",
       "\\textbf{Geschlecht} &       0.0419  &        0.013     &     3.352  &         0.001        &        0.017    &        0.066     \\\\\n",
       "\\bottomrule\n",
       "\\end{tabular}\n",
       "\\begin{tabular}{lclc}\n",
       "\\textbf{Omnibus:}       &  1.239 & \\textbf{  Durbin-Watson:     } &    2.111  \\\\\n",
       "\\textbf{Prob(Omnibus):} &  0.538 & \\textbf{  Jarque-Bera (JB):  } &    1.244  \\\\\n",
       "\\textbf{Skew:}          &  0.016 & \\textbf{  Prob(JB):          } &    0.537  \\\\\n",
       "\\textbf{Kurtosis:}      &  2.839 & \\textbf{  Cond. No.          } &     2.72  \\\\\n",
       "\\bottomrule\n",
       "\\end{tabular}\n",
       "%\\caption{OLS Regression Results}\n",
       "\\end{center}\n",
       "\n",
       "Notes: \\newline\n",
       " [1] Standard Errors assume that the covariance matrix of the errors is correctly specified."
      ],
      "text/plain": [
       "<class 'statsmodels.iolib.summary.Summary'>\n",
       "\"\"\"\n",
       "                            OLS Regression Results                            \n",
       "==============================================================================\n",
       "Dep. Variable:                  Preis   R-squared:                       0.828\n",
       "Model:                            OLS   Adj. R-squared:                  0.828\n",
       "Method:                 Least Squares   F-statistic:                     1769.\n",
       "Date:                Fri, 21 Jun 2024   Prob (F-statistic):               0.00\n",
       "Time:                        13:51:29   Log-Likelihood:                -593.75\n",
       "No. Observations:                1104   AIC:                             1196.\n",
       "Df Residuals:                    1100   BIC:                             1216.\n",
       "Df Model:                           3                                         \n",
       "Covariance Type:            nonrobust                                         \n",
       "==============================================================================\n",
       "                 coef    std err          t      P>|t|      [0.025      0.975]\n",
       "------------------------------------------------------------------------------\n",
       "Intercept  -4.857e-16      0.012  -3.89e-14      1.000      -0.025       0.025\n",
       "Alter          0.2347      0.019     12.161      0.000       0.197       0.273\n",
       "Einkommen      0.7163      0.019     37.095      0.000       0.678       0.754\n",
       "Geschlecht     0.0419      0.013      3.352      0.001       0.017       0.066\n",
       "==============================================================================\n",
       "Omnibus:                        1.239   Durbin-Watson:                   2.111\n",
       "Prob(Omnibus):                  0.538   Jarque-Bera (JB):                1.244\n",
       "Skew:                           0.016   Prob(JB):                        0.537\n",
       "Kurtosis:                       2.839   Cond. No.                         2.72\n",
       "==============================================================================\n",
       "\n",
       "Notes:\n",
       "[1] Standard Errors assume that the covariance matrix of the errors is correctly specified.\n",
       "\"\"\""
      ]
     },
     "execution_count": 26,
     "metadata": {},
     "output_type": "execute_result"
    }
   ],
   "source": [
    "dp_16 = dp_1 [[\"Alter\", \"Einkommen\", \"Geschlecht\", \"Preis\"]]\n",
    "\n",
    "#Standatisierung einfügen, Auswahl der Spalten mit numerischen Datentyp, Entfernen aller Zeilen\n",
    "#die mind. einen fehlenden Wert enthalten\n",
    "dp_standart = dp_16.select_dtypes(include = [np.number]).dropna().apply(stats.zscore)\n",
    "\n",
    "#Regression einfügen\n",
    "formel = \"Preis ~ Alter + Einkommen + Geschlecht\"\n",
    "result = smf.ols(formel, data=dp_standart).fit()\n",
    "\n",
    "result.summary()"
   ]
  },
  {
   "cell_type": "markdown",
   "id": "34f918c3",
   "metadata": {
    "slideshow": {
     "slide_type": "subslide"
    }
   },
   "source": [
    "Das Einkommen scheint den Kaufpreis am stärksten zu beeinflussen, gefolgt vom Alter. "
   ]
  },
  {
   "cell_type": "markdown",
   "id": "60860e17",
   "metadata": {
    "slideshow": {
     "slide_type": "slide"
    }
   },
   "source": [
    "## F17: Schätzung der Regression, die die Wahrscheinlichkeit des Kaufes eines Autos ermittelt"
   ]
  },
  {
   "cell_type": "code",
   "execution_count": 37,
   "id": "d22f398d",
   "metadata": {
    "slideshow": {
     "slide_type": "subslide"
    }
   },
   "outputs": [
    {
     "name": "stdout",
     "output_type": "stream",
     "text": [
      "Optimization terminated successfully.\n",
      "         Current function value: 0.578993\n",
      "         Iterations 6\n"
     ]
    },
    {
     "data": {
      "text/html": [
       "<table class=\"simpletable\">\n",
       "<caption>Logit Regression Results</caption>\n",
       "<tr>\n",
       "  <th>Dep. Variable:</th>         <td>Kunde</td>      <th>  No. Observations:  </th>  <td>  1995</td>  \n",
       "</tr>\n",
       "<tr>\n",
       "  <th>Model:</th>                 <td>Logit</td>      <th>  Df Residuals:      </th>  <td>  1990</td>  \n",
       "</tr>\n",
       "<tr>\n",
       "  <th>Method:</th>                 <td>MLE</td>       <th>  Df Model:          </th>  <td>     4</td>  \n",
       "</tr>\n",
       "<tr>\n",
       "  <th>Date:</th>            <td>Fri, 21 Jun 2024</td> <th>  Pseudo R-squ.:     </th>  <td>0.1578</td>  \n",
       "</tr>\n",
       "<tr>\n",
       "  <th>Time:</th>                <td>13:59:01</td>     <th>  Log-Likelihood:    </th> <td> -1155.1</td> \n",
       "</tr>\n",
       "<tr>\n",
       "  <th>converged:</th>             <td>True</td>       <th>  LL-Null:           </th> <td> -1371.4</td> \n",
       "</tr>\n",
       "<tr>\n",
       "  <th>Covariance Type:</th>     <td>nonrobust</td>    <th>  LLR p-value:       </th> <td>2.395e-92</td>\n",
       "</tr>\n",
       "</table>\n",
       "<table class=\"simpletable\">\n",
       "<tr>\n",
       "       <td></td>         <th>coef</th>     <th>std err</th>      <th>z</th>      <th>P>|z|</th>  <th>[0.025</th>    <th>0.975]</th>  \n",
       "</tr>\n",
       "<tr>\n",
       "  <th>Intercept</th>  <td>   -2.4436</td> <td>    0.263</td> <td>   -9.275</td> <td> 0.000</td> <td>   -2.960</td> <td>   -1.927</td>\n",
       "</tr>\n",
       "<tr>\n",
       "  <th>Alter</th>      <td>    0.0181</td> <td>    0.007</td> <td>    2.641</td> <td> 0.008</td> <td>    0.005</td> <td>    0.032</td>\n",
       "</tr>\n",
       "<tr>\n",
       "  <th>Einkommen</th>  <td>-4.218e-05</td> <td> 5.43e-06</td> <td>   -7.768</td> <td> 0.000</td> <td>-5.28e-05</td> <td>-3.15e-05</td>\n",
       "</tr>\n",
       "<tr>\n",
       "  <th>Geschlecht</th> <td>    0.2467</td> <td>    0.103</td> <td>    2.395</td> <td> 0.017</td> <td>    0.045</td> <td>    0.449</td>\n",
       "</tr>\n",
       "<tr>\n",
       "  <th>Zeit</th>       <td>    0.1022</td> <td>    0.006</td> <td>   17.531</td> <td> 0.000</td> <td>    0.091</td> <td>    0.114</td>\n",
       "</tr>\n",
       "</table>"
      ],
      "text/latex": [
       "\\begin{center}\n",
       "\\begin{tabular}{lclc}\n",
       "\\toprule\n",
       "\\textbf{Dep. Variable:}   &      Kunde       & \\textbf{  No. Observations:  } &     1995    \\\\\n",
       "\\textbf{Model:}           &      Logit       & \\textbf{  Df Residuals:      } &     1990    \\\\\n",
       "\\textbf{Method:}          &       MLE        & \\textbf{  Df Model:          } &        4    \\\\\n",
       "\\textbf{Date:}            & Fri, 21 Jun 2024 & \\textbf{  Pseudo R-squ.:     } &   0.1578    \\\\\n",
       "\\textbf{Time:}            &     13:59:01     & \\textbf{  Log-Likelihood:    } &   -1155.1   \\\\\n",
       "\\textbf{converged:}       &       True       & \\textbf{  LL-Null:           } &   -1371.4   \\\\\n",
       "\\textbf{Covariance Type:} &    nonrobust     & \\textbf{  LLR p-value:       } & 2.395e-92   \\\\\n",
       "\\bottomrule\n",
       "\\end{tabular}\n",
       "\\begin{tabular}{lcccccc}\n",
       "                    & \\textbf{coef} & \\textbf{std err} & \\textbf{z} & \\textbf{P$> |$z$|$} & \\textbf{[0.025} & \\textbf{0.975]}  \\\\\n",
       "\\midrule\n",
       "\\textbf{Intercept}  &      -2.4436  &        0.263     &    -9.275  &         0.000        &       -2.960    &       -1.927     \\\\\n",
       "\\textbf{Alter}      &       0.0181  &        0.007     &     2.641  &         0.008        &        0.005    &        0.032     \\\\\n",
       "\\textbf{Einkommen}  &   -4.218e-05  &     5.43e-06     &    -7.768  &         0.000        &    -5.28e-05    &    -3.15e-05     \\\\\n",
       "\\textbf{Geschlecht} &       0.2467  &        0.103     &     2.395  &         0.017        &        0.045    &        0.449     \\\\\n",
       "\\textbf{Zeit}       &       0.1022  &        0.006     &    17.531  &         0.000        &        0.091    &        0.114     \\\\\n",
       "\\bottomrule\n",
       "\\end{tabular}\n",
       "%\\caption{Logit Regression Results}\n",
       "\\end{center}"
      ],
      "text/plain": [
       "<class 'statsmodels.iolib.summary.Summary'>\n",
       "\"\"\"\n",
       "                           Logit Regression Results                           \n",
       "==============================================================================\n",
       "Dep. Variable:                  Kunde   No. Observations:                 1995\n",
       "Model:                          Logit   Df Residuals:                     1990\n",
       "Method:                           MLE   Df Model:                            4\n",
       "Date:                Fri, 21 Jun 2024   Pseudo R-squ.:                  0.1578\n",
       "Time:                        13:59:01   Log-Likelihood:                -1155.1\n",
       "converged:                       True   LL-Null:                       -1371.4\n",
       "Covariance Type:            nonrobust   LLR p-value:                 2.395e-92\n",
       "==============================================================================\n",
       "                 coef    std err          z      P>|z|      [0.025      0.975]\n",
       "------------------------------------------------------------------------------\n",
       "Intercept     -2.4436      0.263     -9.275      0.000      -2.960      -1.927\n",
       "Alter          0.0181      0.007      2.641      0.008       0.005       0.032\n",
       "Einkommen  -4.218e-05   5.43e-06     -7.768      0.000   -5.28e-05   -3.15e-05\n",
       "Geschlecht     0.2467      0.103      2.395      0.017       0.045       0.449\n",
       "Zeit           0.1022      0.006     17.531      0.000       0.091       0.114\n",
       "==============================================================================\n",
       "\"\"\""
      ]
     },
     "execution_count": 37,
     "metadata": {},
     "output_type": "execute_result"
    }
   ],
   "source": [
    "#Erste Zeile Anzeigen lassen für die Reihenfolge\n",
    "final_dp.head(1)\n",
    "\n",
    "# Logisches Regressionsmodell \"smf.logit()\", Kunde ist die Abhängige Variable, \"fit()\" passt Modell an Daten an\n",
    "Regression = smf.logit(\"Kunde ~ Alter + Einkommen + Geschlecht + Zeit\", data =final_dp).fit()\n",
    "Regression\n",
    "\n",
    "Regression.summary()"
   ]
  },
  {
   "cell_type": "markdown",
   "id": "e6949744",
   "metadata": {
    "slideshow": {
     "slide_type": "slide"
    }
   },
   "source": [
    "## F18: Wie hoch ist die Wahrscheinlichkeit, dass ein Autokauf mit m1 und m2 zu stande kommt? (m,32,30.000€,30min) & (m,51,54.000€,45min)"
   ]
  },
  {
   "cell_type": "code",
   "execution_count": 54,
   "id": "8e60e3c6",
   "metadata": {
    "slideshow": {
     "slide_type": "subslide"
    }
   },
   "outputs": [
    {
     "data": {
      "text/plain": [
       "('Wahrscheinlichkeit das Auto gekauft wird:', 0.5457047833936952)"
      ]
     },
     "execution_count": 54,
     "metadata": {},
     "output_type": "execute_result"
    }
   ],
   "source": [
    "#Für die Person 1 muss zunächst ein DataFrame erstellt werden.\n",
    "Person_1 = pd.DataFrame({\"Alter\":[32], \"Einkommen\": [30000], \"Geschlecht\": [1], \"Zeit\": [30]})\n",
    "\n",
    "#Wahrscheinlichkeit vorhersagen\n",
    "Kaufwahrscheinlichkeit = Regression.predict(Person_1)\n",
    "\n",
    "(\"Wahrscheinlichkeit das Auto gekauft wird:\", Kaufwahrscheinlichkeit.values[0])"
   ]
  },
  {
   "cell_type": "markdown",
   "id": "2c6c3cb1",
   "metadata": {
    "slideshow": {
     "slide_type": "subslide"
    }
   },
   "source": [
    "Die Kaufwahrscheinlichkeit liegt für Person 1 bei ca. 55%. "
   ]
  },
  {
   "cell_type": "code",
   "execution_count": 55,
   "id": "c3caf034",
   "metadata": {
    "slideshow": {
     "slide_type": "subslide"
    }
   },
   "outputs": [
    {
     "data": {
      "text/plain": [
       "('Wahrscheinlichkeit das Auto gekauft wird:', 0.7404314090975102)"
      ]
     },
     "execution_count": 55,
     "metadata": {},
     "output_type": "execute_result"
    }
   ],
   "source": [
    "#Für die Person 2 muss auch ein DataFrame erstellt werden.\n",
    "Person_2 = pd.DataFrame({\"Alter\":[51], \"Einkommen\": [54000], \"Geschlecht\": [1], \"Zeit\": [45]})\n",
    "\n",
    "#Wahrscheinlichkeit vorhersagen\n",
    "Kaufwahrscheinlichkeit = Regression.predict(Person_2)\n",
    "\n",
    "(\"Wahrscheinlichkeit das Auto gekauft wird:\", Kaufwahrscheinlichkeit.values[0])"
   ]
  },
  {
   "cell_type": "markdown",
   "id": "4afb3b85",
   "metadata": {
    "slideshow": {
     "slide_type": "subslide"
    }
   },
   "source": [
    "Die Kaufwahrscheinlichkeit liegt für Person 2 bei ca. 74%."
   ]
  },
  {
   "cell_type": "markdown",
   "id": "14680b5d",
   "metadata": {
    "slideshow": {
     "slide_type": "slide"
    }
   },
   "source": [
    "## F19: Probleme "
   ]
  },
  {
   "cell_type": "markdown",
   "id": "61594e54",
   "metadata": {
    "slideshow": {
     "slide_type": "subslide"
    }
   },
   "source": [
    "### 1. Es haben Daten gefehlt.\n",
    "\n",
    "Alter         0\n",
    "Einkommen     0\n",
    "Preis         0\n",
    "Geschlecht    5\n",
    "Zeit          0\n",
    "KundeNr       0\n",
    "\n",
    "Es fehlten 5 Daten in der Spalte \"Geschlecht\". Die fehlenden Werte werden mit 1 aufgefüllt:\n",
    "\n",
    "dp_1[\"Geschlecht\"] = dp_1[\"Geschlecht\"].fillna(1)"
   ]
  },
  {
   "cell_type": "markdown",
   "id": "f2139a88",
   "metadata": {
    "slideshow": {
     "slide_type": "subslide"
    }
   },
   "source": [
    "### 2. Spalte \"Alter\" hat 2 sehr hohe Werte 100 und 120, welche beide 1x vorkamen Altergruppe 55 traten sehr häufig in Erscheinung, deshalb haben wir jede Zahl über 100 druch die 55 ersetzt.\n",
    "\n",
    "Alter 55 41 62 39 57 34 66 33 64 32 30 32 34 31 69 30 37 30 31 30 52 29 54 29 58 29 65 29 53 29 61 29 68 29 59 28 35 27 51 27 41 26 40 26 43 26 32 26 46 26 39 24 48 24 38 24 33 24 44 23 50 23 67 23 42 22 70 22 56 22 45 22 49 22 63 21 60 20 47 20 36 19\n",
    "\n",
    "#### 100 1\n",
    "#### 120 1\n",
    "\n",
    "dp_1[\"Alter\"] = dp_1[\"Alter\"]. apply(lambda x: 55 if x >= 100 else x)"
   ]
  },
  {
   "cell_type": "markdown",
   "id": "6d25f576",
   "metadata": {
    "slideshow": {
     "slide_type": "subslide"
    }
   },
   "source": [
    "### 3. Spalte \"Einkommen\" hatte sehr hohe positive und negative Zahlen und auch Werte von 0. Wir haben uns für den Wert Median entschieden und alle zu hohen oder niedrigen werde gegen den Median ausgetauscht.\n",
    "\n",
    "median_einkommen = dp_1[\"Einkommen\"].median()\n",
    "\n",
    "dp_1[\"Einkommen\"] = dp_1[\"Einkommen\"].apply(lamda x: median_einkommen if x <= 0 or x >= 1000000 else x)"
   ]
  },
  {
   "cell_type": "markdown",
   "id": "406dddbb",
   "metadata": {
    "slideshow": {
     "slide_type": "subslide"
    }
   },
   "source": [
    "### 4. Die Datentypen der Datensätze haben nicht übereingestimmt\n",
    "\n",
    "dp_1.dtypes\n",
    "Alter           int64\n",
    "Einkommen     float64\n",
    "Preis         float64\n",
    "Geschlecht    float64\n",
    "Zeit          float64\n",
    "KundeNr        object\n",
    "dtype: object\n",
    "\n",
    "dp_2-dtypes\n",
    "Alter          int64\n",
    "Einkommen     object\n",
    "Geschlecht     int64\n",
    "Zeit          object\n",
    "KundeNr       object\n",
    "dtype: object"
   ]
  },
  {
   "cell_type": "markdown",
   "id": "a24cd0a5",
   "metadata": {
    "slideshow": {
     "slide_type": "subslide"
    }
   },
   "source": [
    "Die Datentypen müssen übereinstimmen, damit keine Fehler auftreten. Diese wurden entsprechend geändert:\n",
    "\n",
    "dp_1[\"Geschlecht\"] = dp_1[\"Geschlecht\"].astype(\"int64\")\n",
    "\n",
    "#dp_2[\"Einkommen\"] = pd.to_numeric(dp_2[\"Einkommen\"].str.replace(',','.'), errors = \"coerce\")\n",
    "#dp_2[\"Zeit\"] = pd.to_numeric(dp_2[\"Zeit\"].str.replace(',','.'), errors = \"coerce\")\n",
    "\n",
    "Der Befehl \"coerce\" setzt für Elemente, die nicht verändert werden können, ein \"NaN\" ein. Dadurch kommen keine Fehlermeldungen."
   ]
  },
  {
   "cell_type": "markdown",
   "id": "355f2858",
   "metadata": {
    "slideshow": {
     "slide_type": "subslide"
    }
   },
   "source": [
    "### 5. Die Bundesländer haben verschiedene Schreibweisen. Es werden verschiedene Bezirke benutzt und Abkürzungen.\n",
    "\n",
    "final_dp[\"Niederlassung\"].unique()\n",
    "#array(['Bayern', 'Berlin', 'Baden-Württemberg', 'Hessen', 'Thüringen',\n",
    "      'Sachsen', 'Nordrhein-Westfalen', 'BERLIN', 'Niedersachsen',\n",
    "      'Hamburg', 'Brandenburg', 'Berlin-Mitte', 'Düsseldorf', 'NRW',\n",
    "       'Berlin-Charlottenburg'], dtype=object)"
   ]
  },
  {
   "cell_type": "markdown",
   "id": "934d29fd",
   "metadata": {
    "slideshow": {
     "slide_type": "subslide"
    }
   },
   "source": [
    "Die Bundesländer wurden einheitlich gemacht und zusammengeführt:\n",
    "\n",
    "final_dp[\"Niederlassung\"] = final_dp [\"Niederlassung\"].replace(\"Düsseldorf\", \"Nordrhein-Westfalen\")\n",
    "final_dp[\"Niederlassung\"] = final_dp [\"Niederlassung\"].replace(\"BERLIN\", \"Berlin\")\n",
    "final_dp[\"Niederlassung\"] = final_dp [\"Niederlassung\"].replace(\"Berlin-Charlottenburg\", \"Berlin\")\n",
    "final_dp[\"Niederlassung\"] = final_dp [\"Niederlassung\"].replace(\"Berlin-Mitte\", \"Berlin\")\n",
    "final_dp[\"Niederlassung\"] = final_dp [\"Niederlassung\"].replace(\"NRW\", \"Nordrhein-Westfalen\")\n",
    "\n",
    "Das Ergebniss sah wie folgt aus:\n",
    "\n",
    "#array(['Bayern', 'Berlin', 'Baden-Württemberg', 'Hessen', 'Thüringen',\n",
    "       'Sachsen', 'Nordrhein-Westfalen', 'Niedersachsen', 'Hamburg',\n",
    "       'Brandenburg'], dtype=object)"
   ]
  },
  {
   "cell_type": "markdown",
   "id": "83cb7154",
   "metadata": {
    "slideshow": {
     "slide_type": "slide"
    }
   },
   "source": [
    "## F20: Vorschläge für die Kundenabteilung"
   ]
  },
  {
   "cell_type": "markdown",
   "id": "ca305217",
   "metadata": {
    "slideshow": {
     "slide_type": "subslide"
    }
   },
   "source": [
    "Ein Unternehmen möchte immer online gut vertreten sein.\n",
    "\n",
    "Vorschlag 1: Umfrage an die Kunden, über welche Medien sie auf das Auto oder unser Unternehmen aufmerksam geworden sind und ob dies ihre Kaufentscheidung beeinflusst hat.\n",
    "\n",
    "Ein Unternehmen möchte auch immer, dass die Kunden zufrieden sind, damit sie Kunden bleiben und erneut bei ihnen einkaufen.\n",
    "\n",
    "Vorschlag 2: Umfrage an die Kunden, wie ihnen die Servicequalität gefallen hat und wie zufrieden sie mit der Beratung sind, z.B. in einer Skala von 1-10."
   ]
  }
 ],
 "metadata": {
  "celltoolbar": "Slideshow",
  "kernelspec": {
   "display_name": "Python 3 (ipykernel)",
   "language": "python",
   "name": "python3"
  },
  "language_info": {
   "codemirror_mode": {
    "name": "ipython",
    "version": 3
   },
   "file_extension": ".py",
   "mimetype": "text/x-python",
   "name": "python",
   "nbconvert_exporter": "python",
   "pygments_lexer": "ipython3",
   "version": "3.11.5"
  }
 },
 "nbformat": 4,
 "nbformat_minor": 5
}
